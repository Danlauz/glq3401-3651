{
 "cells": [
  {
   "cell_type": "markdown",
   "id": "ad86cd13-08de-4e40-9c6e-a8c38ae3e232",
   "metadata": {
    "editable": true,
    "slideshow": {
     "slide_type": ""
    },
    "tags": []
   },
   "source": [
    "# Définition variogramme et covariance spatiale\n",
    "\n",
    "## 🧩 SCÉNARIO 1 : Impact de la distance $ h $ sur la covariance et le variogramme\n",
    "\n",
    "### 🎯 But pédagogique\n",
    "Montrer comment la dépendance spatiale s'atténue avec la distance.\n",
    "\n",
    "> 💡 **Note** : La covariance diminue généralement avec la distance, ce qui reflète une perte de dépendance spatiale. Toutefois, certains modèles, comme l’**effet de trou**, présentent une covariance qui oscille autour d’une valeur. Cela entraîne des alternances de pertes et de gains de covariance à mesure que la distance $ h $ augmente.\n",
    "\n",
    "### ⚙️ Fonctionnalités\n",
    "- Nous tirerons un ensemble de paire de points : $ z(x) $ et $ z(x + h) $, tirés d’un champ 1D (par exemple, un processus stochstique avec covariance définie).\n",
    "- **Slider** : distance $ h $, type de covariance.\n",
    "\n",
    "### 📈 Valeurs affichées\n",
    "- Covariance : $\\text{Cov}(h)$\n",
    "- Corrélation : $\\rho(h)$\n",
    "- Variogramme : $\\gamma(h)$"
   ]
  },
  {
   "cell_type": "code",
   "execution_count": 1,
   "id": "0d835f40-e5d3-4776-8cae-c8e3bcbb9c41",
   "metadata": {
    "editable": true,
    "slideshow": {
     "slide_type": ""
    },
    "tags": [
     "remove-input",
     "remove-output",
     "hide-input"
    ]
   },
   "outputs": [
    {
     "data": {
      "application/vnd.jupyter.widget-view+json": {
       "model_id": "e41e2989c3b24c87983e958b199ba5d2",
       "version_major": 2,
       "version_minor": 0
      },
      "text/plain": [
       "interactive(children=(Dropdown(description='Modèle', options=('Sphérique', 'Exponentiel', 'Gaussien', 'Effet d…"
      ]
     },
     "metadata": {},
     "output_type": "display_data"
    }
   ],
   "source": [
    "import numpy as np\n",
    "import matplotlib.pyplot as plt\n",
    "from ipywidgets import interact, Dropdown, BoundedFloatText, BoundedIntText\n",
    "\n",
    "# --- Modèles de covariance ---\n",
    "def spherical_model(h, range_, sill):\n",
    "    h = np.abs(h)\n",
    "    return np.where(h <= range_, sill * (1 - 1.5 * h / range_ + 0.5 * (h / range_)**3), 0)\n",
    "\n",
    "def exponential_model(h, range_, sill):\n",
    "    h = np.abs(h)\n",
    "    return sill * np.exp(-3 * h / range_)\n",
    "\n",
    "def gaussian_model(h, range_, sill):\n",
    "    h = np.abs(h)\n",
    "    return sill * np.exp(-np.sqrt(3) * (h / range_)**2)\n",
    "\n",
    "def nugget_model(h, sill):\n",
    "    return sill * (h == 0)\n",
    "\n",
    "def compute_covariance(model, range_, sill, n):\n",
    "    h = np.fft.fftshift(np.arange(-n//2, n//2))\n",
    "    if model == \"Sphérique\":\n",
    "        cov = spherical_model(h, range_, sill)\n",
    "    elif model == \"Exponentiel\":\n",
    "        cov = exponential_model(h, range_, sill)\n",
    "    elif model == \"Gaussien\":\n",
    "        cov = gaussian_model(h, range_, sill)\n",
    "    elif model == \"Effet de pépite\":\n",
    "        cov = nugget_model(h, sill)\n",
    "    return cov\n",
    "\n",
    "# --- FFT-MA 1D ---\n",
    "def fftma_1d(model=\"Sphérique\", range_=20.0, sill=1.0, n=1024, seed=1542):\n",
    "    if seed is not None:\n",
    "        np.random.seed(seed)\n",
    "    \n",
    "    cov = compute_covariance(model, range_, sill, 2*n)\n",
    "    spectrum = np.fft.fft(cov)\n",
    "    spectrum = np.where(spectrum.real < 0, 0, spectrum)\n",
    "    amp = np.sqrt(spectrum)\n",
    "    noise = np.random.normal(0, 1, 2*n)\n",
    "    field_fft = amp * np.fft.fft(noise)\n",
    "    field = np.fft.ifft(field_fft).real[:n]\n",
    "    field = (field - field.mean()) / field.std()\n",
    "    field *= np.sqrt(sill)\n",
    "    return field\n",
    "\n",
    "# --- Affichage interactif avec deux figures ---\n",
    "def plot_variogram_with_stats(model, range_, sill, h_shift):\n",
    "    n = 10000\n",
    "    z = fftma_1d(model, range_, sill, n)\n",
    "    \n",
    "    h = int(h_shift)\n",
    "    z_x = z[:-h]\n",
    "    z_xh = z[h:]\n",
    "\n",
    "    cov_emp = np.cov(z_x, z_xh)[0, 1]\n",
    "    corr_emp = np.corrcoef(z_x, z_xh)[0, 1]\n",
    "    gamma_emp = 0.5 * np.mean((z_x - z_xh)**2)\n",
    "    length = 2 * gamma_emp\n",
    "\n",
    "    h_vals = np.arange(1, 100)\n",
    "    gamma_vals = []\n",
    "    cov_vals = []\n",
    "    corr_vals = []\n",
    "    for hh in h_vals:\n",
    "        zx = z[:-hh]\n",
    "        zxh = z[hh:]\n",
    "        gamma_vals.append(0.5 * np.mean((zx - zxh)**2))\n",
    "        cov_vals.append(np.cov(zx, zxh)[0, 1])\n",
    "        corr_vals.append(np.corrcoef(zx, zxh)[0, 1])\n",
    "\n",
    "    fig, axs = plt.subplots(1, 2, figsize=(14, 6))\n",
    "\n",
    "    axs[0].scatter(z_x, z_xh, alpha=0.4)\n",
    "    axs[0].plot([-4, 4], [-4, 4], 'k--', lw=1, label=\"z(x) = z(x+h)\")\n",
    "    mean_z = 0\n",
    "    dx, dy = 1 / np.sqrt(2), -1 / np.sqrt(2)\n",
    "    x0, y0 = mean_z - dx * length, mean_z - dy * length\n",
    "    x1, y1 = mean_z + dx * length, mean_z + dy * length\n",
    "    axs[0].plot([x0, x1], [y0, y1], 'r-', lw=4, label=r\"$2\\gamma(h)$\")\n",
    "    axs[0].set_xlabel(\"z(x)\")\n",
    "    axs[0].set_ylabel(\"z(x + h)\")\n",
    "    axs[0].set_title(f\"{model} | h = {h} px\\ncov = {cov_emp:.2f}, ρ = {corr_emp:.2f}, γ(h) = {gamma_emp:.2f}\")\n",
    "    axs[0].legend(loc='upper left')\n",
    "    axs[0].grid(True)\n",
    "    axs[0].set_xlim(-4, 4)\n",
    "    axs[0].set_ylim(-4, 4)\n",
    "    axs[0].set_aspect('equal', adjustable='box')\n",
    "\n",
    "    axs[1].plot(h_vals, gamma_vals, 'r*', label=r\"$\\gamma(h)$ - Variogramme\")\n",
    "    axs[1].plot(h_vals, cov_vals, 'b*', label=\"Covariance\")\n",
    "    axs[1].plot(h_vals, corr_vals, 'g*', label=\"Corrélation\")\n",
    "    axs[1].axvline(h, color='k', linestyle='--', lw=1)\n",
    "    axs[1].set_xlabel(\"Distance h (pixels)\")\n",
    "    axs[1].set_title(\"Évolution du variogramme, covariance et corrélation\")\n",
    "    axs[1].legend(loc='upper right')\n",
    "    axs[1].grid(True)\n",
    "    axs[1].set_xlim(0, 100)\n",
    "    axs[1].set_ylim(-0.2*sill, max(1.5*sill, 1))\n",
    "\n",
    "    plt.tight_layout()\n",
    "    plt.show()\n",
    "\n",
    "# --- Interface interactive avec champs bornés ---\n",
    "interact(plot_variogram_with_stats,\n",
    "         model=Dropdown(options=[\"Sphérique\", \"Exponentiel\", \"Gaussien\", \"Effet de pépite\"], value=\"Sphérique\", description=\"Modèle\"),\n",
    "         range_=BoundedFloatText(value=20.0, min=5.0, max=100.0, step=1.0, description=\"Portée\"),\n",
    "         sill=BoundedFloatText(value=1.0, min=0.1, max=2.0, step=0.1, description=\"Variance\"),\n",
    "         h_shift=BoundedIntText(value=5, min=1, max=100, step=1, description=\"Décalage h\"));"
   ]
  },
  {
   "cell_type": "code",
   "execution_count": null,
   "id": "73910f49-853b-49fe-b46e-d4e69a835ca1",
   "metadata": {
    "editable": true,
    "slideshow": {
     "slide_type": ""
    },
    "tags": []
   },
   "outputs": [],
   "source": []
  }
 ],
 "metadata": {
  "kernelspec": {
   "display_name": "Python 3 (ipykernel)",
   "language": "python",
   "name": "python3"
  },
  "language_info": {
   "codemirror_mode": {
    "name": "ipython",
    "version": 3
   },
   "file_extension": ".py",
   "mimetype": "text/x-python",
   "name": "python",
   "nbconvert_exporter": "python",
   "pygments_lexer": "ipython3",
   "version": "3.11.11"
  }
 },
 "nbformat": 4,
 "nbformat_minor": 5
}
