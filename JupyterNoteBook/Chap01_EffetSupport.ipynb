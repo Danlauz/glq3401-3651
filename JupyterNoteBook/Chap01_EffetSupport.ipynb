{
 "cells": [
  {
   "cell_type": "markdown",
   "id": "d052aeee-8e5a-43ae-9277-ee830a9f526e",
   "metadata": {
    "editable": true,
    "slideshow": {
     "slide_type": ""
    },
    "tags": []
   },
   "source": [
    "### Effet du support\n",
    "\n",
    "Ce graphique interactif illustre de façon concrète l’effet du **changement d’échelle (support)** sur la **distribution des teneurs**.\n",
    "\n",
    "Au départ, deux gisements sont simulés avec une **distribution statistique identique** à l’échelle **ponctuelle (1 m × 1 m)**.  \n",
    "Mais que se passe-t-il lorsqu’on augmente la taille des blocs ?\n",
    "\n",
    "🔍 Grâce au **widget interactif ci-dessous**, vous pouvez ajuster la taille du **bloc de support** et observer en temps réel les conséquences :  \n",
    "Par exemple, un bloc de **10 m × 10 m** est simplement la **moyenne des 100 cellules** de **1 m × 1 m** qu’il contient.\n",
    "\n",
    "🗺️ Les **cartes**, 📊 les **histogrammes**, et 📈 les **fonctions de répartition cumulées** sont mis à jour automatiquement pour refléter les nouvelles propriétés statistiques du gisement après agrégation.\n",
    "\n",
    "💡 C’est une façon simple mais puissante de visualiser l’**effet de support spatial** — un concept clé en estimation minière.\n",
    "\n",
    "🎯 **Prenez quelques minutes pour explorer... et préparez vos questions pour la discussion en classe !**\n"
   ]
  },
  {
   "cell_type": "code",
   "execution_count": 1,
   "id": "46cdf436-e498-4a66-81c2-ecdb50f3e340",
   "metadata": {
    "editable": true,
    "slideshow": {
     "slide_type": ""
    },
    "tags": [
     "hide-input"
    ]
   },
   "outputs": [
    {
     "data": {
      "application/vnd.jupyter.widget-view+json": {
       "model_id": "83d9a1ec49464a75a632b12fcae76c89",
       "version_major": 2,
       "version_minor": 0
      },
      "text/plain": [
       "VBox(children=(HBox(children=(IntText(value=1, description='Support (m):'), Button(button_style='success', des…"
      ]
     },
     "execution_count": 1,
     "metadata": {},
     "output_type": "execute_result"
    }
   ],
   "source": [
    "import numpy as np\n",
    "import matplotlib.pyplot as plt\n",
    "from ipywidgets import VBox, HBox, IntText, Button, Output\n",
    "from numpy.fft import fft2, ifft2, fftshift\n",
    "\n",
    "# --- Fonctions (inchangées) ---\n",
    "def spherical_covariance_fft(size, range_, sill=1.0):\n",
    "    extended_size = 2 * size\n",
    "    x = np.arange(-extended_size//2, extended_size//2)\n",
    "    X, Y = np.meshgrid(x, x)\n",
    "    h = np.sqrt(X**2 + Y**2)\n",
    "    h = np.minimum(h, range_ * size)\n",
    "    cov = sill * (1 - 1.5 * (h / (range_ * size)) + 0.5 * (h / (range_ * size))**3)\n",
    "    cov[h > (range_ * size)] = 0\n",
    "    return fftshift(cov)\n",
    "\n",
    "def fftma_simulation(size, range_, sill=1.0, seed=0):\n",
    "    np.random.seed(seed)\n",
    "    extended_size = 2 * size\n",
    "    cov_model = spherical_covariance_fft(size, range_, sill)\n",
    "    cov_fft = fft2(cov_model)\n",
    "    white_noise = np.random.normal(size=(extended_size, extended_size))\n",
    "    white_fft = fft2(white_noise)\n",
    "    z_fft = np.sqrt(np.abs(cov_fft)) * white_fft\n",
    "    z_ext = np.real(ifft2(z_fft))\n",
    "    start = extended_size // 4\n",
    "    end = start + size\n",
    "    return z_ext[start:end, start:end]\n",
    "\n",
    "def gaussian_to_lognormal(field):\n",
    "    return np.exp(field)\n",
    "\n",
    "def match_histogram(reference, target):\n",
    "    flat_ref = np.sort(reference.ravel())\n",
    "    sorted_idx = np.argsort(target.ravel())\n",
    "    result = np.zeros_like(target.ravel())\n",
    "    result[sorted_idx] = flat_ref\n",
    "    return result.reshape(target.shape)\n",
    "\n",
    "def aggregate(field, block_size):\n",
    "    s = field.shape[0]\n",
    "    reduced_size = s // block_size\n",
    "    aggregated = np.zeros((reduced_size, reduced_size))\n",
    "    for i in range(reduced_size):\n",
    "        for j in range(reduced_size):\n",
    "            block = field[i*block_size:(i+1)*block_size, j*block_size:(j+1)*block_size]\n",
    "            aggregated[i, j] = np.mean(block)\n",
    "    return aggregated\n",
    "\n",
    "# --- Préparation des données initiales ---\n",
    "size = 500\n",
    "range_short = 10/size\n",
    "range_long = 250/size\n",
    "\n",
    "gauss_short = fftma_simulation(size=size, range_=range_short, seed=42)\n",
    "gauss_long = fftma_simulation(size=size, range_=range_long, seed=24)\n",
    "\n",
    "lognorm_short = gaussian_to_lognormal(gauss_short)\n",
    "lognorm_long = gaussian_to_lognormal(gauss_long)\n",
    "lognorm_long = match_histogram(lognorm_short, lognorm_long)\n",
    "\n",
    "# --- Affichage avec bouton ---\n",
    "def plot_fields(support):\n",
    "    fig, axes = plt.subplots(2, 2, figsize=(10, 7))\n",
    "\n",
    "    agg_short = aggregate(lognorm_short, support)\n",
    "    agg_long = aggregate(lognorm_long, support)\n",
    "\n",
    "    vmin, vmax = 0, 10\n",
    "    bins = np.linspace(0, 10, 11)\n",
    "    mean = np.mean(agg_short)\n",
    "\n",
    "    im0 = axes[0, 0].imshow(agg_short, cmap='viridis', vmin=vmin, vmax=vmax)\n",
    "    axes[0, 0].set_title(f'Portée courte – Support {support}×{support}', fontsize=12)\n",
    "    axes[0, 0].axis('off')\n",
    "    fig.colorbar(im0, ax=axes[0, 0], fraction=0.046, pad=0.04)\n",
    "\n",
    "    im1 = axes[0, 1].imshow(agg_long, cmap='viridis', vmin=vmin, vmax=vmax)\n",
    "    axes[0, 1].set_title(f'Portée longue – Support {support}×{support}', fontsize=12)\n",
    "    axes[0, 1].axis('off')\n",
    "    fig.colorbar(im1, ax=axes[0, 1], fraction=0.046, pad=0.04)\n",
    "\n",
    "    axes[1, 0].hist(agg_short.ravel(), bins=bins, alpha=0.6, color='steelblue', label='Portée courte', edgecolor='black')\n",
    "    axes[1, 0].hist(agg_long.ravel(), bins=bins, alpha=0.6, color='darkorange', label='Portée longue', edgecolor='black')\n",
    "    axes[1, 0].axvline(mean, color='black', linestyle='--', linewidth=2, label=f'Moyenne = {mean:.2f}')\n",
    "    axes[1, 0].set_title('Histogrammes superposés')\n",
    "    axes[1, 0].set_xlim([0, 10])\n",
    "    axes[1, 0].legend()\n",
    "    axes[1, 0].grid(True)\n",
    "\n",
    "    for data, color, label in zip([agg_short.ravel(), agg_long.ravel()],\n",
    "                                   ['steelblue', 'darkorange'],\n",
    "                                   ['Portée courte', 'Portée longue']):\n",
    "        sorted_data = np.sort(data)\n",
    "        ecdf = np.arange(1, len(sorted_data) + 1) / len(sorted_data)\n",
    "        axes[1, 1].plot(sorted_data, ecdf, color=color, lw=2, label=label)\n",
    "\n",
    "    axes[1, 1].axvline(mean, color='black', linestyle='--', linewidth=2, label=f'Moyenne = {mean:.2f}')\n",
    "    axes[1, 1].set_title('Fonctions de répartition cumulées')\n",
    "    axes[1, 1].set_xlim([0, 10])\n",
    "    axes[1, 1].set_ylim([0, 1])\n",
    "    axes[1, 1].grid(True)\n",
    "    axes[1, 1].legend()\n",
    "\n",
    "    plt.tight_layout()\n",
    "    plt.show()\n",
    "\n",
    "# --- Widgets\n",
    "support_input = IntText(value=1, description=\"Support (m):\", min=1)\n",
    "calc_button = Button(description=\"Calculer\", button_style=\"success\")\n",
    "output = Output()\n",
    "\n",
    "def on_calculate_clicked(b):\n",
    "    with output:\n",
    "        output.clear_output()\n",
    "        support = support_input.value\n",
    "        plot_fields(support)\n",
    "\n",
    "calc_button.on_click(on_calculate_clicked)\n",
    "\n",
    "# --- Affichage combiné\n",
    "VBox([HBox([support_input, calc_button]), output])"
   ]
  },
  {
   "cell_type": "code",
   "execution_count": null,
   "id": "ac8697ee-edc5-451c-9c7e-a665e441d418",
   "metadata": {
    "editable": true,
    "slideshow": {
     "slide_type": ""
    },
    "tags": []
   },
   "outputs": [],
   "source": []
  }
 ],
 "metadata": {
  "kernelspec": {
   "display_name": "Python 3 (ipykernel)",
   "language": "python",
   "name": "python3"
  },
  "language_info": {
   "codemirror_mode": {
    "name": "ipython",
    "version": 3
   },
   "file_extension": ".py",
   "mimetype": "text/x-python",
   "name": "python",
   "nbconvert_exporter": "python",
   "pygments_lexer": "ipython3",
   "version": "3.11.11"
  }
 },
 "nbformat": 4,
 "nbformat_minor": 5
}
