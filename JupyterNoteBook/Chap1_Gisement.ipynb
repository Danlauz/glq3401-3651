{
 "cells": [
  {
   "cell_type": "markdown",
   "id": "12323fa5-3765-4868-9917-f39f9df785d4",
   "metadata": {
    "editable": true,
    "slideshow": {
     "slide_type": ""
    },
    "tags": []
   },
   "source": [
    "### Gisement d'or\n",
    "\n",
    "**Impact de la teneur de coupure, de la corrélation spatiale sur la localiation des ressources**\n",
    "\n",
    "Tout au long de la session, nous allons apprendre à choisir une teneur de coupure, à estimer la corrélation spatiale d’un gisement, et surtout à comprendre comment ces paramètres influencent l’estimation des ressources.\n",
    "\n",
    "Mais pour l’instant… amusez-vous un peu !\n",
    "\n",
    "Explorez ce modèle 3D interactif et observez comment la localisation des ressources évolue lorsque vous modifiez la teneur de coupure ou le degré de corrélation spatiale.\n",
    "Un bon moyen de jouer les géologues tout en développant votre intuition !\n",
    "\n",
    "**Cette image interactive est encore en développement.**\n"
   ]
  },
  {
   "cell_type": "code",
   "execution_count": 32,
   "id": "db3316fd-c10b-45ee-aafc-ab5e92bcb30e",
   "metadata": {
    "editable": true,
    "slideshow": {
     "slide_type": ""
    },
    "tags": [
     "hide-input"
    ]
   },
   "outputs": [
    {
     "data": {
      "application/vnd.jupyter.widget-view+json": {
       "model_id": "edc549c3a67b4c7ca675e626b8a15cb5",
       "version_major": 2,
       "version_minor": 0
      },
      "text/plain": [
       "interactive(children=(FloatSlider(value=1.0, description='Moyenne', max=10.0, min=0.1), FloatSlider(value=1.0,…"
      ]
     },
     "metadata": {},
     "output_type": "display_data"
    },
    {
     "data": {
      "text/plain": [
       "<function __main__.interactive_sim_3d(mean, variance, cutoff, ax, ay, az, angle_x, angle_y, angle_z)>"
      ]
     },
     "execution_count": 32,
     "metadata": {},
     "output_type": "execute_result"
    }
   ],
   "source": [
    "import numpy as np\n",
    "from scipy.fftpack import fftn, ifftn\n",
    "from ipywidgets import interact, FloatSlider, IntSlider\n",
    "import plotly.graph_objects as go\n",
    "import plotly.io as pio\n",
    "\n",
    "def spherical_covariance_fft_3d(shape, ax, ay, az, angle_x, angle_y, angle_z, sill=1.0):\n",
    "    nx, ny, nz = shape\n",
    "    x = np.arange(-nx, nx)\n",
    "    y = np.arange(-ny, ny)\n",
    "    z = np.arange(-nz, nz)\n",
    "    X, Y, Z = np.meshgrid(x, y, z, indexing='ij')\n",
    "\n",
    "    X_scaled = X / ax\n",
    "    Y_scaled = Y / ay\n",
    "    Z_scaled = Z / az\n",
    "\n",
    "    def rotation_matrix(rx, ry, rz):\n",
    "        rx = np.radians(rx)\n",
    "        ry = np.radians(ry)\n",
    "        rz = np.radians(rz)\n",
    "        Rx = np.array([[1, 0, 0],\n",
    "                       [0, np.cos(rx), -np.sin(rx)],\n",
    "                       [0, np.sin(rx), np.cos(rx)]])\n",
    "        Ry = np.array([[np.cos(ry), 0, np.sin(ry)],\n",
    "                       [0, 1, 0],\n",
    "                       [-np.sin(ry), 0, np.cos(ry)]])\n",
    "        Rz = np.array([[np.cos(rz), -np.sin(rz), 0],\n",
    "                       [np.sin(rz), np.cos(rz), 0],\n",
    "                       [0, 0, 1]])\n",
    "        return Rz @ Ry @ Rx\n",
    "\n",
    "    R = rotation_matrix(angle_x, angle_y, angle_z)\n",
    "    coords = np.stack([X_scaled, Y_scaled, Z_scaled], axis=-1)\n",
    "    coords_rot = coords @ R.T\n",
    "\n",
    "    h = np.linalg.norm(coords_rot, axis=-1)\n",
    "    h = np.minimum(h, 1.0)\n",
    "    cov = sill * (1 - 1.5 * h + 0.5 * h**3)\n",
    "    cov[h > 1] = 0\n",
    "    return cov\n",
    "\n",
    "def fftma_3d(shape, ax, ay, az, angle_x, angle_y, angle_z, sill=1.0, seed=0):\n",
    "    np.random.seed(seed)\n",
    "    cov = spherical_covariance_fft_3d(shape, ax, ay, az, angle_x, angle_y, angle_z, sill)\n",
    "    white_noise = np.random.normal(size=cov.shape)\n",
    "    cov_fft = fftn(cov)\n",
    "    white_fft = fftn(white_noise)\n",
    "    z_fft = np.sqrt(np.abs(cov_fft)) * white_fft\n",
    "    field = np.real(ifftn(z_fft))\n",
    "    start = np.array(shape)\n",
    "    end = start * 2\n",
    "    slices = (slice(start[0], end[0]), slice(start[1], end[1]), slice(start[2], end[2]))\n",
    "    return field[slices]\n",
    "\n",
    "def gaussian_to_lognormal(field, mean, variance):\n",
    "    sigma = np.sqrt(np.log(variance / mean**2 + 1))\n",
    "    mu = np.log(mean) - 0.5 * sigma**2\n",
    "    return np.exp(field * sigma + mu)\n",
    "\n",
    "def plot_plotly_3d(field, cutoff):\n",
    "    nx, ny, nz = field.shape\n",
    "    spacing = (1, 1, 1)\n",
    "\n",
    "    mask = field >= cutoff\n",
    "    coords = np.argwhere(mask)\n",
    "\n",
    "    if len(coords) == 0:\n",
    "        print(\"Aucun voxel au-dessus du seuil cutoff.\")\n",
    "        return\n",
    "\n",
    "    x = coords[:, 0] * spacing[0]\n",
    "    y = coords[:, 1] * spacing[1]\n",
    "    z = coords[:, 2] * spacing[2]\n",
    "\n",
    "    values = field[mask]\n",
    "\n",
    "    fig = go.Figure(data=go.Scatter3d(\n",
    "    x=x, y=y, z=z,\n",
    "    mode='markers',\n",
    "    marker=dict(\n",
    "        size=5,\n",
    "        color=values,\n",
    "        colorscale='Viridis',\n",
    "        cmin=0,      # <-- Ajout ici\n",
    "        cmax=10,     # <-- Ajout ici\n",
    "        opacity=0.8,\n",
    "        colorbar=dict(title='Teneur (ppm)'),\n",
    "        showscale=True,\n",
    "        symbol='square'\n",
    "    )\n",
    "    ))\n",
    "\n",
    "    fig.update_layout(\n",
    "        scene=dict(\n",
    "            xaxis_title='X (m)',\n",
    "            yaxis_title='Y (m)',\n",
    "            zaxis_title='Z (m)',\n",
    "            aspectratio=dict(x=nx*spacing[0], y=ny*spacing[1], z=nz*spacing[2]),\n",
    "            camera=dict(\n",
    "                eye=dict(x=20000, y=20000, z=20000) \n",
    "            )\n",
    "        ),\n",
    "        title='Simulation 3D d\\'un gisement d\\'or'\n",
    "    )\n",
    "    fig.show()\n",
    "\n",
    "\n",
    "def interactive_sim_3d(mean, variance, cutoff, ax, ay, az, angle_x, angle_y, angle_z):\n",
    "    shape = (100, 100, 50)\n",
    "    field = fftma_3d(shape, ax, ay, az, angle_x, angle_y, angle_z, sill=variance)\n",
    "    field = gaussian_to_lognormal(field, mean, variance)\n",
    "    plot_plotly_3d(field, cutoff)\n",
    "\n",
    "interact(interactive_sim_3d,\n",
    "         mean=FloatSlider(value=1.0, min=0.1, max=10.0, step=0.1, description='Moyenne'),\n",
    "         variance=FloatSlider(value=1.0, min=0.1, max=5.0, step=0.1, description='Variance'),\n",
    "         cutoff=FloatSlider(value=1.0, min=0.0, max=10.0, step=0.1, description='Teneur coupure'),\n",
    "         ax=FloatSlider(value=10.0, min=1.0, max=50.0, step=1.0, description='Portée Ax'),\n",
    "         ay=FloatSlider(value=10.0, min=1.0, max=50.0, step=1.0, description='Portée Ay'),\n",
    "         az=FloatSlider(value=10.0, min=1.0, max=50.0, step=1.0, description='Portée Az'),\n",
    "         angle_x=IntSlider(value=0, min=0, max=360, step=1, description='Angle X'),\n",
    "         angle_y=IntSlider(value=0, min=0, max=360, step=1, description='Angle Y'),\n",
    "         angle_z=IntSlider(value=0, min=0, max=360, step=1, description='Angle Z'))\n"
   ]
  }
 ],
 "metadata": {
  "kernelspec": {
   "display_name": "Python 3 (ipykernel)",
   "language": "python",
   "name": "python3"
  },
  "language_info": {
   "codemirror_mode": {
    "name": "ipython",
    "version": 3
   },
   "file_extension": ".py",
   "mimetype": "text/x-python",
   "name": "python",
   "nbconvert_exporter": "python",
   "pygments_lexer": "ipython3",
   "version": "3.12.3"
  }
 },
 "nbformat": 4,
 "nbformat_minor": 5
}
