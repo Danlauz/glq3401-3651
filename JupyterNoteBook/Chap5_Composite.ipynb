{
 "cells": [
  {
   "cell_type": "markdown",
   "id": "11e77ea7-30c3-4632-b5f0-5da4254f313d",
   "metadata": {
    "editable": true,
    "slideshow": {
     "slide_type": ""
    },
    "tags": []
   },
   "source": [
    "# Atelier 1 - Composite (Régularisation)\n",
    "\n",
    "## 🎯 But pédagogique\n",
    "Illustrer comment transformer des échantillons de longueurs variables en composites de longueur fixe, tout en respectant un seuil minimal de couverture.  \n",
    "Cela permet d’uniformiser les données avant les analyses statistiques ou géostatistiques.\n",
    "\n",
    "> 💡 **Note** : Le compositing consiste à diviser un trou de forage en intervalles de même longueur (ex. 3 m), et à calculer la **teneur moyenne pondérée** dans chaque intervalle.  \n",
    "> Si l’intervalle est partiellement couvert par les échantillons, une **vérification du taux de couverture** est effectuée avant d’accepter ou non le composite.\n",
    "\n",
    "---\n",
    "\n",
    "### ⚙️ Fonctionnalités interactives\n",
    "\n",
    "- **Ajout ou suppression d’échantillons** avec :\n",
    "  - Profondeur de début (De),\n",
    "  - Profondeur de fin (À),\n",
    "  - Valeur (teneur),\n",
    "  - Nom de l’échantillon.\n",
    "  \n",
    "- **Paramètres de compositing personnalisables** :\n",
    "  - Longueur du composite (ex. 3 m),\n",
    "  - Seuil de couverture minimum (ex. 50 %).\n",
    "\n",
    "- **Validation automatique** :\n",
    "  - Vérification que les échantillons ne se chevauchent pas,\n",
    "  - Rejet des composites insuffisamment couverts.\n",
    "\n",
    "---\n",
    "\n"
   ]
  },
  {
   "cell_type": "code",
   "execution_count": 4,
   "id": "db07f321-4885-4c15-bdb6-57602ca2f6de",
   "metadata": {
    "editable": true,
    "slideshow": {
     "slide_type": ""
    },
    "tags": [
     "hide-input"
    ]
   },
   "outputs": [
    {
     "data": {
      "application/vnd.jupyter.widget-view+json": {
       "model_id": "435de2b8fcfc4ed19bce11397bf7d609",
       "version_major": 2,
       "version_minor": 0
      },
      "text/plain": [
       "HTML(value='<h3>Échantillons initiaux (modifiables et supprimables) :</h3>')"
      ]
     },
     "metadata": {},
     "output_type": "display_data"
    },
    {
     "data": {
      "application/vnd.jupyter.widget-view+json": {
       "model_id": "be1a873ac9ba44ef9a74eb83191b4d53",
       "version_major": 2,
       "version_minor": 0
      },
      "text/plain": [
       "Button(button_style='info', description='Ajouter un échantillon', style=ButtonStyle())"
      ]
     },
     "metadata": {},
     "output_type": "display_data"
    },
    {
     "data": {
      "application/vnd.jupyter.widget-view+json": {
       "model_id": "be71119f06db4da8bf842211a7c83f60",
       "version_major": 2,
       "version_minor": 0
      },
      "text/plain": [
       "VBox(children=(HBox(children=(BoundedFloatText(value=0.0, description='De:', layout=Layout(width='150px'), max…"
      ]
     },
     "metadata": {},
     "output_type": "display_data"
    },
    {
     "data": {
      "application/vnd.jupyter.widget-view+json": {
       "model_id": "865854dfb6664ef284656be71f60ae34",
       "version_major": 2,
       "version_minor": 0
      },
      "text/plain": [
       "HTML(value='<h3>Paramètres de calcul :</h3>')"
      ]
     },
     "metadata": {},
     "output_type": "display_data"
    },
    {
     "data": {
      "application/vnd.jupyter.widget-view+json": {
       "model_id": "7a422a3ab6e94bf685f4bacc7d0e456d",
       "version_major": 2,
       "version_minor": 0
      },
      "text/plain": [
       "HBox(children=(BoundedFloatText(value=3.0, description='Longueur composite:', min=0.1, step=0.1), BoundedFloat…"
      ]
     },
     "metadata": {},
     "output_type": "display_data"
    },
    {
     "data": {
      "application/vnd.jupyter.widget-view+json": {
       "model_id": "dd121441f8994426b852c5b9eaa17f22",
       "version_major": 2,
       "version_minor": 0
      },
      "text/plain": [
       "Button(button_style='success', description='Calculer et afficher', style=ButtonStyle())"
      ]
     },
     "metadata": {},
     "output_type": "display_data"
    },
    {
     "data": {
      "application/vnd.jupyter.widget-view+json": {
       "model_id": "4217e8c25a354daca42fd9c3c4fb3a38",
       "version_major": 2,
       "version_minor": 0
      },
      "text/plain": [
       "Output()"
      ]
     },
     "metadata": {},
     "output_type": "display_data"
    }
   ],
   "source": [
    "import matplotlib.pyplot as plt\n",
    "import matplotlib.patches as patches\n",
    "import ipywidgets as widgets\n",
    "from IPython.display import display, clear_output\n",
    "\n",
    "sample_widgets = []\n",
    "output = widgets.Output()\n",
    "\n",
    "initial_samples = [\n",
    "    {'from': 0, 'to': 1, 'value': 1.00, 'label': 'Échantillon 1'},\n",
    "    {'from': 2, 'to': 3, 'value': 5.85, 'label': 'Échantillon 2'},\n",
    "    {'from': 4, 'to': 6, 'value': 1.75, 'label': 'Échantillon 3'}\n",
    "]\n",
    "\n",
    "def create_sample_widget(index, sample=None):\n",
    "    from_input = widgets.BoundedFloatText(value=sample['from'] if sample else 0.0, min=0, max=9999, step=0.1, description='De:', layout=widgets.Layout(width='150px'))\n",
    "    to_input = widgets.BoundedFloatText(value=sample['to'] if sample else 1.0, min=0, max=9999, step=0.1, description='À:', layout=widgets.Layout(width='180px'))\n",
    "    value_input = widgets.BoundedFloatText(value=sample['value'] if sample else 0.0, min=0, max=100, step=0.1, description='Teneur:', layout=widgets.Layout(width='150px'))\n",
    "    label_input = widgets.Text(value=sample['label'] if sample else f'Échantillon {index+1}', description='Nom:', layout=widgets.Layout(width='250px'))\n",
    "\n",
    "    delete_button = widgets.Button(description='Supprimer', button_style='danger', layout=widgets.Layout(width='100px'))\n",
    "\n",
    "    row = widgets.HBox([from_input, to_input, value_input, label_input, delete_button])\n",
    "\n",
    "    def on_delete_clicked(b):\n",
    "        sample_widgets.remove((from_input, to_input, value_input, label_input, row))\n",
    "        sample_box.children = [w[-1] for w in sample_widgets]\n",
    "\n",
    "    delete_button.on_click(on_delete_clicked)\n",
    "\n",
    "    sample_widgets.append((from_input, to_input, value_input, label_input, row))\n",
    "    return row\n",
    "\n",
    "def draw_chart(samples, composites):\n",
    "    fig, ax = plt.subplots(figsize=(10, 2.5))\n",
    "    ax.set_ylim(-2, 2)\n",
    "\n",
    "    min_from = min([s['from'] for s in samples] + [c['from'] for c in composites])\n",
    "    max_to = max([s['to'] for s in samples] + [c['to'] for c in composites])\n",
    "    ax.set_xlim(min_from, max_to)\n",
    "\n",
    "    for s in samples:\n",
    "        rect = patches.Rectangle((s['from'], 0.5), s['to'] - s['from'], 0.9, facecolor='skyblue', edgecolor='black')\n",
    "        ax.add_patch(rect)\n",
    "        ax.text((s['from'] + s['to'])/2, 0.95, f\"{s['value']:.2f}%\", ha='center', va='center', fontsize=9)\n",
    "        ax.text((s['from'] + s['to'])/2, 1.5, s['label'], ha='center', va='bottom', fontsize=9)\n",
    "        ax.plot([s['from'], s['from']], [0.5, 1.4], color='black', linewidth=1)\n",
    "    if samples:\n",
    "        ax.plot([samples[-1]['to'], samples[-1]['to']], [0.5, 1.4], color='black', linewidth=1)\n",
    "\n",
    "    for c in composites:\n",
    "        rect = patches.Rectangle(\n",
    "            (c['from'], -1.4), \n",
    "            c['to'] - c['from'], \n",
    "            0.9, \n",
    "            facecolor='lightgreen' if c.get('covered', True) else 'lightgrey',\n",
    "            edgecolor='black'\n",
    "        )\n",
    "        ax.add_patch(rect)\n",
    "\n",
    "        if c.get('covered', True):\n",
    "            ax.text((c['from'] + c['to'])/2, -0.95, f\"{c['value']:.2f}%\", ha='center', va='center', fontsize=9)\n",
    "        \n",
    "        ax.text((c['from'] + c['to'])/2, -2, c['label'], ha='center', va='top', fontsize=9)\n",
    "        ax.plot([c['from'], c['from']], [-1.4, -0.5], color='black', linewidth=1)\n",
    "\n",
    "    if composites:\n",
    "        ax.plot([composites[-1]['to'], composites[-1]['to']], [-1.4, -0.5], color='black', linewidth=1)\n",
    "\n",
    "    ax.set_xlabel(\"Profondeur (m)\")\n",
    "    ax.set_yticks([])\n",
    "    ax.tick_params(bottom=True, labelbottom=True)\n",
    "    plt.tight_layout()\n",
    "    plt.show()\n",
    "\n",
    "def make_composites(samples, comp_length, min_coverage_ratio):\n",
    "    if not samples:\n",
    "        return []\n",
    "\n",
    "    min_depth = min(s['from'] for s in samples)\n",
    "    max_depth = max(s['to'] for s in samples)\n",
    "    composites = []\n",
    "\n",
    "    start = min_depth\n",
    "    while start < max_depth:\n",
    "        end = start + comp_length\n",
    "        total_length = 0\n",
    "        weighted_sum = 0\n",
    "\n",
    "        for s in samples:\n",
    "            overlap_start = max(start, s['from'])\n",
    "            overlap_end = min(end, s['to'])\n",
    "            length = overlap_end - overlap_start\n",
    "            if length > 0:\n",
    "                weighted_sum += s['value'] * length\n",
    "                total_length += length\n",
    "\n",
    "        coverage_ratio = total_length / comp_length\n",
    "\n",
    "        if coverage_ratio >= min_coverage_ratio:\n",
    "            comp_value = weighted_sum / total_length\n",
    "            covered = True\n",
    "        else:\n",
    "            comp_value = 0\n",
    "            covered = False\n",
    "\n",
    "        composites.append({\n",
    "            'from': start,\n",
    "            'to': end,\n",
    "            'value': comp_value,\n",
    "            'label': f\"Composite {len(composites)+1}\",\n",
    "            'covered': covered\n",
    "        })\n",
    "        start = end\n",
    "\n",
    "    return composites\n",
    "\n",
    "def on_calculate_clicked(b):\n",
    "    with output:\n",
    "        clear_output()\n",
    "        samples = []\n",
    "        for from_input, to_input, value_input, label_input, _ in sample_widgets:\n",
    "            try:\n",
    "                f = float(from_input.value)\n",
    "                t = float(to_input.value)\n",
    "                v = float(value_input.value)\n",
    "                label = label_input.value\n",
    "                if f >= t:\n",
    "                    print(f\"❌ Erreur : 'De' doit être inférieur à 'À' pour {label}\")\n",
    "                    return\n",
    "                samples.append({'from': f, 'to': t, 'value': v, 'label': label})\n",
    "            except:\n",
    "                print(\"❌ Erreur dans les valeurs d’un échantillon.\")\n",
    "                return\n",
    "\n",
    "        # Vérification des chevauchements\n",
    "        samples_sorted = sorted(samples, key=lambda s: s['from'])\n",
    "        for i in range(len(samples_sorted) - 1):\n",
    "            current = samples_sorted[i]\n",
    "            next_sample = samples_sorted[i + 1]\n",
    "            if current['to'] > next_sample['from']:\n",
    "                print(f\"❌ Erreur : Les échantillons « {current['label']} » et « {next_sample['label']} » se chevauchent.\")\n",
    "                print(\"Veuillez corriger les chevauchements avant de continuer.\")\n",
    "                return\n",
    "\n",
    "        try:\n",
    "            comp_length = float(composite_length_input.value)\n",
    "            if comp_length <= 0:\n",
    "                print(\"❌ Longueur de composite invalide.\")\n",
    "                return\n",
    "        except:\n",
    "            print(\"❌ Erreur dans la longueur de composite.\")\n",
    "            return\n",
    "\n",
    "        try:\n",
    "            min_coverage = float(min_coverage_input.value) / 100\n",
    "            if not (0 <= min_coverage <= 1):\n",
    "                print(\"❌ Le seuil de couverture doit être entre 0 et 100.\")\n",
    "                return\n",
    "        except:\n",
    "            print(\"❌ Erreur dans le seuil de couverture.\")\n",
    "            return\n",
    "\n",
    "        composites = make_composites(samples, comp_length, min_coverage)\n",
    "        draw_chart(samples, composites)\n",
    "\n",
    "def on_add_sample_clicked(b):\n",
    "    new_widget = create_sample_widget(len(sample_widgets))\n",
    "    sample_box.children += (new_widget,)\n",
    "\n",
    "# Widgets\n",
    "composite_length_input = widgets.BoundedFloatText(value=3.0, min=0.1, max=100, step=0.1, description='Longueur composite:')\n",
    "min_coverage_input = widgets.BoundedFloatText(value=50.0, min=0, max=100, step=1, description='Couverture min (%):')\n",
    "\n",
    "add_sample_button = widgets.Button(description=\"Ajouter un échantillon\", button_style='info')\n",
    "add_sample_button.on_click(on_add_sample_clicked)\n",
    "\n",
    "calculate_button = widgets.Button(description=\"Calculer et afficher\", button_style='success')\n",
    "calculate_button.on_click(on_calculate_clicked)\n",
    "\n",
    "sample_box = widgets.VBox()\n",
    "\n",
    "# Ajouter les exemples initiaux\n",
    "for i, s in enumerate(initial_samples):\n",
    "    sample_box.children += (create_sample_widget(i, s),)\n",
    "\n",
    "# Affichage\n",
    "display(widgets.HTML(\"<h3>Échantillons initiaux (modifiables et supprimables) :</h3>\"))\n",
    "display(add_sample_button, sample_box)\n",
    "display(widgets.HTML(\"<h3>Paramètres de calcul :</h3>\"))\n",
    "display(widgets.HBox([composite_length_input, min_coverage_input]))\n",
    "display(calculate_button, output)\n"
   ]
  },
  {
   "cell_type": "code",
   "execution_count": null,
   "id": "f36e4f0c-ee34-40e9-9e27-1baac45dbd29",
   "metadata": {
    "editable": true,
    "slideshow": {
     "slide_type": ""
    },
    "tags": []
   },
   "outputs": [],
   "source": []
  }
 ],
 "metadata": {
  "kernelspec": {
   "display_name": "Python 3 (ipykernel)",
   "language": "python",
   "name": "python3"
  },
  "language_info": {
   "codemirror_mode": {
    "name": "ipython",
    "version": 3
   },
   "file_extension": ".py",
   "mimetype": "text/x-python",
   "name": "python",
   "nbconvert_exporter": "python",
   "pygments_lexer": "ipython3",
   "version": "3.11.11"
  }
 },
 "nbformat": 4,
 "nbformat_minor": 5
}
