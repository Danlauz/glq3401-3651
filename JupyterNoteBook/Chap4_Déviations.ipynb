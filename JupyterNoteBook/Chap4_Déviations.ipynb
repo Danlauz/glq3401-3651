{
 "cells": [
  {
   "cell_type": "markdown",
   "id": "66552e3a-4f61-4464-ac73-9e8ef6b786a7",
   "metadata": {
    "editable": true,
    "slideshow": {
     "slide_type": ""
    },
    "tags": []
   },
   "source": [
    "# Atelier 3 - Déviation des forages\n",
    "\n",
    "## Calcul de Trajectoire de Forage par la Méthode des Points Milieux\n",
    "\n",
    "## 🎯 Objectif\n",
    "\n",
    "Ce script a pour but de calculer et de visualiser la trajectoire 3D d'un forage en se basant sur une série de levés de déviation. La méthode employée est celle des **points milieux**, une technique standard pour modéliser le parcours d'un forage qui n'est jamais parfaitement droit.\n",
    "\n",
    "## ⚙️ Fonctionnement\n",
    "\n",
    "L'outil fonctionne en trois étapes simples :\n",
    "\n",
    "1.  **Saisie des données** : L'utilisateur fournit les levés de déviation pour chaque station mesurée le long du forage :\n",
    "    * **Azimut** : L'orientation de la boussole (direction horizontale).\n",
    "    * **Plongée** : L'angle d'inclinaison par rapport à l'horizontale.\n",
    "    * **Profondeur mesurée** : La distance le long du trou de forage jusqu'à la station.\n",
    "\n",
    "2.  **Calcul de la trajectoire** : Le programme calcule les coordonnées cartésiennes ($X, Y, Z$) de chaque station en appliquant l'algorithme des points milieux.\n",
    "\n",
    "3.  **Création de composites** : Enfin, il est possible de calculer la position des \"composites\" : le script calcule les coordonnées 3D de points situés à un intervalle de longueur constant ($L$) le long de la trajectoire du forage. Les coordonnées de chaque composite sont retournées en sortie.\n"
   ]
  },
  {
   "cell_type": "code",
   "execution_count": 2,
   "id": "34bd2a27-4009-4c9f-bdef-8ae3b443e344",
   "metadata": {
    "editable": true,
    "slideshow": {
     "slide_type": ""
    },
    "tags": [
     "remove-input",
     "remove-output",
     "hide-input"
    ]
   },
   "outputs": [
    {
     "name": "stdout",
     "output_type": "stream",
     "text": [
      "Note: you may need to restart the kernel to use updated packages.\n"
     ]
    }
   ],
   "source": [
    "# Installer les packages nécessaires (plotly, ipywidgets)\n",
    "# Cette cellule peut être cachée dans la version finale avec :tags: [remove-input]\n",
    "%pip install seaborn pyvista --quiet"
   ]
  },
  {
   "cell_type": "code",
   "execution_count": 32,
   "id": "dd9b2121-62ff-4400-aee2-8a1f3fd6301e",
   "metadata": {
    "editable": true,
    "scrolled": true,
    "slideshow": {
     "slide_type": ""
    },
    "tags": [
     "remove-input",
     "remove-output"
    ]
   },
   "outputs": [
    {
     "data": {
      "text/markdown": [
       "\n",
       "### ℹ️ Conventions et paramètres\n",
       "- **Azimut (°)** : 0-360°, mesuré depuis le Nord dans le sens horaire.\n",
       "- **Inclinaison (°)** : angle entre le plan XY et l'axe Z descendant. 90° = forage vertical descendant.\n",
       "- **MD (m)** : profondeur mesurée le long du forage.\n",
       "- **Composites (MD)** : profondeurs où calculer les coordonnées interpolées.\n",
       "- **Collet (X,Y,Z)** : coordonnées du départ du forage.\n",
       "---\n"
      ],
      "text/plain": [
       "<IPython.core.display.Markdown object>"
      ]
     },
     "metadata": {},
     "output_type": "display_data"
    },
    {
     "data": {
      "application/vnd.jupyter.widget-view+json": {
       "model_id": "5a7b79d34dc249d0aec4498e8dd7b8c7",
       "version_major": 2,
       "version_minor": 0
      },
      "text/plain": [
       "BoundedIntText(value=3, description='Nombre stations:', max=50, min=2)"
      ]
     },
     "metadata": {},
     "output_type": "display_data"
    },
    {
     "data": {
      "application/vnd.jupyter.widget-view+json": {
       "model_id": "8937bd44f9b6478babd5db98b3434480",
       "version_major": 2,
       "version_minor": 0
      },
      "text/plain": [
       "Text(value='0, 80, 180', description='MD (m):')"
      ]
     },
     "metadata": {},
     "output_type": "display_data"
    },
    {
     "data": {
      "application/vnd.jupyter.widget-view+json": {
       "model_id": "59678e7e762f4652bfc8d46220d36785",
       "version_major": 2,
       "version_minor": 0
      },
      "text/plain": [
       "Text(value='60, 55, 45', description='Azimut (°):')"
      ]
     },
     "metadata": {},
     "output_type": "display_data"
    },
    {
     "data": {
      "application/vnd.jupyter.widget-view+json": {
       "model_id": "500ff36cade147148db70baa3d19070b",
       "version_major": 2,
       "version_minor": 0
      },
      "text/plain": [
       "Text(value='90, 80, 70', description='Inclinaison (°):')"
      ]
     },
     "metadata": {},
     "output_type": "display_data"
    },
    {
     "data": {
      "application/vnd.jupyter.widget-view+json": {
       "model_id": "266f91ada0f441519cf4e8eae4a44e97",
       "version_major": 2,
       "version_minor": 0
      },
      "text/plain": [
       "Text(value='180, 183, 186', description='Composites (MD):')"
      ]
     },
     "metadata": {},
     "output_type": "display_data"
    },
    {
     "data": {
      "application/vnd.jupyter.widget-view+json": {
       "model_id": "41003bf502604c2882b5f62a344f29f6",
       "version_major": 2,
       "version_minor": 0
      },
      "text/plain": [
       "Text(value='0, 0, 0', description='Collet (X,Y,Z):')"
      ]
     },
     "metadata": {},
     "output_type": "display_data"
    },
    {
     "data": {
      "application/vnd.jupyter.widget-view+json": {
       "model_id": "ac165d833108422bb9e93f00f96ac3f6",
       "version_major": 2,
       "version_minor": 0
      },
      "text/plain": [
       "Checkbox(value=False, description='Afficher calculs intermédiaires')"
      ]
     },
     "metadata": {},
     "output_type": "display_data"
    },
    {
     "data": {
      "application/vnd.jupyter.widget-view+json": {
       "model_id": "7568dcad7f5c4af488a709afb141e8f8",
       "version_major": 2,
       "version_minor": 0
      },
      "text/plain": [
       "Button(button_style='success', description='Calculer et Tracer', icon='play', style=ButtonStyle())"
      ]
     },
     "metadata": {},
     "output_type": "display_data"
    },
    {
     "data": {
      "application/vnd.jupyter.widget-view+json": {
       "model_id": "6d906ed53e7544a3b97e21d6a71a36cd",
       "version_major": 2,
       "version_minor": 0
      },
      "text/plain": [
       "Output()"
      ]
     },
     "metadata": {},
     "output_type": "display_data"
    }
   ],
   "source": [
    "import numpy as np\n",
    "import plotly.graph_objs as go\n",
    "import ipywidgets as widgets\n",
    "from IPython.display import display, clear_output, Markdown\n",
    "\n",
    "def d2r(deg):\n",
    "    return np.deg2rad(deg)\n",
    "\n",
    "def compute_segments_midpoint(measurements, start_pos=(0,0,0), show_debug=False):\n",
    "    n = len(measurements)\n",
    "    depths = [m[0] for m in measurements]\n",
    "\n",
    "    seg_lengths = []\n",
    "    for i in range(n):\n",
    "        if i == 0:\n",
    "            seg_len = (depths[1] - depths[0]) / 2\n",
    "        elif i == n - 1:\n",
    "            seg_len = (depths[-1] - depths[-2]) / 2\n",
    "        else:\n",
    "            seg_len = (depths[i] - depths[i-1]) / 2 + (depths[i+1] - depths[i]) / 2\n",
    "        seg_lengths.append(seg_len)\n",
    "\n",
    "    positions = [start_pos]\n",
    "    mids = []\n",
    "\n",
    "    for i in range(n):\n",
    "        md = seg_lengths[i]\n",
    "        inc, azi = measurements[i][1], measurements[i][2]  # Correct order\n",
    "        azi_rad, inc_rad = d2r(azi), d2r(inc)\n",
    "\n",
    "        dx = md * np.cos(inc_rad) * np.sin(azi_rad)\n",
    "        dy = md * np.cos(inc_rad) * np.cos(azi_rad)\n",
    "        dz = -md * np.sin(inc_rad)\n",
    "\n",
    "        last = positions[-1]\n",
    "        new_pos = (last[0] + dx, last[1] + dy, last[2] + dz)\n",
    "        positions.append(new_pos)\n",
    "\n",
    "        md_mid = depths[i]\n",
    "        mid_x = last[0] + dx / 2\n",
    "        mid_y = last[1] + dy / 2\n",
    "        mid_z = last[2] + dz / 2\n",
    "        mids.append((md_mid, mid_x, mid_y, mid_z))\n",
    "\n",
    "        if show_debug:\n",
    "            print(f\"Segment {i+1} : md segment={md:.2f} m, azimut={azi:.1f}°, inclinaison={inc:.1f}°\")\n",
    "            print(f\"  dx={dx:.2f}, dy={dy:.2f}, dz={dz:.2f}\")\n",
    "            print(f\"  Position finale segment: x={new_pos[0]:.2f}, y={new_pos[1]:.2f}, z={new_pos[2]:.2f}\\n\")\n",
    "\n",
    "    return positions, mids\n",
    "\n",
    "def interpolate_composites(measurements, positions, targets):\n",
    "    depths = [m[0] for m in measurements]\n",
    "    interp_XYZ = []\n",
    "\n",
    "    for t in targets:\n",
    "        if t <= depths[0]:\n",
    "            inc, azi = measurements[0][1], measurements[0][2]\n",
    "            azi_rad, inc_rad = d2r(azi), d2r(inc)\n",
    "            md_extra = t - depths[0]\n",
    "            x0, y0, z0 = positions[0]\n",
    "            xt = x0 + md_extra * np.cos(inc_rad) * np.sin(azi_rad)\n",
    "            yt = y0 + md_extra * np.cos(inc_rad) * np.cos(azi_rad)\n",
    "            zt = z0 - md_extra * np.sin(inc_rad)\n",
    "            interp_XYZ.append((t, xt, yt, zt))\n",
    "\n",
    "        elif t >= depths[-1]:\n",
    "            inc, azi = measurements[-1][1], measurements[-1][2]\n",
    "            azi_rad, inc_rad = d2r(azi), d2r(inc)\n",
    "            md_extra = t - depths[-1]\n",
    "            x0, y0, z0 = positions[-1]\n",
    "            xt = x0 + md_extra * np.cos(inc_rad) * np.sin(azi_rad)\n",
    "            yt = y0 + md_extra * np.cos(inc_rad) * np.cos(azi_rad)\n",
    "            zt = z0 - md_extra * np.sin(inc_rad)\n",
    "            interp_XYZ.append((t, xt, yt, zt))\n",
    "\n",
    "        else:\n",
    "            for i in range(1, len(depths)):\n",
    "                if depths[i-1] <= t <= depths[i]:\n",
    "                    f = (t - depths[i-1]) / (depths[i] - depths[i-1])\n",
    "                    x1, y1, z1 = positions[i]\n",
    "                    x2, y2, z2 = positions[i+1]\n",
    "                    xt = x1 + f * (x2 - x1)\n",
    "                    yt = y1 + f * (y2 - y1)\n",
    "                    zt = z1 + f * (z2 - z1)\n",
    "                    interp_XYZ.append((t, xt, yt, zt))\n",
    "                    break\n",
    "\n",
    "    return interp_XYZ\n",
    "\n",
    "def plotly_3d_path(positions, mids, interp, measurements):\n",
    "    pos_arr = np.array(positions)\n",
    "    fig = go.Figure()\n",
    "\n",
    "    fig.add_trace(go.Scatter3d(\n",
    "        x=pos_arr[:,0], y=pos_arr[:,1], z=pos_arr[:,2],\n",
    "        mode='lines+markers',\n",
    "        line=dict(color='blue', width=5),\n",
    "        marker=dict(size=5, color='blue'),\n",
    "        name='Trajectoire'\n",
    "    ))\n",
    "\n",
    "    md_vals = [m[0] for m in measurements]\n",
    "    stations_coords = pos_arr[1:]\n",
    "    fig.add_trace(go.Scatter3d(\n",
    "        x=stations_coords[:,0], y=stations_coords[:,1], z=stations_coords[:,2],\n",
    "        mode='markers+text',\n",
    "        marker=dict(size=7, color='orange'),\n",
    "        text=[f\"MD {md:.1f} m\" for md in md_vals],\n",
    "        textposition='top center',\n",
    "        name='Stations (mesures)'\n",
    "    ))\n",
    "\n",
    "    if mids:\n",
    "        mids_np = np.array(mids)\n",
    "        fig.add_trace(go.Scatter3d(\n",
    "            x=mids_np[:,1], y=mids_np[:,2], z=mids_np[:,3],\n",
    "            mode='markers+text',\n",
    "            marker=dict(size=6, color='green'),\n",
    "            text=[f\"MD milieu {md:.1f} m\" for md in mids_np[:,0]],\n",
    "            textposition='bottom center',\n",
    "            name='Points milieux'\n",
    "        ))\n",
    "\n",
    "    if interp:\n",
    "        interp_np = np.array(interp)\n",
    "        fig.add_trace(go.Scatter3d(\n",
    "            x=interp_np[:,1], y=interp_np[:,2], z=interp_np[:,3],\n",
    "            mode='markers+text',\n",
    "            marker=dict(size=6, color='red'),\n",
    "            text=[f\"MD {md:.1f} m\" for md in interp_np[:,0]],\n",
    "            textposition='top center',\n",
    "            name='Composites interpolés'\n",
    "        ))\n",
    "\n",
    "    fig.update_layout(\n",
    "        scene=dict(\n",
    "            xaxis_title='X (m)',\n",
    "            yaxis_title='Y (m)',\n",
    "            zaxis_title='Z (m, ↑)',\n",
    "            aspectmode='data',\n",
    "        ),\n",
    "        title='Trajectoire 3D par méthode des points milieux',\n",
    "        margin=dict(l=0, r=0, b=0, t=40),\n",
    "        legend=dict(x=0.05, y=0.95)\n",
    "    )\n",
    "    fig.show()\n",
    "\n",
    "# Widgets\n",
    "num_points_w = widgets.BoundedIntText(value=3, min=2, max=50, description=\"Nombre stations:\")\n",
    "md_list_w = widgets.Text(value=\"0, 80, 180\", description=\"MD (m):\")\n",
    "azi_list_w = widgets.Text(value=\"60, 55, 45\", description=\"Azimut (\\u00b0):\")\n",
    "inc_list_w = widgets.Text(value=\"90, 80, 70\", description=\"Inclinaison (\\u00b0):\")\n",
    "targets_w = widgets.Text(value=\"180, 183, 186\", description=\"Composites (MD):\")\n",
    "collet_w = widgets.Text(value=\"0, 0, 0\", description=\"Collet (X,Y,Z):\")\n",
    "show_debug_w = widgets.Checkbox(value=False, description=\"Afficher calculs intermédiaires\")\n",
    "button = widgets.Button(description=\"Calculer et Tracer\", button_style='success', icon='play')\n",
    "out = widgets.Output()\n",
    "\n",
    "def on_button_clicked(b):\n",
    "    with out:\n",
    "        clear_output()\n",
    "        try:\n",
    "            md_list = list(map(float, md_list_w.value.strip().split(',')))\n",
    "            azi_list = list(map(float, azi_list_w.value.strip().split(',')))\n",
    "            inc_list = list(map(float, inc_list_w.value.strip().split(',')))\n",
    "            collet = tuple(map(float, collet_w.value.strip().split(',')))\n",
    "\n",
    "            targets_str = targets_w.value.strip()\n",
    "            targets = list(map(float, targets_str.split(','))) if targets_str else []\n",
    "\n",
    "            n = num_points_w.value\n",
    "            if not (len(md_list) == len(azi_list) == len(inc_list) == n):\n",
    "                print(\"⚠️ Erreur : Le nombre de valeurs pour MD, azimut et inclinaison doit correspondre au nombre de stations.\")\n",
    "                return\n",
    "\n",
    "            measurements = list(zip(md_list, azi_list, inc_list))\n",
    "            positions, mids = compute_segments_midpoint(measurements, start_pos=collet, show_debug=show_debug_w.value)\n",
    "            interp = interpolate_composites(measurements, positions, targets)\n",
    "\n",
    "            if interp:\n",
    "                interp.sort(key=lambda x: x[0])\n",
    "                md_output = \"### Coordonnées des Composites\\n\\n\"\n",
    "                md_output += \"| Profondeur (MD) | X | Y | Z |\\n\"\n",
    "                md_output += \"|:---:|:---:|:---:|:---:|\\n\"\n",
    "                for t, x, y, z in interp:\n",
    "                    md_output += f\"| {t:.2f} m | {x:.2f} | {y:.2f} | {z:.2f} |\\n\"\n",
    "                display(Markdown(md_output))\n",
    "            elif targets:\n",
    "                print(\"ℹ️ Aucun composite n'a pu être calculé.\")\n",
    "\n",
    "            plotly_3d_path(positions, mids, interp, measurements)\n",
    "\n",
    "        except Exception as e:\n",
    "            print(f\"❌ Erreur lors de l'exécution : {str(e)}\")\n",
    "\n",
    "button.on_click(on_button_clicked)\n",
    "\n",
    "info_text = Markdown(\"\"\"\n",
    "### ℹ️ Conventions et paramètres\n",
    "- **Azimut (\\u00b0)** : 0-360°, mesuré depuis le Nord dans le sens horaire.\n",
    "- **Inclinaison (\\u00b0)** : angle entre le plan XY et l'axe Z descendant. 90° = forage vertical descendant.\n",
    "- **MD (m)** : profondeur mesurée le long du forage.\n",
    "- **Composites (MD)** : profondeurs où calculer les coordonnées interpolées.\n",
    "- **Collet (X,Y,Z)** : coordonnées du départ du forage.\n",
    "---\n",
    "\"\"\")\n",
    "\n",
    "display(info_text, num_points_w, md_list_w, azi_list_w, inc_list_w, targets_w, collet_w, show_debug_w, button, out)"
   ]
  },
  {
   "cell_type": "markdown",
   "id": "7de2a3d9-8adf-4610-adbf-0c91a61b6cee",
   "metadata": {
    "editable": true,
    "slideshow": {
     "slide_type": ""
    },
    "tags": []
   },
   "source": [
    "## Exemple réaliste avec 100 stations\n",
    "\n",
    "📝 Note : En construction"
   ]
  },
  {
   "cell_type": "code",
   "execution_count": 28,
   "id": "a602484a-d40a-401d-bcc5-39bb6a65e61f",
   "metadata": {
    "editable": true,
    "slideshow": {
     "slide_type": ""
    },
    "tags": []
   },
   "outputs": [
    {
     "data": {
      "application/vnd.plotly.v1+json": {
       "config": {
        "plotlyServerURL": "https://plot.ly"
       },
       "data": [
        {
         "line": {
          "color": "blue",
          "width": 5
         },
         "marker": {
          "color": "blue",
          "size": 5
         },
         "mode": "lines+markers",
         "name": "Trajectoire",
         "type": "scatter3d",
         "x": {
          "bdata": "AAAAAAAAAAAAAAAAAAAAAAMhkA6Wkrk/hv6ITyYS0z/OKxQja/biP0Ys5zbYbO8/7REy5bdv9z9Zi/h/iFAAQEdlcG9+ogVA3IZVJVarC0B6qLKnhTQRQA58OG0E7RRApBr0e5n+GEDSp3d692gdQIoezSsKFiFAUE7sXxWkI0CcKycg3V4mQJl7bQjDRilAp7EYQ0lcLED6A+SZEKAvQNG8LvNqiTFAu8BgdrdaM0ADGrFXY0Q1QCiGzqXsRjdA2fvwuddiOUBmWS3OrJg7QKR4pHj16D1AxbbJCx0qQEDcYjudf21BQNecJorhvkJAVoVHgX0eRECOddSZiIxFQAXaXDsxCUdArEKBHp6USEDazfpp7S5KQBgilO4z2EtAt5PYg3yQTUCtJWCGx1dPQPUo5TsFl1BAk4vb35eJUUAF/zJGi4NSQElFjmjJhFNAd/4KsDaNVEBJKsQOspxVQOFnnyQVs1ZAPmQzbjTQV0DpTrZ83/NYQH95EjbhHVpA82R5HABOW0A1rw2d/oNcQD9ufWWbv11A3UijwJEAX0Az/Tv9TCNgQPqp4eW0yGBA/rYHZ1pwYUA35S98FhpiQKiAi5LBxWJAxvGj0DNzY0Ab57ViRSJkQLjEkMvO0mRA7QeZOamEZUDyy1PfrjdmQNFLpk6762ZABha51augZ0CJtjbcX1ZoQCHiaz+5DGlAX2qmq5zDaUCh0RLx8XpqQH4SSFKkMmtA2lGvyqLqa0DcUAJL4KJsQOxvN+pTW21ACi1cCfkTbkCQ6BVpz8xuQKCUwi/bhW9A6sy+b5IfcECoJc+dXHxwQDcgzY5U2XBA+C7GnIQ2cUBOd3vp+JNxQOrgVDG/8XFAnn2Bl+ZPckB0OARsf65yQM1ji+yaDXNAWuUMAUttc0Ac6zb1oc1zQO7h1S+yLnRA3IBb6Y2QdEAk4LfiRvN0QAyKtB3uVnVANRz6l5O7dUAlX9sJRiF2QK7E7KkSiHZAc0BV9gTwdkBZ1KWEJll3QNOV4Nh+w3dAQzsvRBMveEAvfJ3L5pt4QG8C/hb6CXlAO8XyZ0t5eUAF3WsAkbF5QA==",
          "dtype": "f8"
         },
         "y": {
          "bdata": "AAAAAAAAAACLH9yd6ZEMQIP/yvKcTiVAhgAVpJ+sMUC3HkHbAKI4QNLJ57Zphz9A61Ieh3wuQ0BNSAQgepFGQHhkM/ni7ElAahA7Jf5ATUD5ceGnEUdQQL2cCaxc6lFACSGRWJqKU0D583zGCihVQFqbNO3ywlZA1XJ0jptbWEA22bATUPJZQCrOjGFdh1tA1pI4phAbXUB+caUntq1eQMp9PQvMH2BAYRhQtX7oYEBVXvxmFLFhQMtV1syreWJAa2T4dGBCY0BAZ+hlSgtkQAlM+sN91GRA2pBghgqeZUCfKsg8/GdmQB6YBeZZMmdAZX3+1yX9Z0B1eKC4XchoQO+TXYf6k2lAaYlTtvBfakB2nvdRMCxrQBvW3zWl+GtAeawNTTfFbEBrX/jbypFtQD4UftJAXm5A13vcI3cqb0BTtdoiSfZvQEkUM/DHYHBAD6CERRHGcECkg+lm6ypxQPJ8v5ZAj3FA29N0sfrycUDN8Q5ZA1ZyQH/hwR5EuHJAQM15qqYZc0CcU1DgFHpzQI13+wN52XNAwTdS2r03dECH/ArJzpR0QJnv2fSX8HRA/TIRXgZLdUBDY9v7B6R1QDTCGtaL+3VAxPblHYJRdkDi0YdE3KV2QM5t0xCN+HZAo72KsohJd0B7pYTTxJh3QBE/MqY45ndAsBQa8dwxeECYqtwWrHt4QGIlWBqiw3hATmWJnrwJeUDeX9fh+k15QFxeibRdkHlAt0tBaufQeUCdZW/Gmw96QIhH0+N/THpA7xw+F5qHekAghenN8cB6QEkW1WeP+HpANk+4Dnwue0B8KS+KwWJ7QMSS2xFqlXtA00NFHoDGe0AsV0s5DvZ7QER9/84eJHxAXb/B/7tQfEB9nG1073t8QK4/XjXCpXxA1QgAhTzOfEDZIZK+ZfV8QCzvozlEG31AZGzAMt0/fUDtkp25NGN9QLdmCKVNhX1Aid2njCmmfUCNOZLIyMV9QO5SknYq5H1APWfdhEwBfkDlD9/BKx1+QBSvqPDDN35AoZ184Q9RfkDiQ9yNCWl+QB6Iczeqf35AcfkzieqUfkB0f5Gh1p5+QA==",
          "dtype": "f8"
         },
         "z": {
          "bdata": "AAAAAAAAAACLH9yd6ZEMwIRHurmkiyXABDgqOj8IMsAGGPNiH1k5wPLVJ2v3W0DAuuHr+wUSRMBnOL7cXM5HwCN7HPOQkEvAUQYMwStYT8BxY01NVpJRwMEoOe7EelPAj8H4DxllVcBPxxq1BlFXwLPNOyo/PlnAsHONlnEsW8DwAdaISxtdwCpAbIF5Cl/AMj8BvdN8YMBShiW2QHRhwFBZTuxZa2LAgtzeJvZhY8Bi32/57FdkwMmrTwoXTWXAcY7FWk5BZsCVPimRbjRnwGAhpURVJmjAD7I8SuIWacC6R3EC+AVqwKxKoqZ782rAKN0NlVXfa8Ao+SaacclswLCb0DW/sW3Aqs/02jGYbsCmsOMnwXxvwBFH9Yq0L3DAMB5TDxWgcMChWtqqhA9xwIYYzDoIfnHAYodr76brccACCVNEalhywCqdWfFdxHLAGR36048vc8CT6VTRD5pzwPpaC7HvA3TAaGpZ8UJtdMDMwPSUHtZ0wIbdV+uYPnXACcQ7VMmmdcCxKxr/xw52wAE9paetdnbAUU4wUJPedsD5tQ77kUZ3wHyc8mPCrnfANrlVujwXeMCaD/FdGIB4wAgfP55r6XjAb5D1fUtTecDpXFB7y715wNjc8F39KHrAAHH3CvGUesCg8t5ftAF7wHxhfhRTb3vAYR9wpNbde8DSW/c/Rk18wPAyVcSmvXzArqFYu/oufcAsEtBhQqF9wCksYrR7FH7Abf02gqKIfsBti8OEsP1+wKtU+Xudc3/AJNYRTl/qf8B9EBYV9TCAwKn0e1YYbYDAXO1aA5KpgMBl2fMQWuaAwA9SEeVnI4HAKUVJabJggcDhhe0dMJ6BwK6mkSzX24HAbtsbep0ZgsA27WS4eFeCwP20d3delYLAxHyKNkTTgsCMjtN0HxGDwEzDXcLlToPAGeQB0YyMg8DRJKaFCsqDwOsX3glVB4TAlZD73WJEhMCefJTrKoGEwFF1c5ikvYTAfVnZ2cf5hMDofuZHjTWFwKW/8jDucIXARKSNrOSrhcBE69Ota+aFwOZTvhR/IIbA5WAHvhtahsAFPaWnrXaGwA==",
          "dtype": "f8"
         }
        },
        {
         "marker": {
          "color": "orange",
          "size": 7
         },
         "mode": "markers+text",
         "name": "Stations (mesures)",
         "text": [
          "MD 0.0 m",
          "MD 10.1 m",
          "MD 20.2 m",
          "MD 30.3 m",
          "MD 40.4 m",
          "MD 50.5 m",
          "MD 60.6 m",
          "MD 70.7 m",
          "MD 80.8 m",
          "MD 90.9 m",
          "MD 101.0 m",
          "MD 111.1 m",
          "MD 121.2 m",
          "MD 131.3 m",
          "MD 141.4 m",
          "MD 151.5 m",
          "MD 161.6 m",
          "MD 171.7 m",
          "MD 181.8 m",
          "MD 191.9 m",
          "MD 202.0 m",
          "MD 212.1 m",
          "MD 222.2 m",
          "MD 232.3 m",
          "MD 242.4 m",
          "MD 252.5 m",
          "MD 262.6 m",
          "MD 272.7 m",
          "MD 282.8 m",
          "MD 292.9 m",
          "MD 303.0 m",
          "MD 313.1 m",
          "MD 323.2 m",
          "MD 333.3 m",
          "MD 343.4 m",
          "MD 353.5 m",
          "MD 363.6 m",
          "MD 373.7 m",
          "MD 383.8 m",
          "MD 393.9 m",
          "MD 404.0 m",
          "MD 414.1 m",
          "MD 424.2 m",
          "MD 434.3 m",
          "MD 444.4 m",
          "MD 454.5 m",
          "MD 464.6 m",
          "MD 474.7 m",
          "MD 484.8 m",
          "MD 494.9 m",
          "MD 505.1 m",
          "MD 515.2 m",
          "MD 525.3 m",
          "MD 535.4 m",
          "MD 545.5 m",
          "MD 555.6 m",
          "MD 565.7 m",
          "MD 575.8 m",
          "MD 585.9 m",
          "MD 596.0 m",
          "MD 606.1 m",
          "MD 616.2 m",
          "MD 626.3 m",
          "MD 636.4 m",
          "MD 646.5 m",
          "MD 656.6 m",
          "MD 666.7 m",
          "MD 676.8 m",
          "MD 686.9 m",
          "MD 697.0 m",
          "MD 707.1 m",
          "MD 717.2 m",
          "MD 727.3 m",
          "MD 737.4 m",
          "MD 747.5 m",
          "MD 757.6 m",
          "MD 767.7 m",
          "MD 777.8 m",
          "MD 787.9 m",
          "MD 798.0 m",
          "MD 808.1 m",
          "MD 818.2 m",
          "MD 828.3 m",
          "MD 838.4 m",
          "MD 848.5 m",
          "MD 858.6 m",
          "MD 868.7 m",
          "MD 878.8 m",
          "MD 888.9 m",
          "MD 899.0 m",
          "MD 909.1 m",
          "MD 919.2 m",
          "MD 929.3 m",
          "MD 939.4 m",
          "MD 949.5 m",
          "MD 959.6 m",
          "MD 969.7 m",
          "MD 979.8 m",
          "MD 989.9 m",
          "MD 1000.0 m"
         ],
         "textposition": "top center",
         "type": "scatter3d",
         "x": {
          "bdata": "AAAAAAAAAAADIZAOlpK5P4b+iE8mEtM/zisUI2v24j9GLOc22GzvP+0RMuW3b/c/WYv4f4hQAEBHZXBvfqIFQNyGVSVWqwtAeqiyp4U0EUAOfDhtBO0UQKQa9HuZ/hhA0qd3evdoHUCKHs0rChYhQFBO7F8VpCNAnCsnIN1eJkCZe20Iw0YpQKexGENJXCxA+gPkmRCgL0DRvC7zaokxQLvAYHa3WjNAAxqxV2NENUAohs6l7EY3QNn78LnXYjlAZlktzqyYO0CkeKR49eg9QMW2yQsdKkBA3GI7nX9tQUDXnCaK4b5CQFaFR4F9HkRAjnXUmYiMRUAF2lw7MQlHQKxCgR6elEhA2s36ae0uSkAYIpTuM9hLQLeT2IN8kE1ArSVghsdXT0D1KOU7BZdQQJOL29+XiVFABf8yRouDUkBJRY5oyYRTQHf+CrA2jVRASSrEDrKcVUDhZ58kFbNWQD5kM2400FdA6U62fN/zWEB/eRI24R1aQPNkeRwATltANa8Nnf6DXEA/bn1lm79dQN1Io8CRAF9AM/07/UwjYED6qeHltMhgQP62B2dacGFAN+UvfBYaYkCogIuSwcViQMbxo9Azc2NAG+e1YkUiZEC4xJDLztJkQO0HmTmphGVA8stT3643ZkDRS6ZOu+tmQAYWudWroGdAibY23F9WaEAh4ms/uQxpQF9qpqucw2lAodES8fF6akB+EkhSpDJrQNpRr8qi6mtA3FACS+CibEDsbzfqU1ttQAotXAn5E25AkOgVac/MbkCglMIv24VvQOrMvm+SH3BAqCXPnVx8cEA3IM2OVNlwQPguxpyENnFATnd76fiTcUDq4FQxv/FxQJ59gZfmT3JAdDgEbH+uckDNY4vsmg1zQFrlDAFLbXNAHOs29aHNc0Du4dUvsi50QNyAW+mNkHRAJOC34kbzdEAMirQd7lZ1QDUc+peTu3VAJV/bCUYhdkCuxOypEoh2QHNAVfYE8HZAWdSlhCZZd0DTleDYfsN3QEM7L0QTL3hAL3ydy+abeEBvAv4W+gl5QDvF8mdLeXlABd1rAJGxeUA=",
          "dtype": "f8"
         },
         "y": {
          "bdata": "ix/cnemRDECD/8rynE4lQIYAFaSfrDFAtx5B2wCiOEDSyee2aYc/QOtSHod8LkNATUgEIHqRRkB4ZDP54uxJQGoQOyX+QE1A+XHhpxFHUEC9nAmsXOpRQAkhkViailNA+fN8xgooVUBamzTt8sJWQNVydI6bW1hANtmwE1DyWUAqzoxhXYdbQNaSOKYQG11AfnGlJ7atXkDKfT0LzB9gQGEYULV+6GBAVV78ZhSxYUDLVdbMq3liQGtk+HRgQmNAQGfoZUoLZEAJTPrDfdRkQNqQYIYKnmVAnyrIPPxnZkAemAXmWTJnQGV9/tcl/WdAdXiguF3IaEDvk12H+pNpQGmJU7bwX2pAdp73UTAsa0Ab1t81pfhrQHmsDU03xWxAa1/428qRbUA+FH7SQF5uQNd73CN3Km9AU7XaIkn2b0BJFDPwx2BwQA+ghEURxnBApIPpZusqcUDyfL+WQI9xQNvTdLH68nFAzfEOWQNWckB/4cEeRLhyQEDNeaqmGXNAnFNQ4BR6c0CNd/sDedlzQME3Utq9N3RAh/wKyc6UdECZ79n0l/B0QP0yEV4GS3VAQ2Pb+wekdUA0whrWi/t1QMT25R2CUXZA4tGHRNyldkDObdMQjfh2QKO9irKISXdAe6WE08SYd0ARPzKmOOZ3QLAUGvHcMXhAmKrcFqx7eEBiJVgaosN4QE5liZ68CXlA3l/X4fpNeUBcXom0XZB5QLdLQWrn0HlAnWVvxpsPekCIR9Pjf0x6QO8cPheah3pAIIXpzfHAekBJFtVnj/h6QDZPuA58LntAfCkvisFie0DEktsRapV7QNNDRR6AxntALFdLOQ72e0BEff/OHiR8QF2/wf+7UHxAfZxtdO97fECuP141wqV8QNUIAIU8znxA2SGSvmX1fEAs76M5RBt9QGRswDLdP31A7ZKduTRjfUC3ZgilTYV9QIndp4wppn1AjTmSyMjFfUDuUpJ2KuR9QD1n3YRMAX5A5Q/fwSsdfkAUr6jwwzd+QKGdfOEPUX5A4kPcjQlpfkAeiHM3qn9+QHH5M4nqlH5AdH+RodaefkA=",
          "dtype": "f8"
         },
         "z": {
          "bdata": "ix/cnemRDMCER7q5pIslwAQ4Kjo/CDLABhjzYh9ZOcDy1Sdr91tAwLrh6/sFEkTAZzi+3FzOR8AjexzzkJBLwFEGDMErWE/AcWNNTVaSUcDBKDnuxHpTwI/B+A8ZZVXAT8catQZRV8CzzTsqPz5ZwLBzjZZxLFvA8AHWiEsbXcAqQGyBeQpfwDI/Ab3TfGDAUoYltkB0YcBQWU7sWWtiwILc3ib2YWPAYt9v+exXZMDJq08KF01lwHGOxVpOQWbAlT4pkW40Z8BgIaVEVSZowA+yPEriFmnAukdxAvgFasCsSqKme/NqwCjdDZVV32vAKPkmmnHJbMCwm9A1v7FtwKrP9NoxmG7AprDjJ8F8b8ARR/WKtC9wwDAeUw8VoHDAoVraqoQPccCGGMw6CH5xwGKHa++m63HAAglTRGpYcsAqnVnxXcRywBkd+tOPL3PAk+lU0Q+ac8D6Wgux7wN0wGhqWfFCbXTAzMD0lB7WdMCG3VfrmD51wAnEO1TJpnXAsSsa/8cOdsABPaWnrXZ2wFFOMFCT3nbA+bUO+5FGd8B8nPJjwq53wDa5Vbo8F3jAmg/xXRiAeMAIHz+ea+l4wG+Q9X1LU3nA6VxQe8u9ecDY3PBd/Sh6wABx9wrxlHrAoPLeX7QBe8B8YX4UU297wGEfcKTW3XvA0lv3P0ZNfMDwMlXEpr18wK6hWLv6Ln3ALBLQYUKhfcApLGK0exR+wG39NoKiiH7AbYvDhLD9fsCrVPl7nXN/wCTWEU5f6n/AfRAWFfUwgMCp9HtWGG2AwFztWgOSqYDAZdnzEFrmgMAPUhHlZyOBwClFSWmyYIHA4YXtHTCegcCuppEs19uBwG7bG3qdGYLANu1kuHhXgsD9tHd3XpWCwMR8ijZE04LAjI7TdB8Rg8BMw13C5U6DwBnkAdGMjIPA0SSmhQrKg8DrF94JVQeEwJWQ+91iRITAnnyU6yqBhMBRdXOYpL2EwH1Z2dnH+YTA6H7mR401hcClv/Iw7nCFwESkjazkq4XAROvTrWvmhcDmU74UfyCGwOVgB74bWobABT2lp612hsA=",
          "dtype": "f8"
         }
        },
        {
         "marker": {
          "color": "green",
          "size": 6
         },
         "mode": "markers+text",
         "name": "Points milieux",
         "text": [
          "MD milieu 0.0 m",
          "MD milieu 10.1 m",
          "MD milieu 20.2 m",
          "MD milieu 30.3 m",
          "MD milieu 40.4 m",
          "MD milieu 50.5 m",
          "MD milieu 60.6 m",
          "MD milieu 70.7 m",
          "MD milieu 80.8 m",
          "MD milieu 90.9 m",
          "MD milieu 101.0 m",
          "MD milieu 111.1 m",
          "MD milieu 121.2 m",
          "MD milieu 131.3 m",
          "MD milieu 141.4 m",
          "MD milieu 151.5 m",
          "MD milieu 161.6 m",
          "MD milieu 171.7 m",
          "MD milieu 181.8 m",
          "MD milieu 191.9 m",
          "MD milieu 202.0 m",
          "MD milieu 212.1 m",
          "MD milieu 222.2 m",
          "MD milieu 232.3 m",
          "MD milieu 242.4 m",
          "MD milieu 252.5 m",
          "MD milieu 262.6 m",
          "MD milieu 272.7 m",
          "MD milieu 282.8 m",
          "MD milieu 292.9 m",
          "MD milieu 303.0 m",
          "MD milieu 313.1 m",
          "MD milieu 323.2 m",
          "MD milieu 333.3 m",
          "MD milieu 343.4 m",
          "MD milieu 353.5 m",
          "MD milieu 363.6 m",
          "MD milieu 373.7 m",
          "MD milieu 383.8 m",
          "MD milieu 393.9 m",
          "MD milieu 404.0 m",
          "MD milieu 414.1 m",
          "MD milieu 424.2 m",
          "MD milieu 434.3 m",
          "MD milieu 444.4 m",
          "MD milieu 454.5 m",
          "MD milieu 464.6 m",
          "MD milieu 474.7 m",
          "MD milieu 484.8 m",
          "MD milieu 494.9 m",
          "MD milieu 505.1 m",
          "MD milieu 515.2 m",
          "MD milieu 525.3 m",
          "MD milieu 535.4 m",
          "MD milieu 545.5 m",
          "MD milieu 555.6 m",
          "MD milieu 565.7 m",
          "MD milieu 575.8 m",
          "MD milieu 585.9 m",
          "MD milieu 596.0 m",
          "MD milieu 606.1 m",
          "MD milieu 616.2 m",
          "MD milieu 626.3 m",
          "MD milieu 636.4 m",
          "MD milieu 646.5 m",
          "MD milieu 656.6 m",
          "MD milieu 666.7 m",
          "MD milieu 676.8 m",
          "MD milieu 686.9 m",
          "MD milieu 697.0 m",
          "MD milieu 707.1 m",
          "MD milieu 717.2 m",
          "MD milieu 727.3 m",
          "MD milieu 737.4 m",
          "MD milieu 747.5 m",
          "MD milieu 757.6 m",
          "MD milieu 767.7 m",
          "MD milieu 777.8 m",
          "MD milieu 787.9 m",
          "MD milieu 798.0 m",
          "MD milieu 808.1 m",
          "MD milieu 818.2 m",
          "MD milieu 828.3 m",
          "MD milieu 838.4 m",
          "MD milieu 848.5 m",
          "MD milieu 858.6 m",
          "MD milieu 868.7 m",
          "MD milieu 878.8 m",
          "MD milieu 888.9 m",
          "MD milieu 899.0 m",
          "MD milieu 909.1 m",
          "MD milieu 919.2 m",
          "MD milieu 929.3 m",
          "MD milieu 939.4 m",
          "MD milieu 949.5 m",
          "MD milieu 959.6 m",
          "MD milieu 969.7 m",
          "MD milieu 979.8 m",
          "MD milieu 989.9 m",
          "MD milieu 1000.0 m"
         ],
         "textposition": "bottom center",
         "type": "scatter3d",
         "x": {
          "bdata": "AAAAAAAAAAADIZAOlpKpP8YGLdPLdsk/EavYSn5/3D8KrP2soTHpPwjUUgASk/M/UJSRcmQI/D9QeLR3g/kCQBH2YkrqpghA6GtdujAKD0BEknUKxRATQFlLlvTO9RZAO+E1e8gzG0By8gjphcofQG223MUPXSJA9rwJQHkBJUCaU0oU0NInQKAWwyWG0SpA0Fp+7iz+LUBnXxCguawwQMa+xzQRcjJAX+0IZ41PNEAV0L/+p0U2QADB3y/iVDhAoCoPRMJ9OkAF6Wgj0cA8QBfzG8iXHj9A0IyCVM7LQEDa/7CTMBZCQBYRt4WvbkNAcv2NDYPVREDKp5jq3EpGQFgO76znzkdAQwg+xMVhSUD5d0eskANLQOdaNjlYtExAslwcBSJ0TkDmnYp/dCFQQERa4I1OEFFATEUHk5EGUkAnomBXKgRTQOChTAwACVRAYJRnX/QUVUAVybGZ4ydWQA9macmkQVdAlNl09QliWEA0ZGRZ4IhZQDnvRanwtVpAFIrDXP/oW0C6jkUBzSFdQI5bEJMWYF5AoaGN3ZWjX0CX047xAHZgQHywdKaHHGFAG86bcTjFYUDvsl0H7G9iQDe5l7F6HGNAcOysmbzKY0DpVSMXinpkQFPmlAK8K2VA8Gl2DCzeZUDiC/0WtZFmQOuwL5IzRmdASOb32IX7Z0BVTNGNjLFoQEAmifUqaGlAAJ5cTkcfakAPcq0hy9ZqQCyye46jjmtAW9HYisFGbEBk4JwaGv9sQHvOyXmmt21AzQo5OWRwbkCYPmxMVSlvQDoXoAeA4m9ASfnGhvdNcEDwIk6W2KpwQJinyZXsB3FAI9Mgwz5lcUAcLGgN3MJxQEQva+TSIHJACdvCATN/ckAhzkcsDd5yQJMkzPZyPXNAO+ghe3adc0CFZoYSKv5zQGWxmAygX3RAgLAJZurBdEAYNTaAGiV1QCBT19pAiXVArb3q0GzudUDpEeRZrFR2QJECIdALvHZAZop9vZUkd0AWNcOuUo53QIvohw5J+XdAuVvmB31leEBPv01x8NJ4QNVjeL+iQXlAIFEvNG6VeUA=",
          "dtype": "f8"
         },
         "y": {
          "bdata": "ix/cnemR/D9mB0JaF3McQEiAeh3uUyxAnw+rP1AnNUBEdBRJtRQ8QOobSbEYeUFAnE2RU/vfREBi1puMLj9IQHE6N4/wlktALvp+upDnTkBbh/UptxhRQONeTYJ7ulJAgQqHj1JZVECpx9jZfvVVQBeH1D1Hj1dABqYS0fUmWUCw05661rxaQICw4gM3UVxAKgLvZmPkXUCJNhAfp3ZfQBbLRmAlhGBAWzsmjslMYUAQWukZYBViQBtd5yAG3mJA1WVwbdWmY0CkWfEU5G9kQHFuLSVEOWVAvF2UYQMDZkBf4WYRK81mQMEKAt+/l2dA7XpPyMFiaEAyBv8fLC5pQKyO2J71+WlA75MlhBDGakBJuuvDapJrQErBdkHuXmxA8gWDFIErbUDUOTvXBfhtQApILftbxG5AlZhbI2CQb0B5N9BA9i1wQCza25psk3BA2hE3Vn74cEBLgNT+FV1xQGcoGqQdwXFA1OJBBX8kckCmaei7I4dyQGDXnWT16HJAbhBlxd1Jc0CV5SXyxqlzQKfXJm+bCHRAJJquUUZmdEAQdvJes8J0QEuRdSnPHXVAIEv2LId3dUC7Evvoyc91QHxcAPqGJnZAU+Q2Ma97dkDYn62qNM92QLkVr+EKIXdAj7EHwyZxd0BGctu8fr93QOEppssKDHhApF/7g8RWeED9Z5oYp594QFjFcFyv5nhAlmIwwNsreUAdXzBLLG95QApVZY+isHlAqlhYmEHweUCTViHVDS56QDyyiP0ManpAB9GT8kWkekC1Td+awNx6QL+yRruFE3tAWbxzzJ5Ie0AgXgXOFXx7QExrEBj1rXtAgE3IK0fee0A4aiWEFg18QFGeYGdtOnxA7a0XulVmfEAW7uXU2JB8QEEkL13/uXxAVxXJIdHhfECDCBv8VAh9QMgtMraQLX1Aqf8u9ohRfUDS/FIvQXR9QCAi2Ji7lX1AiwudKvm1fUA+RpKf+dR9QBXdt3278n1AkTteIzwPfkB930PZdyp+QFumEulpRH5AwXCstwxdfkAA5qfiWXR+QMjAU2BKin5Ac7xileCZfkA=",
          "dtype": "f8"
         },
         "z": {
          "bdata": "ix/cnemR/L9mTzEhH7AcwMZbB5cRzizABaiOTq+wNcD1YaEchwg9wNbbibP+NkLAEQ1VbDHwRcDFWe3ndq9JwLpAFFpedE3ATbPpFjafUMAZRsOdjYZSwCj1GP/ub1TAb8SJ4g9bVsCBSqvvokdYwLGgZGBYNVrA0Lqxj94jXMANISGF4hJewKOv2z4IAWDAwmKTOYr4YMDR7zlRze9hwOmalgmo5mLA8l0nkPHcY8CVxd8BgtJkwB2dirIyx2XAg2b3dd66ZsD7L+fqYa1nwLfpcMebnmjA5fxWJm2OacAzyYnUuXxqwOoT2J1oaWvAKGual2NUbMBsyvtnmD1twK21Yoj4JG7AKEBsgXkKb8BkH+ceFe5vwKEyJM3kZ3DAabwW3czXcMCUOdNyxkZxwPTPG5XXtHHAMkjfmQgicsAWU9YaZI5ywCHdqeL2+XLAVoOn0s9kc8BGIjDB/85zwLFiMlGZOHTAmhUnw7ChdMApTybAWwp1wMfQyR+xcnXA3feqqcjadcBZtF/TukJ2wKnF6nugqnbAJYKfpZISd8A6qYAvqnp3wNkqJI//4nfAaGQjjKpLeMBRFxj+wbR4wLtXGo5bHnnArPaifIuIecDhnKBsZPN5wOwmdDT3XnrA0DFrtVLLesAOqi66gzh7wG9Ad9yUpnvAmr0zco4VfMBhRyaCdoV8wE/q1r9Q9nzA7VmUjh5ofcArHxkL39p9wMuUTBuPTn7AbUR9gynDfsAMcF4Apzh/wGiVBWX+rn/Ax30PXhITgMCTAsm1Bk+AwAJx6yxVi4DAYWMnCvbHgMC6lQL74ASBwJxLLScNQoHAhWWbQ3F/gcBHlj+lA72BwA7BVlO6+oHAUmRAGYs4gsAaUe6Xa3aCwOEYAVdRtILAqAWv1THygsDsqJibAjCDwLLTr0m5bYPAdQRUq0urg8BeHsLHr+iDwEDU7PPbJYTAmgbI5MZihMD3+APCZ5+EwGdnJjm224TAMuzfkKoXhcBGn2y8PVOFwPQxwG5pjoXAxMcwLSjJhcCVH0lhdQOGwGXaYmlNPYbA9U7WsmRohsA=",
          "dtype": "f8"
         }
        },
        {
         "marker": {
          "color": "red",
          "size": 6
         },
         "mode": "markers+text",
         "name": "Composites interpolés",
         "text": [
          "MD 0.0 m",
          "MD 41.7 m",
          "MD 83.3 m",
          "MD 125.0 m",
          "MD 166.7 m",
          "MD 208.3 m",
          "MD 250.0 m",
          "MD 291.7 m",
          "MD 333.3 m",
          "MD 375.0 m",
          "MD 416.7 m",
          "MD 458.3 m",
          "MD 500.0 m",
          "MD 541.7 m",
          "MD 583.3 m",
          "MD 625.0 m",
          "MD 666.7 m",
          "MD 708.3 m",
          "MD 750.0 m",
          "MD 791.7 m",
          "MD 833.3 m",
          "MD 875.0 m",
          "MD 916.7 m",
          "MD 958.3 m",
          "MD 1000.0 m"
         ],
         "textposition": "top center",
         "type": "scatter3d",
         "x": {
          "bdata": "AAAAAAAAAACcZauUla3wP2J52W/DWg1AzJ9kTSIyH0CgFsMlhtEqQIj4MuPCjDRA1bAGTuNUPUBGaGMCivJDQNrN+mntLkpASfVjkFe1UEBsSbmHFdFUQOLeOCKgY1lAj1sQkxZgXkDi00D0b9phQFANWnGspmRAwLzWxA2KZ0Ch0RLx8XpqQI8HHI5ocm1AGuNC+8Q2cEDo/mxEI7dxQJQkzPZyPXNAajw1hUHOdEBMa+iBX252QJRmxbagIXhABd1rAJGxeUA=",
          "dtype": "f8"
         },
         "y": {
          "bdata": "AAAAAAAAAACpMunQDTFAQEwF3W9HFE5AvtIB1SHCVUCAsOIDN1FcQBnEW0TcZWFA19J17DCiZEC8YL9ZzONnQHae91EwLGtAMeGpnMd3bkD02N3NR99wQLALMqPbenJAp9cmb5sIdEApka9gp4J1QNOGwN3g43ZA/Bm9Z2goeEDeX9fh+k15QDWiQCrjU3pAyAWWbY07e0B15W5xVAd8QEIkL13/uXxAeqQK5/NVfUCWTBILktx9QM8fYmPmTX5AdH+RodaefkA=",
          "dtype": "f8"
         },
         "z": {
          "bdata": "AAAAAAAAAABrV0A9udJAwDvbt/ulJVDAtSkH4fsJWMCkr9s+CAFgwE5+eWqw+2PArijGl9vpZ8DYakBX2sFrwKaw4yfBfG/AYgZgEbyLccA40FDTL0pzwJLrWXVM/XTAqcXqe6CqdsA1z5YAxlh4wNy8SOUwDnrApedxMgbQe8AsEtBhQqF9wNpkPLZ1gn/AXijBBsS4gMAuEmvDTrWBwOAYAVdRtILAjIzoYfuyg8Aktzsthq6EwLBHGt2FpIXABT2lp612hsA=",
          "dtype": "f8"
         }
        }
       ],
       "layout": {
        "legend": {
         "x": 0.05,
         "y": 0.95
        },
        "margin": {
         "b": 0,
         "l": 0,
         "r": 0,
         "t": 40
        },
        "scene": {
         "aspectmode": "data",
         "xaxis": {
          "title": {
           "text": "X (m)"
          }
         },
         "yaxis": {
          "title": {
           "text": "Y (m)"
          }
         },
         "zaxis": {
          "title": {
           "text": "Z (m, ↑)"
          }
         }
        },
        "template": {
         "data": {
          "bar": [
           {
            "error_x": {
             "color": "#2a3f5f"
            },
            "error_y": {
             "color": "#2a3f5f"
            },
            "marker": {
             "line": {
              "color": "#E5ECF6",
              "width": 0.5
             },
             "pattern": {
              "fillmode": "overlay",
              "size": 10,
              "solidity": 0.2
             }
            },
            "type": "bar"
           }
          ],
          "barpolar": [
           {
            "marker": {
             "line": {
              "color": "#E5ECF6",
              "width": 0.5
             },
             "pattern": {
              "fillmode": "overlay",
              "size": 10,
              "solidity": 0.2
             }
            },
            "type": "barpolar"
           }
          ],
          "carpet": [
           {
            "aaxis": {
             "endlinecolor": "#2a3f5f",
             "gridcolor": "white",
             "linecolor": "white",
             "minorgridcolor": "white",
             "startlinecolor": "#2a3f5f"
            },
            "baxis": {
             "endlinecolor": "#2a3f5f",
             "gridcolor": "white",
             "linecolor": "white",
             "minorgridcolor": "white",
             "startlinecolor": "#2a3f5f"
            },
            "type": "carpet"
           }
          ],
          "choropleth": [
           {
            "colorbar": {
             "outlinewidth": 0,
             "ticks": ""
            },
            "type": "choropleth"
           }
          ],
          "contour": [
           {
            "colorbar": {
             "outlinewidth": 0,
             "ticks": ""
            },
            "colorscale": [
             [
              0,
              "#0d0887"
             ],
             [
              0.1111111111111111,
              "#46039f"
             ],
             [
              0.2222222222222222,
              "#7201a8"
             ],
             [
              0.3333333333333333,
              "#9c179e"
             ],
             [
              0.4444444444444444,
              "#bd3786"
             ],
             [
              0.5555555555555556,
              "#d8576b"
             ],
             [
              0.6666666666666666,
              "#ed7953"
             ],
             [
              0.7777777777777778,
              "#fb9f3a"
             ],
             [
              0.8888888888888888,
              "#fdca26"
             ],
             [
              1,
              "#f0f921"
             ]
            ],
            "type": "contour"
           }
          ],
          "contourcarpet": [
           {
            "colorbar": {
             "outlinewidth": 0,
             "ticks": ""
            },
            "type": "contourcarpet"
           }
          ],
          "heatmap": [
           {
            "colorbar": {
             "outlinewidth": 0,
             "ticks": ""
            },
            "colorscale": [
             [
              0,
              "#0d0887"
             ],
             [
              0.1111111111111111,
              "#46039f"
             ],
             [
              0.2222222222222222,
              "#7201a8"
             ],
             [
              0.3333333333333333,
              "#9c179e"
             ],
             [
              0.4444444444444444,
              "#bd3786"
             ],
             [
              0.5555555555555556,
              "#d8576b"
             ],
             [
              0.6666666666666666,
              "#ed7953"
             ],
             [
              0.7777777777777778,
              "#fb9f3a"
             ],
             [
              0.8888888888888888,
              "#fdca26"
             ],
             [
              1,
              "#f0f921"
             ]
            ],
            "type": "heatmap"
           }
          ],
          "histogram": [
           {
            "marker": {
             "pattern": {
              "fillmode": "overlay",
              "size": 10,
              "solidity": 0.2
             }
            },
            "type": "histogram"
           }
          ],
          "histogram2d": [
           {
            "colorbar": {
             "outlinewidth": 0,
             "ticks": ""
            },
            "colorscale": [
             [
              0,
              "#0d0887"
             ],
             [
              0.1111111111111111,
              "#46039f"
             ],
             [
              0.2222222222222222,
              "#7201a8"
             ],
             [
              0.3333333333333333,
              "#9c179e"
             ],
             [
              0.4444444444444444,
              "#bd3786"
             ],
             [
              0.5555555555555556,
              "#d8576b"
             ],
             [
              0.6666666666666666,
              "#ed7953"
             ],
             [
              0.7777777777777778,
              "#fb9f3a"
             ],
             [
              0.8888888888888888,
              "#fdca26"
             ],
             [
              1,
              "#f0f921"
             ]
            ],
            "type": "histogram2d"
           }
          ],
          "histogram2dcontour": [
           {
            "colorbar": {
             "outlinewidth": 0,
             "ticks": ""
            },
            "colorscale": [
             [
              0,
              "#0d0887"
             ],
             [
              0.1111111111111111,
              "#46039f"
             ],
             [
              0.2222222222222222,
              "#7201a8"
             ],
             [
              0.3333333333333333,
              "#9c179e"
             ],
             [
              0.4444444444444444,
              "#bd3786"
             ],
             [
              0.5555555555555556,
              "#d8576b"
             ],
             [
              0.6666666666666666,
              "#ed7953"
             ],
             [
              0.7777777777777778,
              "#fb9f3a"
             ],
             [
              0.8888888888888888,
              "#fdca26"
             ],
             [
              1,
              "#f0f921"
             ]
            ],
            "type": "histogram2dcontour"
           }
          ],
          "mesh3d": [
           {
            "colorbar": {
             "outlinewidth": 0,
             "ticks": ""
            },
            "type": "mesh3d"
           }
          ],
          "parcoords": [
           {
            "line": {
             "colorbar": {
              "outlinewidth": 0,
              "ticks": ""
             }
            },
            "type": "parcoords"
           }
          ],
          "pie": [
           {
            "automargin": true,
            "type": "pie"
           }
          ],
          "scatter": [
           {
            "fillpattern": {
             "fillmode": "overlay",
             "size": 10,
             "solidity": 0.2
            },
            "type": "scatter"
           }
          ],
          "scatter3d": [
           {
            "line": {
             "colorbar": {
              "outlinewidth": 0,
              "ticks": ""
             }
            },
            "marker": {
             "colorbar": {
              "outlinewidth": 0,
              "ticks": ""
             }
            },
            "type": "scatter3d"
           }
          ],
          "scattercarpet": [
           {
            "marker": {
             "colorbar": {
              "outlinewidth": 0,
              "ticks": ""
             }
            },
            "type": "scattercarpet"
           }
          ],
          "scattergeo": [
           {
            "marker": {
             "colorbar": {
              "outlinewidth": 0,
              "ticks": ""
             }
            },
            "type": "scattergeo"
           }
          ],
          "scattergl": [
           {
            "marker": {
             "colorbar": {
              "outlinewidth": 0,
              "ticks": ""
             }
            },
            "type": "scattergl"
           }
          ],
          "scattermap": [
           {
            "marker": {
             "colorbar": {
              "outlinewidth": 0,
              "ticks": ""
             }
            },
            "type": "scattermap"
           }
          ],
          "scattermapbox": [
           {
            "marker": {
             "colorbar": {
              "outlinewidth": 0,
              "ticks": ""
             }
            },
            "type": "scattermapbox"
           }
          ],
          "scatterpolar": [
           {
            "marker": {
             "colorbar": {
              "outlinewidth": 0,
              "ticks": ""
             }
            },
            "type": "scatterpolar"
           }
          ],
          "scatterpolargl": [
           {
            "marker": {
             "colorbar": {
              "outlinewidth": 0,
              "ticks": ""
             }
            },
            "type": "scatterpolargl"
           }
          ],
          "scatterternary": [
           {
            "marker": {
             "colorbar": {
              "outlinewidth": 0,
              "ticks": ""
             }
            },
            "type": "scatterternary"
           }
          ],
          "surface": [
           {
            "colorbar": {
             "outlinewidth": 0,
             "ticks": ""
            },
            "colorscale": [
             [
              0,
              "#0d0887"
             ],
             [
              0.1111111111111111,
              "#46039f"
             ],
             [
              0.2222222222222222,
              "#7201a8"
             ],
             [
              0.3333333333333333,
              "#9c179e"
             ],
             [
              0.4444444444444444,
              "#bd3786"
             ],
             [
              0.5555555555555556,
              "#d8576b"
             ],
             [
              0.6666666666666666,
              "#ed7953"
             ],
             [
              0.7777777777777778,
              "#fb9f3a"
             ],
             [
              0.8888888888888888,
              "#fdca26"
             ],
             [
              1,
              "#f0f921"
             ]
            ],
            "type": "surface"
           }
          ],
          "table": [
           {
            "cells": {
             "fill": {
              "color": "#EBF0F8"
             },
             "line": {
              "color": "white"
             }
            },
            "header": {
             "fill": {
              "color": "#C8D4E3"
             },
             "line": {
              "color": "white"
             }
            },
            "type": "table"
           }
          ]
         },
         "layout": {
          "annotationdefaults": {
           "arrowcolor": "#2a3f5f",
           "arrowhead": 0,
           "arrowwidth": 1
          },
          "autotypenumbers": "strict",
          "coloraxis": {
           "colorbar": {
            "outlinewidth": 0,
            "ticks": ""
           }
          },
          "colorscale": {
           "diverging": [
            [
             0,
             "#8e0152"
            ],
            [
             0.1,
             "#c51b7d"
            ],
            [
             0.2,
             "#de77ae"
            ],
            [
             0.3,
             "#f1b6da"
            ],
            [
             0.4,
             "#fde0ef"
            ],
            [
             0.5,
             "#f7f7f7"
            ],
            [
             0.6,
             "#e6f5d0"
            ],
            [
             0.7,
             "#b8e186"
            ],
            [
             0.8,
             "#7fbc41"
            ],
            [
             0.9,
             "#4d9221"
            ],
            [
             1,
             "#276419"
            ]
           ],
           "sequential": [
            [
             0,
             "#0d0887"
            ],
            [
             0.1111111111111111,
             "#46039f"
            ],
            [
             0.2222222222222222,
             "#7201a8"
            ],
            [
             0.3333333333333333,
             "#9c179e"
            ],
            [
             0.4444444444444444,
             "#bd3786"
            ],
            [
             0.5555555555555556,
             "#d8576b"
            ],
            [
             0.6666666666666666,
             "#ed7953"
            ],
            [
             0.7777777777777778,
             "#fb9f3a"
            ],
            [
             0.8888888888888888,
             "#fdca26"
            ],
            [
             1,
             "#f0f921"
            ]
           ],
           "sequentialminus": [
            [
             0,
             "#0d0887"
            ],
            [
             0.1111111111111111,
             "#46039f"
            ],
            [
             0.2222222222222222,
             "#7201a8"
            ],
            [
             0.3333333333333333,
             "#9c179e"
            ],
            [
             0.4444444444444444,
             "#bd3786"
            ],
            [
             0.5555555555555556,
             "#d8576b"
            ],
            [
             0.6666666666666666,
             "#ed7953"
            ],
            [
             0.7777777777777778,
             "#fb9f3a"
            ],
            [
             0.8888888888888888,
             "#fdca26"
            ],
            [
             1,
             "#f0f921"
            ]
           ]
          },
          "colorway": [
           "#636efa",
           "#EF553B",
           "#00cc96",
           "#ab63fa",
           "#FFA15A",
           "#19d3f3",
           "#FF6692",
           "#B6E880",
           "#FF97FF",
           "#FECB52"
          ],
          "font": {
           "color": "#2a3f5f"
          },
          "geo": {
           "bgcolor": "white",
           "lakecolor": "white",
           "landcolor": "#E5ECF6",
           "showlakes": true,
           "showland": true,
           "subunitcolor": "white"
          },
          "hoverlabel": {
           "align": "left"
          },
          "hovermode": "closest",
          "mapbox": {
           "style": "light"
          },
          "paper_bgcolor": "white",
          "plot_bgcolor": "#E5ECF6",
          "polar": {
           "angularaxis": {
            "gridcolor": "white",
            "linecolor": "white",
            "ticks": ""
           },
           "bgcolor": "#E5ECF6",
           "radialaxis": {
            "gridcolor": "white",
            "linecolor": "white",
            "ticks": ""
           }
          },
          "scene": {
           "xaxis": {
            "backgroundcolor": "#E5ECF6",
            "gridcolor": "white",
            "gridwidth": 2,
            "linecolor": "white",
            "showbackground": true,
            "ticks": "",
            "zerolinecolor": "white"
           },
           "yaxis": {
            "backgroundcolor": "#E5ECF6",
            "gridcolor": "white",
            "gridwidth": 2,
            "linecolor": "white",
            "showbackground": true,
            "ticks": "",
            "zerolinecolor": "white"
           },
           "zaxis": {
            "backgroundcolor": "#E5ECF6",
            "gridcolor": "white",
            "gridwidth": 2,
            "linecolor": "white",
            "showbackground": true,
            "ticks": "",
            "zerolinecolor": "white"
           }
          },
          "shapedefaults": {
           "line": {
            "color": "#2a3f5f"
           }
          },
          "ternary": {
           "aaxis": {
            "gridcolor": "white",
            "linecolor": "white",
            "ticks": ""
           },
           "baxis": {
            "gridcolor": "white",
            "linecolor": "white",
            "ticks": ""
           },
           "bgcolor": "#E5ECF6",
           "caxis": {
            "gridcolor": "white",
            "linecolor": "white",
            "ticks": ""
           }
          },
          "title": {
           "x": 0.05
          },
          "xaxis": {
           "automargin": true,
           "gridcolor": "white",
           "linecolor": "white",
           "ticks": "",
           "title": {
            "standoff": 15
           },
           "zerolinecolor": "white",
           "zerolinewidth": 2
          },
          "yaxis": {
           "automargin": true,
           "gridcolor": "white",
           "linecolor": "white",
           "ticks": "",
           "title": {
            "standoff": 15
           },
           "zerolinecolor": "white",
           "zerolinewidth": 2
          }
         }
        },
        "title": {
         "text": "Trajectoire 3D par méthode des points milieux"
        }
       }
      }
     },
     "metadata": {},
     "output_type": "display_data"
    }
   ],
   "source": [
    "# Exemple réaliste avec 100 stations\n",
    "n_points = 100\n",
    "md_list = np.linspace(0, 1000, n_points)\n",
    "inc_list = np.linspace(0, 80, n_points)\n",
    "azi_list = 45 + 5 * np.sin(np.linspace(0, 3*np.pi, n_points))\n",
    "\n",
    "measurements = list(zip(md_list, azi_list, inc_list))  # Azimut, puis inclinaison\n",
    "targets = np.linspace(0, 1000, 25)\n",
    "\n",
    "# Calcul sans affichage des calculs intermédiaires\n",
    "path, mids = compute_segments_midpoint(measurements, show_debug=False)\n",
    "interp = interpolate_composites(measurements, path, targets)\n",
    "\n",
    "# Tracé 3D\n",
    "plotly_3d_path(path, mids, interp, measurements)\n"
   ]
  },
  {
   "cell_type": "code",
   "execution_count": null,
   "id": "ef1a4ca4-4151-4888-8b21-72264e6945ef",
   "metadata": {},
   "outputs": [],
   "source": []
  }
 ],
 "metadata": {
  "kernelspec": {
   "display_name": "Python 3 (ipykernel)",
   "language": "python",
   "name": "python3"
  },
  "language_info": {
   "codemirror_mode": {
    "name": "ipython",
    "version": 3
   },
   "file_extension": ".py",
   "mimetype": "text/x-python",
   "name": "python",
   "nbconvert_exporter": "python",
   "pygments_lexer": "ipython3",
   "version": "3.11.11"
  }
 },
 "nbformat": 4,
 "nbformat_minor": 5
}
