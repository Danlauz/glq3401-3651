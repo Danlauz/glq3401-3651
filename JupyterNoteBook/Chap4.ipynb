{
 "cells": [
  {
   "cell_type": "code",
   "execution_count": 2,
   "id": "4b05b28c-9b51-4a91-986b-49d87dc3a397",
   "metadata": {
    "editable": true,
    "slideshow": {
     "slide_type": ""
    },
    "tags": [
     "remove-input"
    ]
   },
   "outputs": [
    {
     "name": "stdout",
     "output_type": "stream",
     "text": [
      "Note: you may need to restart the kernel to use updated packages.\n"
     ]
    }
   ],
   "source": [
    "# Installer les packages nécessaires (plotly, ipywidgets)\n",
    "# Cette cellule peut être cachée dans la version finale avec :tags: [remove-input]\n",
    "%pip install seaborn pyvista --quiet"
   ]
  },
  {
   "cell_type": "markdown",
   "id": "95f241ca-4d98-45b7-96f3-8f8b90a4c05c",
   "metadata": {
    "editable": true,
    "slideshow": {
     "slide_type": ""
    },
    "tags": []
   },
   "source": [
    "# 🎯 Traitement et analyse statistique des données de forage"
   ]
  },
  {
   "cell_type": "markdown",
   "id": "06e070a2-e6ad-4d2f-9981-7a1b5078fc31",
   "metadata": {
    "editable": true,
    "slideshow": {
     "slide_type": ""
    },
    "tags": []
   },
   "source": [
    "## 📘 Analyse du Dégroupement sur un Gisement Synthétique Spatialement Corrélé\n",
    "\n",
    "Dans cet atelier, nous explorerons les effets de l'échantillonnage et du dégroupement sur un gisement spatialement corrélé suivant une distribution marginale log-normale. Nous analyserons comment la taille des cellules de dégroupement influence les estimations de la moyenne et de la variance des échantillons. Les participants apprendront à visualiser et interpréter les résultats à travers des graphiques interactifs.\n",
    "\n",
    "### 🖼️ Descriptions des 4 figures\n",
    "\n",
    "1. **Carte du champ log-normal avec échantillons :**  \n",
    "   Cette figure montre la distribution spatiale du champ log-normal simulé, avec les emplacements des échantillons aléatoires (en noir) et ceux ciblant une zone à forte valeur (hotspot, en rouge).\n",
    "\n",
    "2. **Histogrammes et fonctions de répartition cumulée (CDF) :**  \n",
    "   On compare ici la distribution des valeurs du champ complet avec celles des échantillons, en incluant une version pondérée si le dégroupement est activé, pour visualiser les biais d’échantillonnage.\n",
    "\n",
    "3. **Effet de la taille de cellule sur la moyenne pondérée :**  \n",
    "   Cette courbe montre comment la moyenne des échantillons varie en fonction de la taille des cellules utilisées pour le dégroupement, comparée à la moyenne globale du champ.\n",
    "\n",
    "4. **Effet de la taille de cellule sur la variance pondérée :**  \n",
    "   De manière similaire, cette figure illustre l’impact de la taille de cellule sur la variance estimée des échantillons, en la comparant à la variance réelle du champ."
   ]
  },
  {
   "cell_type": "code",
   "execution_count": 32,
   "id": "4953e83c-1eb4-4193-87c5-9ddd03acd27b",
   "metadata": {
    "editable": true,
    "scrolled": true,
    "slideshow": {
     "slide_type": ""
    },
    "tags": [
     "hide-input"
    ]
   },
   "outputs": [
    {
     "data": {
      "application/vnd.jupyter.widget-view+json": {
       "model_id": "633e14be638a4a2c99a250d610dfe92f",
       "version_major": 2,
       "version_minor": 0
      },
      "text/plain": [
       "interactive(children=(IntSlider(value=15, description='Portée sphérique', max=50, min=5), FloatSlider(value=0.…"
      ]
     },
     "metadata": {},
     "output_type": "display_data"
    },
    {
     "data": {
      "text/plain": [
       "<function __main__.interactive_sampling_fixed_hotspot(n, range_, sigma_gauss, median, n_samples_all, n_samples_hotspot, hotspot_size, declust_cells, show_declustering, x0y0x1y1, seed)>"
      ]
     },
     "execution_count": 32,
     "metadata": {},
     "output_type": "execute_result"
    }
   ],
   "source": [
    "import numpy as np\n",
    "import matplotlib.pyplot as plt\n",
    "import seaborn as sns\n",
    "from ipywidgets import interact, IntSlider, FloatSlider, fixed, ToggleButton\n",
    "\n",
    "def spherical_cov(h, range_):\n",
    "    c = np.zeros_like(h)\n",
    "    mask = h < range_\n",
    "    hr = h[mask] / range_\n",
    "    c[mask] = 1 - 1.5 * hr + 0.5 * hr**3\n",
    "    return c\n",
    "\n",
    "def fftma_spherical(n, range_, sigma=1.0, seed=None):\n",
    "    if seed is not None:\n",
    "        np.random.seed(seed)\n",
    "    \n",
    "    N = 2 * n\n",
    "    x = np.arange(N)\n",
    "    y = np.arange(N)\n",
    "    X, Y = np.meshgrid(x, y)\n",
    "    dist_x = np.minimum(X, N - X)\n",
    "    dist_y = np.minimum(Y, N - Y)\n",
    "    h = np.sqrt(dist_x**2 + dist_y**2)\n",
    "    \n",
    "    cov = spherical_cov(h, range_)\n",
    "    cov = cov / cov.max()\n",
    "    \n",
    "    fft_cov = np.fft.fft2(cov)\n",
    "    white_noise = np.random.normal(0, 1, (N, N))\n",
    "    fft_noise = np.fft.fft2(white_noise)\n",
    "    \n",
    "    fft_field = np.sqrt(np.abs(fft_cov)) * fft_noise\n",
    "    field = np.fft.ifft2(fft_field).real\n",
    "    \n",
    "    field = field[:n, :n]\n",
    "    field = (field - np.mean(field)) / np.std(field)\n",
    "    field = field * sigma\n",
    "    return field\n",
    "\n",
    "def generate_lognormal_field(n, range_, sigma_gauss, median=1.0, seed=None):\n",
    "    gauss_field = fftma_spherical(n, range_, sigma=sigma_gauss, seed=seed)\n",
    "    mu = np.log(median) - 0.5 * sigma_gauss**2\n",
    "    lognormal_field = np.exp(mu + gauss_field)\n",
    "    return gauss_field, lognormal_field\n",
    "\n",
    "def compute_cell_declustering_weights(samples, n_cells):\n",
    "    cells = {}\n",
    "    weights = np.zeros(len(samples))\n",
    "    for i, (x, y) in enumerate(samples):\n",
    "        cx = int(x / n_cells)\n",
    "        cy = int(y / n_cells)\n",
    "        key = (cx, cy)\n",
    "        if key not in cells:\n",
    "            cells[key] = []\n",
    "        cells[key].append(i)\n",
    "    \n",
    "    for indices in cells.values():\n",
    "        w = 1.0 / len(indices)\n",
    "        for idx in indices:\n",
    "            weights[idx] = w\n",
    "    return weights\n",
    "\n",
    "def find_hotspot_location(field, hotspot_size):\n",
    "    n = field.shape[0]\n",
    "    max_pos = np.unravel_index(np.argmax(field), field.shape)\n",
    "    x0 = max(0, max_pos[0] - hotspot_size // 2)\n",
    "    y0 = max(0, max_pos[1] - hotspot_size // 2)\n",
    "    x1 = min(n, x0 + hotspot_size)\n",
    "    y1 = min(n, y0 + hotspot_size)\n",
    "    return x0, y0, x1, y1\n",
    "\n",
    "def interactive_sampling_fixed_hotspot(\n",
    "    n, range_, sigma_gauss, median, n_samples_all,\n",
    "    n_samples_hotspot, hotspot_size, declust_cells,\n",
    "    show_declustering, x0y0x1y1, seed\n",
    "):\n",
    "    gauss_field, lognormal_field = generate_lognormal_field(n, range_, sigma_gauss, median, seed=seed)\n",
    "    x0, y0, x1, y1 = x0y0x1y1\n",
    "\n",
    "    indices_all = np.array([(i,j) for i in range(n) for j in range(n)])\n",
    "    rng = np.random.default_rng(seed)\n",
    "    \n",
    "    sampled_indices_all = rng.choice(len(indices_all), size=n_samples_all, replace=False)\n",
    "    samples_all = indices_all[sampled_indices_all]\n",
    "    samples_all_values = lognormal_field[samples_all[:,0], samples_all[:,1]]\n",
    "\n",
    "    indices_hotspot = np.array([(i,j) for i in range(x0, x1) for j in range(y0, y1)])\n",
    "    if len(indices_hotspot) == 0:\n",
    "        samples_hotspot = np.empty((0,2), dtype=int)\n",
    "        samples_hotspot_values = np.array([])\n",
    "    else:\n",
    "        n_samples_hotspot = min(n_samples_hotspot, len(indices_hotspot))\n",
    "        sampled_indices_hotspot = rng.choice(len(indices_hotspot), size=n_samples_hotspot, replace=False)\n",
    "        samples_hotspot = indices_hotspot[sampled_indices_hotspot]\n",
    "        samples_hotspot_values = lognormal_field[samples_hotspot[:,0], samples_hotspot[:,1]]\n",
    "    \n",
    "    combined_samples = np.vstack([samples_all, samples_hotspot])\n",
    "    combined_values = np.concatenate([samples_all_values, samples_hotspot_values])\n",
    "\n",
    "    weights = compute_cell_declustering_weights(combined_samples, declust_cells)\n",
    "    weights /= weights.sum()\n",
    "    \n",
    "    # Nouvelle figure 2x2\n",
    "    fig, axs = plt.subplots(2, 2, figsize=(10, 8))\n",
    "\n",
    "    # === Carte du champ ===\n",
    "    ax = axs[0, 0]\n",
    "    im = ax.imshow(lognormal_field, cmap='jet', origin='lower')\n",
    "    ax.scatter(samples_all[:,1], samples_all[:,0], facecolors='none', edgecolors='black', s=40, label='Échantillons aléatoires')\n",
    "    ax.scatter(samples_hotspot[:,1], samples_hotspot[:,0], facecolors='none', edgecolors='red', s=60, label='Échantillons hotspot')\n",
    "    ax.set_title(\"Gisement avec échantillons\")\n",
    "    ax.set_xlabel('X')\n",
    "    ax.set_ylabel('Y')\n",
    "    ax.legend()\n",
    "    fig.colorbar(im, ax=ax, fraction=0.046, pad=0.04, label='Valeur log-normal')\n",
    "\n",
    "    # === Histogrammes et CDF ===\n",
    "    ax = axs[0, 1]\n",
    "    bins = np.linspace(0, np.percentile(lognormal_field, 99.5), 30)\n",
    "    \n",
    "    sns.histplot(lognormal_field.flatten(), bins=bins, stat=\"density\",\n",
    "                 color='gray', label='Champ complet', ax=ax, alpha=0.3)\n",
    "    sns.histplot(combined_values, bins=bins, stat=\"density\",\n",
    "                 color='blue', label='Échantillons', ax=ax, alpha=0.4)\n",
    "\n",
    "    if show_declustering:\n",
    "        ax.hist(combined_values, bins=bins, weights=weights, density=True,\n",
    "                color='green', label='Dégroupés (pondérés)', alpha=0.5,\n",
    "                edgecolor='black', linewidth=0.5)\n",
    "\n",
    "    ax.set_xlabel(\"Valeur\")\n",
    "    ax.set_ylabel(\"Densité\")\n",
    "    ax.set_title(\"Histogrammes\")\n",
    "\n",
    "    ax2 = ax.twinx()\n",
    "    sorted_all = np.sort(lognormal_field.flatten())\n",
    "    sorted_non = np.sort(combined_values)\n",
    "    sorted_idx = np.argsort(combined_values)\n",
    "    cdf_all = np.linspace(0, 1, len(sorted_all))\n",
    "    cdf_non = np.linspace(0, 1, len(sorted_non))\n",
    "    cdf_w = np.cumsum(weights[sorted_idx])\n",
    "\n",
    "    ax2.plot(sorted_all, cdf_all, color='black', lw=2, linestyle='--', label=\"CDF champ complet\")\n",
    "    ax2.plot(sorted_non, cdf_non, color='blue', lw=2, linestyle='-', label=\"CDF échantillons\")\n",
    "    if show_declustering:\n",
    "        ax2.plot(sorted_non, cdf_w, color='green', lw=2, linestyle='-', label=\"CDF dégroupée\")\n",
    "\n",
    "    ax2.set_ylabel(\"Fonction de répartition\")\n",
    "    ax2.set_ylim(0, 1)\n",
    "\n",
    "    lines, labels = ax.get_legend_handles_labels()\n",
    "    lines2, labels2 = ax2.get_legend_handles_labels()\n",
    "    ax2.legend(lines + lines2, labels + labels2, loc='lower right')\n",
    "\n",
    "    # === Nouvelle figure : moyenne pondérée vs taille de cellule ===\n",
    "    ax = axs[1, 0]\n",
    "    cell_sizes = np.arange(1, 100)\n",
    "    means = []\n",
    "    for c in cell_sizes:\n",
    "        w = compute_cell_declustering_weights(combined_samples, c)\n",
    "        w /= w.sum()\n",
    "        means.append(np.sum(w * combined_values))\n",
    "    ax.plot(cell_sizes, means, '-o', color='purple')\n",
    "    ax.axvline(x=declust_cells, color='red', linestyle='--', label=f'Taille sélectionnée = {declust_cells}')\n",
    "    ax.axhline(y=np.mean(combined_values), color='blue', linestyle='--', label='Moyenne Non pondéré')\n",
    "    ax.axhline(y=np.mean(lognormal_field), color='black', linestyle=':', label='Moyenne globale')\n",
    "    ax.set_xlabel(\"Taille de cellule de dégroupement\")\n",
    "    ax.set_ylabel(\"Moyenne pondérée d'échantillon\")\n",
    "    ax.set_title(\"Effet de la taille de cellule sur la moyenne d'échantillon\")\n",
    "    ax.grid(True)\n",
    "    ax.legend(loc='upper left', fontsize=10)\n",
    "\n",
    "\n",
    "    # === Quatrième graphique : variance pondérée vs taille de cellule ===\n",
    "    ax = axs[1, 1]\n",
    "    variances = []\n",
    "    for c in cell_sizes:\n",
    "        w = compute_cell_declustering_weights(combined_samples, c)\n",
    "        w /= w.sum()\n",
    "        mean_c = np.sum(w * combined_values)\n",
    "        var_c = np.sum(w * (combined_values - mean_c)**2)\n",
    "        variances.append(var_c)\n",
    "    ax.plot(cell_sizes, variances, '-o', color='darkgreen')\n",
    "    ax.axvline(x=declust_cells, color='red', linestyle='--', label=f'Taille sélectionnée = {declust_cells}')\n",
    "    ax.axhline(y=np.var(combined_values), color='blue', linestyle='--', label='Variance Non pondéré')\n",
    "    ax.axhline(y=np.var(lognormal_field), color='black', linestyle=':', label='Variance globale')\n",
    "    ax.set_xlabel(\"Taille de cellule de dégroupement\")\n",
    "    ax.set_ylabel(\"Variance pondérée d'échantillon\")\n",
    "    ax.set_title(\"Effet de la taille de cellule sur la variance d'échantillon\")\n",
    "    ax.grid(True)\n",
    "    ax.legend(loc='upper left', fontsize=10)\n",
    "\n",
    "    plt.tight_layout()\n",
    "    plt.show()\n",
    "\n",
    "\n",
    "# === Initialisation champ et localisation hotspot (une seule fois) ===\n",
    "_n = 100\n",
    "_range_ = 15\n",
    "_sigma = 0.6\n",
    "_median = 2.0\n",
    "_seed = 42\n",
    "_hotspot_size = 25\n",
    "\n",
    "_, init_field = generate_lognormal_field(_n, _range_, _sigma, _median, seed=_seed)\n",
    "x0y0x1y1 = fixed(find_hotspot_location(init_field, _hotspot_size))\n",
    "\n",
    "# === Interface interactive ===\n",
    "interact(\n",
    "    interactive_sampling_fixed_hotspot,\n",
    "    n=fixed(_n),\n",
    "    range_=IntSlider(min=5, max=50, step=1, value=_range_, description='Portée sphérique'),\n",
    "    sigma_gauss=FloatSlider(min=0.1, max=1.5, step=0.1, value=_sigma, description='Variance'),\n",
    "    median=FloatSlider(min=0.5, max=5.0, step=0.1, value=_median, description='Moyenne'),\n",
    "    n_samples_all=IntSlider(min=10, max=500, step=10, value=100, description='N aléatoire'),\n",
    "    n_samples_hotspot=IntSlider(min=0, max=200, step=10, value=50, description='N hotspot'),\n",
    "    hotspot_size=fixed(_hotspot_size),\n",
    "    declust_cells=IntSlider(min=1, max=100, step=1, value=10, description='Cell declustering'),\n",
    "    show_declustering=ToggleButton(value=False, description='Afficher dégroupement'),\n",
    "    x0y0x1y1=x0y0x1y1,\n",
    "    seed=fixed(_seed)\n",
    ")"
   ]
  },
  {
   "cell_type": "markdown",
   "id": "66552e3a-4f61-4464-ac73-9e8ef6b786a7",
   "metadata": {
    "editable": true,
    "slideshow": {
     "slide_type": ""
    },
    "tags": []
   },
   "source": [
    "Déviation"
   ]
  },
  {
   "cell_type": "code",
   "execution_count": 7,
   "id": "dd9b2121-62ff-4400-aee2-8a1f3fd6301e",
   "metadata": {
    "editable": true,
    "slideshow": {
     "slide_type": ""
    },
    "tags": []
   },
   "outputs": [
    {
     "data": {
      "text/markdown": [
       "\n",
       "### ℹ️ Conventions de forage\n",
       "- **Azimut (°)** : mesuré à partir du **nord**, **dans le plan horizontal**, dans le **sens horaire**.\n",
       "- **Inclinaison (°)** : mesurée à partir de l’**horizontale vers le bas** (0° = horizontale, 90° = verticale descendante).\n",
       "- **Z positif vers le haut** (forage descend en Z négatif).\n",
       "- **Points affichés** :\n",
       "    - 🔶 **Stations** : positions où les angles sont mesurés.\n",
       "    - 🟩 **Points milieux** : segments interpolés (méthode tangentielle équilibrée).\n",
       "    - 🔴 **Composites** : positions de MD cibles interpolées.\n"
      ],
      "text/plain": [
       "<IPython.core.display.Markdown object>"
      ]
     },
     "metadata": {},
     "output_type": "display_data"
    },
    {
     "data": {
      "application/vnd.jupyter.widget-view+json": {
       "model_id": "adc9ada34a204d6cb87b9269eb0cb8a5",
       "version_major": 2,
       "version_minor": 0
      },
      "text/plain": [
       "BoundedIntText(value=3, description='Stations:', max=20, min=2)"
      ]
     },
     "metadata": {},
     "output_type": "display_data"
    },
    {
     "data": {
      "application/vnd.jupyter.widget-view+json": {
       "model_id": "6ec3f8fba3194f90a588d9ff0d7eb088",
       "version_major": 2,
       "version_minor": 0
      },
      "text/plain": [
       "Text(value='0, 80, 180', description='MD (m):')"
      ]
     },
     "metadata": {},
     "output_type": "display_data"
    },
    {
     "data": {
      "application/vnd.jupyter.widget-view+json": {
       "model_id": "8c46fe5dee314c5a8229ead04c1e4d2b",
       "version_major": 2,
       "version_minor": 0
      },
      "text/plain": [
       "Text(value='90, 80, 70', description='Inclinaison (°):')"
      ]
     },
     "metadata": {},
     "output_type": "display_data"
    },
    {
     "data": {
      "application/vnd.jupyter.widget-view+json": {
       "model_id": "b7c41232e2db4ad38e61c75af5748570",
       "version_major": 2,
       "version_minor": 0
      },
      "text/plain": [
       "Text(value='60, 55, 45', description='Azimut (°):')"
      ]
     },
     "metadata": {},
     "output_type": "display_data"
    },
    {
     "data": {
      "application/vnd.jupyter.widget-view+json": {
       "model_id": "3b75f07773104ea3b33ca6b2e3e00216",
       "version_major": 2,
       "version_minor": 0
      },
      "text/plain": [
       "Text(value='180, 183, 186', description='Cibles MD (m):')"
      ]
     },
     "metadata": {},
     "output_type": "display_data"
    },
    {
     "data": {
      "application/vnd.jupyter.widget-view+json": {
       "model_id": "4b1ce2c266ca41469ba9b9faba09ac92",
       "version_major": 2,
       "version_minor": 0
      },
      "text/plain": [
       "Button(button_style='primary', description='Tracer', style=ButtonStyle())"
      ]
     },
     "metadata": {},
     "output_type": "display_data"
    },
    {
     "data": {
      "application/vnd.jupyter.widget-view+json": {
       "model_id": "ea54d5da480341fe8889702ecefafad6",
       "version_major": 2,
       "version_minor": 0
      },
      "text/plain": [
       "Output()"
      ]
     },
     "metadata": {},
     "output_type": "display_data"
    }
   ],
   "source": [
    "import numpy as np\n",
    "import plotly.graph_objs as go\n",
    "import ipywidgets as widgets\n",
    "from IPython.display import display, clear_output, Markdown\n",
    "\n",
    "def d2r(deg):\n",
    "    return np.deg2rad(deg)\n",
    "\n",
    "# Méthode tangentielle équilibrée\n",
    "def balanced_tangential_segment(MD, inc1, azi1, inc2, azi2):\n",
    "    inc1, azi1 = d2r(inc1), d2r(azi1)\n",
    "    inc2, azi2 = d2r(inc2), d2r(azi2)\n",
    "    dx = (MD/2) * (np.sin(inc1) * np.sin(azi1) + np.sin(inc2) * np.sin(azi2))\n",
    "    dy = (MD/2) * (np.sin(inc1) * np.cos(azi1) + np.sin(inc2) * np.cos(azi2))\n",
    "    dz = -(MD/2) * (np.cos(inc1) + np.cos(inc2))  # Z positif vers le haut\n",
    "    return dx, dy, dz\n",
    "\n",
    "def interpolate_path(measurements, targets):\n",
    "    measurements = sorted(measurements, key=lambda x: x[0])\n",
    "    positions = [(0.0, 0.0, 0.0)]\n",
    "    mids = []\n",
    "    depths = [m[0] for m in measurements]\n",
    "\n",
    "    for i in range(1, len(measurements)):\n",
    "        md = depths[i] - depths[i-1]\n",
    "        inc1, azi1 = measurements[i-1][1], measurements[i-1][2]\n",
    "        inc2, azi2 = measurements[i][1], measurements[i][2]\n",
    "        dx, dy, dz = balanced_tangential_segment(md, inc1, azi1, inc2, azi2)\n",
    "        last = positions[-1]\n",
    "        next_pos = (last[0]+dx, last[1]+dy, last[2]+dz)\n",
    "        positions.append(next_pos)\n",
    "        mids.append((depths[i-1] + md/2, last[0]+dx/2, last[1]+dy/2, last[2]+dz/2))\n",
    "\n",
    "    interp_XYZ = []\n",
    "    for t in targets:\n",
    "        for i in range(1, len(depths)):\n",
    "            if depths[i-1] <= t <= depths[i]:\n",
    "                f = (t - depths[i-1]) / (depths[i] - depths[i-1])\n",
    "                x1, y1, z1 = positions[i-1]\n",
    "                x2, y2, z2 = positions[i]\n",
    "                xt = x1 + f * (x2 - x1)\n",
    "                yt = y1 + f * (y2 - y1)\n",
    "                zt = z1 + f * (z2 - z1)\n",
    "                interp_XYZ.append((t, xt, yt, zt))\n",
    "                break\n",
    "    return positions, mids, interp_XYZ\n",
    "\n",
    "def plotly_3d_path(path, mids, interp, measurements):\n",
    "    path = np.array(path)\n",
    "    fig = go.Figure()\n",
    "\n",
    "    # Ligne de trajectoire\n",
    "    fig.add_trace(go.Scatter3d(\n",
    "        x=path[:,0], y=path[:,1], z=path[:,2],\n",
    "        mode='lines',\n",
    "        line=dict(color='blue', width=5),\n",
    "        name='Trajectoire'\n",
    "    ))\n",
    "\n",
    "    # Points d'angles (stations)\n",
    "    station_coords = np.array([path[i] for i in range(len(measurements))])\n",
    "    fig.add_trace(go.Scatter3d(\n",
    "        x=station_coords[:,0], y=station_coords[:,1], z=station_coords[:,2],\n",
    "        mode='markers+text',\n",
    "        marker=dict(size=6, color='orange'),\n",
    "        text=[f\"Station {i} ({m[0]} m)\" for i, m in enumerate(measurements)],\n",
    "        textposition='top center',\n",
    "        name='Stations (mesures)'\n",
    "    ))\n",
    "\n",
    "    # Points \"mids\" (point milieu par segment)\n",
    "    if mids:\n",
    "        mids_np = np.array(mids)\n",
    "        fig.add_trace(go.Scatter3d(\n",
    "            x=mids_np[:,1], y=mids_np[:,2], z=mids_np[:,3],\n",
    "            mode='markers+text',\n",
    "            marker=dict(size=5, color='green'),\n",
    "            text=[f\"{d:.1f} m\" for d in mids_np[:,0]],\n",
    "            textposition='top center',\n",
    "            name='Points milieux'\n",
    "        ))\n",
    "\n",
    "    # Points composites (interpolés)\n",
    "    if interp:\n",
    "        interp = np.array(interp)\n",
    "        fig.add_trace(go.Scatter3d(\n",
    "            x=interp[:,1], y=interp[:,2], z=interp[:,3],\n",
    "            mode='markers+text',\n",
    "            marker=dict(size=5, color='red'),\n",
    "            text=[f\"{d:.1f} m\" for d in interp[:,0]],\n",
    "            textposition='bottom center',\n",
    "            name='Composites (interpolation)'\n",
    "        ))\n",
    "\n",
    "    fig.update_layout(\n",
    "        scene=dict(\n",
    "            xaxis_title='X (m)',\n",
    "            yaxis_title='Y (m)',\n",
    "            zaxis_title='Z (m, ↑)',\n",
    "            aspectmode='manual',\n",
    "            aspectratio=dict(x=1, y=1, z=1)\n",
    "        ),\n",
    "        title='Trajectoire 3D corrigée (Z vers le haut)',\n",
    "        margin=dict(l=0, r=0, b=0, t=40),\n",
    "        legend=dict(x=0, y=1)\n",
    "    )\n",
    "    fig.show()\n",
    "\n",
    "# Widgets\n",
    "num_points_w = widgets.BoundedIntText(value=3, min=2, max=20, description=\"Stations:\")\n",
    "md_list_w = widgets.Text(value=\"0, 80, 180\", description=\"MD (m):\")\n",
    "inc_list_w = widgets.Text(value=\"90, 80, 70\", description=\"Inclinaison (°):\")\n",
    "azi_list_w = widgets.Text(value=\"60, 55, 45\", description=\"Azimut (°):\")\n",
    "targets_w = widgets.Text(value=\"180, 183, 186\", description=\"Cibles MD (m):\")\n",
    "button = widgets.Button(description=\"Tracer\", button_style='primary')\n",
    "out = widgets.Output()\n",
    "\n",
    "def on_button_clicked(b):\n",
    "    with out:\n",
    "        clear_output()\n",
    "        try:\n",
    "            md_list = list(map(float, md_list_w.value.strip().split(',')))\n",
    "            inc_list = list(map(float, inc_list_w.value.strip().split(',')))\n",
    "            azi_list = list(map(float, azi_list_w.value.strip().split(',')))\n",
    "            targets = list(map(float, targets_w.value.strip().split(',')))\n",
    "\n",
    "            n = num_points_w.value\n",
    "            if not (len(md_list) == len(inc_list) == len(azi_list) == n):\n",
    "                print(\"⚠️ Erreur : les longueurs des listes ne correspondent pas au nombre de stations.\")\n",
    "                return\n",
    "\n",
    "            measurements = list(zip(md_list, inc_list, azi_list))\n",
    "            path, mids, interp = interpolate_path(measurements, targets)\n",
    "            plotly_3d_path(path, mids, interp, measurements)\n",
    "        except Exception as e:\n",
    "            print(f\"❌ Erreur : {str(e)}\")\n",
    "\n",
    "button.on_click(on_button_clicked)\n",
    "\n",
    "# Explication des conventions\n",
    "info_text = Markdown(\"\"\"\n",
    "### ℹ️ Conventions de forage\n",
    "- **Azimut (°)** : mesuré à partir du **nord**, **dans le plan horizontal**, dans le **sens horaire**.\n",
    "- **Inclinaison (°)** : mesurée à partir de l’**horizontale vers le bas** (0° = horizontale, 90° = verticale descendante).\n",
    "- **Z positif vers le haut** (forage descend en Z négatif).\n",
    "- **Points affichés** :\n",
    "    - 🔶 **Stations** : positions où les angles sont mesurés.\n",
    "    - 🟩 **Points milieux** : segments interpolés (méthode tangentielle équilibrée).\n",
    "    - 🔴 **Composites** : positions de MD cibles interpolées.\n",
    "\"\"\")\n",
    "\n",
    "display(info_text, num_points_w, md_list_w, inc_list_w, azi_list_w, targets_w, button, out)\n"
   ]
  },
  {
   "cell_type": "markdown",
   "id": "11e77ea7-30c3-4632-b5f0-5da4254f313d",
   "metadata": {
    "editable": true,
    "slideshow": {
     "slide_type": ""
    },
    "tags": []
   },
   "source": []
  },
  {
   "cell_type": "code",
   "execution_count": 1,
   "id": "a85cd03b-1d25-4af6-ada7-ee03c9b99409",
   "metadata": {
    "editable": true,
    "slideshow": {
     "slide_type": ""
    },
    "tags": []
   },
   "outputs": [
    {
     "ename": "NameError",
     "evalue": "name 'np' is not defined",
     "output_type": "error",
     "traceback": [
      "\u001b[1;31m---------------------------------------------------------------------------\u001b[0m",
      "\u001b[1;31mNameError\u001b[0m                                 Traceback (most recent call last)",
      "Cell \u001b[1;32mIn[1], line 3\u001b[0m\n\u001b[0;32m      1\u001b[0m \u001b[38;5;66;03m# Exemple réaliste avec 100 stations\u001b[39;00m\n\u001b[0;32m      2\u001b[0m n_points \u001b[38;5;241m=\u001b[39m \u001b[38;5;241m100\u001b[39m\n\u001b[1;32m----> 3\u001b[0m md_list \u001b[38;5;241m=\u001b[39m \u001b[43mnp\u001b[49m\u001b[38;5;241m.\u001b[39mlinspace(\u001b[38;5;241m0\u001b[39m, \u001b[38;5;241m1000\u001b[39m, n_points)  \u001b[38;5;66;03m# Mesures le long du trou\u001b[39;00m\n\u001b[0;32m      4\u001b[0m inc_list \u001b[38;5;241m=\u001b[39m np\u001b[38;5;241m.\u001b[39mlinspace(\u001b[38;5;241m0\u001b[39m, \u001b[38;5;241m80\u001b[39m, n_points)   \u001b[38;5;66;03m# Inclinaison de 0° à 80°, progressivement\u001b[39;00m\n\u001b[0;32m      5\u001b[0m azi_list \u001b[38;5;241m=\u001b[39m \u001b[38;5;241m45\u001b[39m \u001b[38;5;241m+\u001b[39m \u001b[38;5;241m5\u001b[39m \u001b[38;5;241m*\u001b[39m np\u001b[38;5;241m.\u001b[39msin(np\u001b[38;5;241m.\u001b[39mlinspace(\u001b[38;5;241m0\u001b[39m, \u001b[38;5;241m3\u001b[39m\u001b[38;5;241m*\u001b[39mnp\u001b[38;5;241m.\u001b[39mpi, n_points))  \u001b[38;5;66;03m# Azimut autour de 45° (léger sinus)\u001b[39;00m\n",
      "\u001b[1;31mNameError\u001b[0m: name 'np' is not defined"
     ]
    }
   ],
   "source": [
    "# Exemple réaliste avec 100 stations\n",
    "n_points = 100\n",
    "md_list = np.linspace(0, 1000, n_points)  # Mesures le long du trou\n",
    "inc_list = np.linspace(0, 80, n_points)   # Inclinaison de 0° à 80°, progressivement\n",
    "azi_list = 45 + 5 * np.sin(np.linspace(0, 3*np.pi, n_points))  # Azimut autour de 45° (léger sinus)\n",
    "\n",
    "measurements = list(zip(md_list, inc_list, azi_list))\n",
    "targets = np.linspace(0, 1000, 25)  # Interpolation à 25 cibles réparties\n",
    "\n",
    "# Calcul du chemin, des mids, et des points interpolés\n",
    "path, mids, interp = interpolate_path(measurements, targets)\n",
    "\n",
    "# Tracé 3D\n",
    "plotly_3d_path(path, mids, interp, measurements)\n"
   ]
  },
  {
   "cell_type": "code",
   "execution_count": null,
   "id": "799e4bac-dfa2-40cf-b253-e576ad66a4e4",
   "metadata": {
    "editable": true,
    "slideshow": {
     "slide_type": ""
    },
    "tags": []
   },
   "outputs": [],
   "source": []
  }
 ],
 "metadata": {
  "kernelspec": {
   "display_name": "Python 3 (ipykernel)",
   "language": "python",
   "name": "python3"
  },
  "language_info": {
   "codemirror_mode": {
    "name": "ipython",
    "version": 3
   },
   "file_extension": ".py",
   "mimetype": "text/x-python",
   "name": "python",
   "nbconvert_exporter": "python",
   "pygments_lexer": "ipython3",
   "version": "3.11.11"
  }
 },
 "nbformat": 4,
 "nbformat_minor": 5
}
