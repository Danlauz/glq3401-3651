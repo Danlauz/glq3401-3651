{
 "cells": [
  {
   "cell_type": "markdown",
   "id": "5f2226fc-6d4b-42f3-a4ae-028c43f28c5e",
   "metadata": {
    "editable": true,
    "slideshow": {
     "slide_type": ""
    },
    "tags": []
   },
   "source": [
    "# 🌟 Atelier Interactif \n",
    "\n",
    "## Méthode conventionnelle d'estimation et validation croisée\n",
    "\n",
    "Explorez des modules interactifs pour approfondir votre compréhension des méthodes d’estimation spatiale et de validation croisée. Chaque atelier met en lumière un concept clé utilisé en géostatistique ou en estimation des ressources.\n",
    "\n",
    "1. 🛠️ **Méthode des polygones (Voronoï)**  \n",
    "   *Estimez la valeur d’une variable dans chaque cellule construite autour des points de données – simple, rapide, mais sensible à la densité.*\n",
    "\n",
    "1. 📐 **Méthode des triangles**  \n",
    "   *Utilise une triangulation pour interpoler entre points. Utile pour visualiser la continuité spatiale et mieux représenter les variations locales.*\n",
    "\n",
    "3. 🔢 **Méthode de l’inverse de la distance pondérée (IDW)**  \n",
    "   *Attribue plus de poids aux points proches. Ajustez l’exposant de pondération pour observer l’effet sur la surface estimée.*\n",
    "\n",
    "4. 🔍 **Validation croisée**  \n",
    "   *Évaluez la performance d’une méthode d’estimation en retirant chaque point un à un et en comparant la valeur prédite à la valeur réelle.*\n",
    "\n",
    "\n",
    "\n",
    "👉 Sélectionnez un atelier pour commencer !\n"
   ]
  },
  {
   "cell_type": "code",
   "execution_count": null,
   "id": "46371bcc-839d-4caa-a30b-122e6dd97d1e",
   "metadata": {},
   "outputs": [],
   "source": []
  }
 ],
 "metadata": {
  "kernelspec": {
   "display_name": "Python 3 (ipykernel)",
   "language": "python",
   "name": "python3"
  },
  "language_info": {
   "codemirror_mode": {
    "name": "ipython",
    "version": 3
   },
   "file_extension": ".py",
   "mimetype": "text/x-python",
   "name": "python",
   "nbconvert_exporter": "python",
   "pygments_lexer": "ipython3",
   "version": "3.11.11"
  }
 },
 "nbformat": 4,
 "nbformat_minor": 5
}
