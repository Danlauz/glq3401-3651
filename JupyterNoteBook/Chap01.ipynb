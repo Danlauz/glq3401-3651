{
 "cells": [
  {
   "cell_type": "markdown",
   "id": "f03feac8-5f21-40a8-b17e-15d24a26c57b",
   "metadata": {
    "editable": true,
    "slideshow": {
     "slide_type": ""
    },
    "tags": []
   },
   "source": [
    "## 🌟 Atelier Interactif\n",
    "\n",
    "Explorez ici trois ateliers interactifs conçus pour mieux comprendre les effets géostatistiques en contexte minier :\n",
    "\n",
    "1. 📏 **Effet de support**  \n",
    "   Visualisation de la variation de la distribution des teneurs selon la taille des blocs et la corrélation spatiale.\n",
    "\n",
    "2. 📊 **Effet d'information**  \n",
    "   Impact des biais sur les estimations lors de la prise de décision.\n",
    "\n",
    "3. ⛏️ **Modèle 3D de gisement**  \n",
    "   Exploration interactive d’un modèle 3D simulé d’un gisement synthétique, avec variation des paramètres géostatistiques et de la teneur de coupure."
   ]
  }
 ],
 "metadata": {
  "kernelspec": {
   "display_name": "Python 3 (ipykernel)",
   "language": "python",
   "name": "python3"
  },
  "language_info": {
   "codemirror_mode": {
    "name": "ipython",
    "version": 3
   },
   "file_extension": ".py",
   "mimetype": "text/x-python",
   "name": "python",
   "nbconvert_exporter": "python",
   "pygments_lexer": "ipython3",
   "version": "3.11.11"
  }
 },
 "nbformat": 4,
 "nbformat_minor": 5
}
