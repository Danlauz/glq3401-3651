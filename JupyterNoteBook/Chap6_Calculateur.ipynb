{
 "cells": [
  {
   "cell_type": "markdown",
   "id": "cecc4ce1-dd34-4364-9246-cc561683bc4b",
   "metadata": {
    "editable": true,
    "slideshow": {
     "slide_type": ""
    },
    "tags": []
   },
   "source": [
    "## Atelier 6 - Calculateur de variogramme théorique (multi-composantes anisotropes)\n",
    "\n",
    "**But pédagogique** : Calcul direct du variogramme pour tout type de structure.\n",
    "\n",
    "### Fonctionnalités :\n",
    "\n",
    "- **Entrée** : jusqu’à 3 composantes :\n",
    "  - Type de modèle : sphérique, exponentiel, gaussien, pépite\n",
    "  - Variance, portée, anisotropie ($a_x$, $a_y$, angle) de chaque modèle\n",
    "  - Distance ($h_x$ et $h_y$)\n",
    "\n",
    "---\n",
    "> 💡 **Note** : Pour le modèle de pépite, entrée n'importe qu'elle valeur pour les paramètres du modèle.\n",
    "> \n",
    "> 💡 **Note** : Les distances peuvent être négatives."
   ]
  },
  {
   "cell_type": "code",
   "execution_count": 3,
   "id": "340c5a1a-1b84-4657-b0ba-eefee13cf4b3",
   "metadata": {
    "editable": true,
    "slideshow": {
     "slide_type": ""
    },
    "tags": [
     "hide-input"
    ]
   },
   "outputs": [
    {
     "data": {
      "application/vnd.jupyter.widget-view+json": {
       "model_id": "892f2acc175e4c2689823c573088d380",
       "version_major": 2,
       "version_minor": 0
      },
      "text/plain": [
       "VBox(children=(HTML(value='<h3>Calculateur de variogramme théorique (multi-composantes anisotropes)</h3>'), HB…"
      ]
     },
     "metadata": {},
     "output_type": "display_data"
    }
   ],
   "source": [
    "import numpy as np\n",
    "import ipywidgets as widgets\n",
    "from IPython.display import display, clear_output\n",
    "\n",
    "def cov_component(h, range_major, range_minor, angle_deg, model, sill):\n",
    "    angle_rad = np.deg2rad(angle_deg)\n",
    "    cos_a, sin_a = np.cos(angle_rad), np.sin(angle_rad)\n",
    "    hx, hy = h[0], h[1]\n",
    "    h_rot = cos_a * hx + sin_a * hy\n",
    "    v_rot = -sin_a * hx + cos_a * hy\n",
    "    h_scaled = h_rot / range_major\n",
    "    v_scaled = v_rot / range_minor\n",
    "    dist = np.sqrt(h_scaled**2 + v_scaled**2)\n",
    "    if model == 'Sphérique':\n",
    "        if dist < 1:\n",
    "            cov = sill * (1 - 1.5*dist + 0.5*dist**3)\n",
    "        else:\n",
    "            cov = 0\n",
    "    elif model == 'Exponentiel':\n",
    "        cov = sill * np.exp(-3 * dist)\n",
    "    elif model == 'Gaussien':\n",
    "        cov = sill * np.exp(-3 * dist**2)\n",
    "    elif model == 'Nugget':\n",
    "        cov = sill if dist == 0 else 0\n",
    "    else:\n",
    "        raise ValueError(f\"Modèle inconnu : {model}\")\n",
    "    return cov\n",
    "\n",
    "def covariance_multi(h, comps):\n",
    "    cov_total = 0\n",
    "    for c in comps:\n",
    "        if c['active']:\n",
    "            cov_total += cov_component(h, c['range_major'], c['range_minor'], c['angle_deg'], c['model'], c['sill'])\n",
    "    return cov_total\n",
    "\n",
    "def variogram(h, comps):\n",
    "    sill_total = sum(c['sill'] for c in comps if c['active'])\n",
    "    return sill_total - covariance_multi(h, comps)\n",
    "\n",
    "def create_component_widget(index):\n",
    "    active_cb = widgets.Checkbox(value=False, description=f\"Comp. {index+1}\")\n",
    "    model_dd = widgets.Dropdown(\n",
    "        options=['Sphérique', 'Exponentiel', 'Gaussien', 'Nugget'],\n",
    "        value='Sphérique',\n",
    "        description='Modèle:'\n",
    "    )\n",
    "    sill_txt = widgets.Text(value='1.0', description='Sill:')\n",
    "    range_major_txt = widgets.Text(value='10.0', description='Portée maj.:')\n",
    "    range_minor_txt = widgets.Text(value='10.0', description='Portée min.:')\n",
    "    angle_txt = widgets.Text(value='0.0', description='Angle (°):')\n",
    "    \n",
    "    def toggle_inputs(change):\n",
    "        enabled = change['new']\n",
    "        model_dd.disabled = not enabled\n",
    "        sill_txt.disabled = not enabled\n",
    "        range_major_txt.disabled = not enabled\n",
    "        range_minor_txt.disabled = not enabled\n",
    "        angle_txt.disabled = not enabled\n",
    "    \n",
    "    active_cb.observe(toggle_inputs, names='value')\n",
    "    toggle_inputs({'new': active_cb.value})\n",
    "    \n",
    "    comp_box = widgets.VBox([active_cb, model_dd, sill_txt, range_major_txt, range_minor_txt, angle_txt])\n",
    "    return comp_box, active_cb, model_dd, sill_txt, range_major_txt, range_minor_txt, angle_txt\n",
    "\n",
    "comp_widgets = []\n",
    "for i in range(3):\n",
    "    comp_widgets.append(create_component_widget(i))\n",
    "\n",
    "hx_txt = widgets.Text(value='5.0', description='$h_x$:')\n",
    "hy_txt = widgets.Text(value='0.0', description='$h_y$:')\n",
    "\n",
    "btn_calc = widgets.Button(description=\"Calculer variogramme γ(h)\")\n",
    "output = widgets.Output()\n",
    "\n",
    "def on_calc_clicked(b):\n",
    "    with output:\n",
    "        clear_output()\n",
    "        try:\n",
    "            comps = []\n",
    "            for (comp_box, active_cb, model_dd, sill_txt, rmaj_txt, rmin_txt, angle_txt) in comp_widgets:\n",
    "                active = active_cb.value\n",
    "                if active:\n",
    "                    model = model_dd.value\n",
    "                    sill = float(sill_txt.value)\n",
    "                    rmaj = float(rmaj_txt.value)\n",
    "                    rmin = float(rmin_txt.value)\n",
    "                    angle = float(angle_txt.value)\n",
    "                else:\n",
    "                    model = None\n",
    "                    sill = 0\n",
    "                    rmaj = 1\n",
    "                    rmin = 1\n",
    "                    angle = 0\n",
    "                comps.append({\n",
    "                    'active': active,\n",
    "                    'model': model,\n",
    "                    'sill': sill,\n",
    "                    'range_major': rmaj,\n",
    "                    'range_minor': rmin,\n",
    "                    'angle_deg': angle\n",
    "                })\n",
    "            \n",
    "            hx = float(hx_txt.value)\n",
    "            hy = float(hy_txt.value)\n",
    "            h = np.array([hx, hy])\n",
    "            gamma = variogram(h, comps)\n",
    "            print(f\"Variogramme γ(h) pour h=({hx}, {hy}) = {gamma:.4f}\")\n",
    "        except Exception as e:\n",
    "            print(f\"Erreur : {e}\")\n",
    "\n",
    "btn_calc.on_click(on_calc_clicked)\n",
    "\n",
    "ui = widgets.VBox([\n",
    "    widgets.HTML(\"<h3>Calculateur de variogramme théorique (multi-composantes anisotropes)</h3>\"),\n",
    "    widgets.HBox([hx_txt, hy_txt]),\n",
    "    widgets.HBox([w[0] for w in comp_widgets]),  # <-- composantes côte à côte\n",
    "    btn_calc,\n",
    "    output\n",
    "])\n",
    "\n",
    "display(ui)\n"
   ]
  },
  {
   "cell_type": "code",
   "execution_count": null,
   "id": "6146bcdd-9166-4b80-8412-1c153ddd9c4e",
   "metadata": {
    "editable": true,
    "slideshow": {
     "slide_type": ""
    },
    "tags": []
   },
   "outputs": [],
   "source": []
  }
 ],
 "metadata": {
  "kernelspec": {
   "display_name": "Python 3 (ipykernel)",
   "language": "python",
   "name": "python3"
  },
  "language_info": {
   "codemirror_mode": {
    "name": "ipython",
    "version": 3
   },
   "file_extension": ".py",
   "mimetype": "text/x-python",
   "name": "python",
   "nbconvert_exporter": "python",
   "pygments_lexer": "ipython3",
   "version": "3.11.11"
  }
 },
 "nbformat": 4,
 "nbformat_minor": 5
}
