{
 "cells": [
  {
   "cell_type": "markdown",
   "id": "3ed7b7fb-4268-46e3-89f0-37a926baa8bb",
   "metadata": {
    "editable": true,
    "slideshow": {
     "slide_type": ""
    },
    "tags": []
   },
   "source": [
    "# Atelier 2 - Blancs \n",
    "\n",
    "## Analyse des blancs – Visualisation et interprétation\n",
    "\n",
    "Ce graphique représente une série temporelle de mesures de blancs analytiques, c’est-à-dire des échantillons censés ne contenir aucun élément détectable.  \n",
    "Ces mesures sont utilisées pour vérifier la qualité des analyses et détecter d’éventuelles contaminations.\n",
    "\n",
    "### 🎯 Objectifs de l’exercice :\n",
    "\n",
    "- Visualiser les blancs dans l’ordre d’analyse.\n",
    "- Contrôler la variabilité des mesures à l’aide de bandes d’erreur statistiques (±3LD, ±5LD, ±10LD). LD est la limite de détection de l'appareil, il est courant de basé la mesure d'erreur sur cette valeur. Des fois, on se basse sur un pourcentage de la teneur de coupure, p.ex, 5% t.c..\n",
    "- Identifier les valeurs aberrantes (hors de la distribution normale attendue).\n",
    "- Comparer les mesures aux seuils d’acceptabilité :\n",
    "  - Seuils basés sur la limite de détection (LD) : 3LD, 5LD, 10LD.\n",
    "  - Seuils relatifs à la teneur de coupure : 5% et 10%.\n",
    "\n",
    "### 📊 Ce que montre le graphique :\n",
    "\n",
    "- Les points verts représentent les mesures des blancs.\n",
    "- Les bandes vertes autour de la ligne de base (0 ppm) indiquent les intervalles de confiance statistiques.\n",
    "- Les lignes bleues sont les seuils de contrôle utilisés pour détecter les échecs.\n",
    "- Les points rouges signalent les valeurs aberrantes.\n",
    "- Le nombre de valeurs dépassant la limite de détection est affiché dans le titre.\n"
   ]
  },
  {
   "cell_type": "code",
   "execution_count": 1,
   "id": "f8407ec2-1bde-4a20-87b8-a2e8df9bceaf",
   "metadata": {
    "editable": true,
    "slideshow": {
     "slide_type": ""
    },
    "tags": [
     "hide-input"
    ]
   },
   "outputs": [
    {
     "data": {
      "application/vnd.jupyter.widget-view+json": {
       "model_id": "6a069b9354194437ac80ee8bd72a5ef3",
       "version_major": 2,
       "version_minor": 0
      },
      "text/plain": [
       "interactive(children=(FloatSlider(value=1.0, description='Niveau de bruit', max=5.0, min=0.1), FloatSlider(val…"
      ]
     },
     "metadata": {},
     "output_type": "display_data"
    },
    {
     "data": {
      "text/plain": [
       "<function __main__.plot_blank_series(noise_level=1.0, standard_error=1.0)>"
      ]
     },
     "execution_count": 1,
     "metadata": {},
     "output_type": "execute_result"
    }
   ],
   "source": [
    "import numpy as np\n",
    "import matplotlib.pyplot as plt\n",
    "from ipywidgets import interact, FloatSlider\n",
    "\n",
    "def generate_blank_series(n_points=1000, noise_level=1.0):\n",
    "    t = np.arange(n_points)\n",
    "    base = 0.0\n",
    "    noise = np.random.normal(0, noise_level, size=n_points)\n",
    "    series = base + noise\n",
    "    series = np.clip(series, 0, None)\n",
    "    return t, series\n",
    "\n",
    "def plot_blank_series(noise_level=1.0, standard_error=1.0):\n",
    "    np.random.seed(42)\n",
    "    n_points = 1000\n",
    "    t, blancs = generate_blank_series(n_points, noise_level)\n",
    "    \n",
    "    plt.figure(figsize=(12, 5))\n",
    "    plt.plot(t, blancs, label=\"Blancs mesurés\", color='green', linestyle='', marker='x')\n",
    "\n",
    "    base_blanc = np.zeros_like(t)\n",
    "\n",
    "    # Zones ±3LD, ±5LD, ±10LD\n",
    "    limits = [3, 5, 10]\n",
    "    alphas = [0.3, 0.2, 0.1]\n",
    "    for k, alpha in zip(limits, alphas):\n",
    "        upper_bound = base_blanc + k * standard_error\n",
    "        lower_bound = np.maximum(base_blanc - k * standard_error, 0)\n",
    "        plt.fill_between(t, lower_bound, upper_bound,\n",
    "                         color='green', alpha=alpha, label=f'+{k} LD')\n",
    "\n",
    "    plt.plot(t, base_blanc, color='green', linestyle='--', label=\"Teneur attendue (blanc)\")\n",
    "\n",
    "    diff = blancs - base_blanc\n",
    "\n",
    "    # Catégories d’outliers\n",
    "    idx_1_3LD = (diff > 1 * standard_error) & (diff <= 3 * standard_error)\n",
    "    idx_3_5LD = (diff > 3 * standard_error) & (diff <= 5 * standard_error)\n",
    "    idx_5_10LD = (diff > 5 * standard_error) & (diff <= 10 * standard_error)\n",
    "    idx_sup_10LD = (diff > 10 * standard_error)\n",
    "\n",
    "    # Couleurs\n",
    "    colors = np.array(['none'] * len(diff))\n",
    "    colors[idx_1_3LD] = '#ffd480'    # orange pâle\n",
    "    colors[idx_3_5LD] = '#ff9999'    # rouge clair\n",
    "    colors[idx_5_10LD] = '#cc3333'   # rouge moyen\n",
    "    colors[idx_sup_10LD] = '#660000' # rouge foncé\n",
    "\n",
    "    outlier_indices = np.where(colors != 'none')[0]\n",
    "    if outlier_indices.size > 0:\n",
    "        plt.scatter(t[outlier_indices], blancs[outlier_indices],\n",
    "                    s=50,\n",
    "                    color=colors[outlier_indices],\n",
    "                    label=\"Outliers détectés\",\n",
    "                    edgecolors='black', linewidths=0.7,\n",
    "                    alpha=0.9)\n",
    "\n",
    "    # Comptage par classe\n",
    "    count_1_3LD = np.sum(idx_1_3LD)\n",
    "    count_3_5LD = np.sum(idx_3_5LD)\n",
    "    count_5_10LD = np.sum(idx_5_10LD)\n",
    "    count_sup_10LD = np.sum(idx_sup_10LD)\n",
    "    total_outliers = count_1_3LD + count_3_5LD + count_5_10LD + count_sup_10LD\n",
    "\n",
    "    # Titre avec les totaux\n",
    "    plt.title(f\"Série des blancs avec détection d’outliers\\n\"\n",
    "              f\"Total outliers: {total_outliers} (1–3LD: {count_1_3LD}, 3–5LD: {count_3_5LD}, \"\n",
    "              f\"5–10LD: {count_5_10LD}, >10LD: {count_sup_10LD})\")\n",
    "    plt.xlim([0, 1000])\n",
    "    plt.xlabel(\"Temps (échantillon)\")\n",
    "    plt.ylabel(\"Teneur (ppm)\")\n",
    "    plt.ylim(-0.5, 30 * standard_error)\n",
    "    plt.legend()\n",
    "    plt.grid(True)\n",
    "    plt.show()\n",
    "\n",
    "interact(\n",
    "    plot_blank_series,\n",
    "    noise_level=FloatSlider(value=1.0, min=0.1, max=5.0, step=0.1, description=\"Niveau de bruit\"),\n",
    "    standard_error=FloatSlider(value=0.5, min=0.1, max=2.0, step=0.1, description=\"Limite de détection (LD)\"),\n",
    ")\n"
   ]
  },
  {
   "cell_type": "code",
   "execution_count": null,
   "id": "95c559fc-9c49-476f-96d6-78f6018d4d3c",
   "metadata": {},
   "outputs": [],
   "source": []
  }
 ],
 "metadata": {
  "kernelspec": {
   "display_name": "Python 3 (ipykernel)",
   "language": "python",
   "name": "python3"
  },
  "language_info": {
   "codemirror_mode": {
    "name": "ipython",
    "version": 3
   },
   "file_extension": ".py",
   "mimetype": "text/x-python",
   "name": "python",
   "nbconvert_exporter": "python",
   "pygments_lexer": "ipython3",
   "version": "3.11.11"
  }
 },
 "nbformat": 4,
 "nbformat_minor": 5
}
