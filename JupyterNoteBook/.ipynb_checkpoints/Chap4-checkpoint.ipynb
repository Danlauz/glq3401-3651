{
 "cells": [
  {
   "cell_type": "markdown",
   "id": "95f241ca-4d98-45b7-96f3-8f8b90a4c05c",
   "metadata": {
    "editable": true,
    "slideshow": {
     "slide_type": ""
    },
    "tags": []
   },
   "source": [
    "# 🌟 Atelier interactif\n",
    "\n",
    "Découvrez plusieurs ateliers interactifs conçus pour mieux comprendre le traitement statistique des données :\n",
    "\n",
    "1. 🛠️ **Régularisation et composite**  \n",
    "   *Explorez les techniques de régularisation appliquées aux données géostatistiques, et apprenez à construire des modèles composites pour améliorer la précision des estimations.*\n",
    "\n",
    "2. 📊 **Analyse du Dégroupement sur un Gisement Synthétique Spatialement Corrélé**  \n",
    "   *Plongez dans l’analyse du dégroupement des données sur un gisement synthétique, en mettant l’accent sur la corrélation spatiale et ses implications sur l’interprétation géologique.*\n",
    "\n",
    "3. 🧮 **Calcul de Trajectoire de Forage par la Méthode des Points Milieux**  \n",
    "   *Apprenez à modéliser la trajectoire d’un forage en utilisant la méthode des points milieux, une approche simple mais puissante pour simuler des trajectoires dans un espace 3D.*\n",
    "\n",
    "   \n"
   ]
  }
 ],
 "metadata": {
  "kernelspec": {
   "display_name": "Python 3 (ipykernel)",
   "language": "python",
   "name": "python3"
  },
  "language_info": {
   "codemirror_mode": {
    "name": "ipython",
    "version": 3
   },
   "file_extension": ".py",
   "mimetype": "text/x-python",
   "name": "python",
   "nbconvert_exporter": "python",
   "pygments_lexer": "ipython3",
   "version": "3.11.11"
  }
 },
 "nbformat": 4,
 "nbformat_minor": 5
}
