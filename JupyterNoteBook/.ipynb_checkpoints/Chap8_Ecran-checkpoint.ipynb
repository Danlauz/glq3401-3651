{
 "cells": [
  {
   "cell_type": "code",
   "execution_count": null,
   "id": "ed0c8d13-6f7d-4080-af70-b870e841d875",
   "metadata": {
    "editable": true,
    "slideshow": {
     "slide_type": ""
    },
    "tags": []
   },
   "outputs": [],
   "source": []
  },
  {
   "cell_type": "code",
   "execution_count": 10,
   "id": "e5ce4351-0e38-43e3-8385-3d8a2963712e",
   "metadata": {
    "editable": true,
    "slideshow": {
     "slide_type": ""
    },
    "tags": [
     "hide-input"
    ]
   },
   "outputs": [
    {
     "data": {
      "application/vnd.jupyter.widget-view+json": {
       "model_id": "9c3545f2b61e40f4ab34a5d8c72b0cff",
       "version_major": 2,
       "version_minor": 0
      },
      "text/plain": [
       "interactive(children=(FloatSlider(value=50.0, description='A', max=70.0, min=35.0, step=1.0), FloatSlider(valu…"
      ]
     },
     "metadata": {},
     "output_type": "display_data"
    },
    {
     "data": {
      "text/plain": [
       "<function __main__.plot_screening_effect(yA, yB, yC, yD, show_A, show_B, show_C, show_D, range_, sill)>"
      ]
     },
     "execution_count": 10,
     "metadata": {},
     "output_type": "execute_result"
    }
   ],
   "source": [
    "import numpy as np\n",
    "import matplotlib.pyplot as plt\n",
    "from scipy.spatial.distance import cdist\n",
    "import ipywidgets as widgets\n",
    "from matplotlib.patches import Circle\n",
    "\n",
    "np.random.seed(1)\n",
    "\n",
    "# Positions fixes X des points\n",
    "points_x = {'A': 30, 'B': 45, 'E': 50, 'C': 55, 'D': 70}\n",
    "labels = ['A', 'B', 'E', 'C', 'D']\n",
    "\n",
    "def exponential_cov(h, range_, sill, nugget=0):\n",
    "    return nugget * (h == 0) + (sill - nugget) * np.exp(-h / range_)\n",
    "\n",
    "def compute_simple_weights(observed_points, range_, sill):\n",
    "    X = np.array(list(observed_points.values()))\n",
    "    target = np.array([points_x['E'], 50]).reshape(1,2)  # Point E fixe\n",
    "    \n",
    "    if len(X) == 0:\n",
    "        return {}\n",
    "    \n",
    "    d_matrix = cdist(X, X)\n",
    "    d_vector = cdist(X, target).flatten()\n",
    "    \n",
    "    C = exponential_cov(d_matrix, range_, sill)\n",
    "    c0 = exponential_cov(d_vector, range_, sill)\n",
    "    \n",
    "    try:\n",
    "        weights = np.linalg.solve(C, c0)\n",
    "    except np.linalg.LinAlgError:\n",
    "        weights = np.full(len(X), np.nan)\n",
    "    \n",
    "    return {label: w for label, w in zip(observed_points.keys(), weights)}\n",
    "\n",
    "def compute_ordinary_weights(observed_points, range_, sill):\n",
    "    X = np.array(list(observed_points.values()))\n",
    "    target = np.array([points_x['E'], 50]).reshape(1,2)  # Point E fixe\n",
    "    \n",
    "    if len(X) == 0:\n",
    "        return {}\n",
    "    \n",
    "    d_matrix = cdist(X, X)\n",
    "    d_vector = cdist(X, target).flatten()\n",
    "    \n",
    "    C = exponential_cov(d_matrix, range_, sill)\n",
    "    c0 = exponential_cov(d_vector, range_, sill)\n",
    "    \n",
    "    n = len(X)\n",
    "    C_ext = np.ones((n+1, n+1))\n",
    "    C_ext[:n, :n] = C\n",
    "    C_ext[-1, -1] = 0\n",
    "    c0_ext = np.ones(n+1)\n",
    "    c0_ext[:n] = c0\n",
    "    \n",
    "    try:\n",
    "        sol = np.linalg.solve(C_ext, c0_ext)\n",
    "        weights = sol[:-1]\n",
    "    except np.linalg.LinAlgError:\n",
    "        weights = np.full(n, np.nan)\n",
    "    \n",
    "    return {label: w for label, w in zip(observed_points.keys(), weights)}\n",
    "\n",
    "def plot_screening_effect(yA, yB, yC, yD, show_A, show_B, show_C, show_D, range_, sill):\n",
    "    observed_points = {}\n",
    "    if show_A:\n",
    "        observed_points['A'] = np.array([points_x['A'], yA])\n",
    "    if show_B:\n",
    "        observed_points['B'] = np.array([points_x['B'], yB])\n",
    "    if show_C:\n",
    "        observed_points['C'] = np.array([points_x['C'], yC])\n",
    "    if show_D:\n",
    "        observed_points['D'] = np.array([points_x['D'], yD])\n",
    "    \n",
    "    w_simple = compute_simple_weights(observed_points, range_, sill)\n",
    "    w_ordinary = compute_ordinary_weights(observed_points, range_, sill)\n",
    "    \n",
    "    fig, axs = plt.subplots(1, 2, figsize=(14,6), sharey=True)\n",
    "    \n",
    "    def plot_weights(ax, weights, title):\n",
    "        ax.set_title(title, fontsize=14)\n",
    "        ax.set_xlim(15, 75)\n",
    "        ax.set_ylim(30, 75)\n",
    "        ax.set_aspect('equal')\n",
    "        ax.grid(True)\n",
    "        ax.scatter(points_x['E'], 50, c='black', marker='X', s=150)  # Point fixe E\n",
    "        \n",
    "        # Cercle portée autour de E\n",
    "        ax.add_patch(Circle((points_x['E'], 50), radius=range_, edgecolor='gray', linestyle='--', fill=False))\n",
    "        \n",
    "        # Affichage des points observés\n",
    "        for i, label in enumerate(['A', 'B', 'C', 'D']):\n",
    "            if label in observed_points:\n",
    "                w = weights.get(label, 0)\n",
    "                # normalisation couleur\n",
    "                norm_w = 0.5\n",
    "                if weights:\n",
    "                    w_vals = list(weights.values())\n",
    "                    if max(w_vals) != min(w_vals):\n",
    "                        norm_w = (w - min(w_vals)) / (max(w_vals) - min(w_vals))\n",
    "                color = plt.cm.coolwarm(norm_w)\n",
    "                ax.scatter(observed_points[label][0], observed_points[label][1], c=[color], s=300, edgecolor='k')\n",
    "                # Décalage variable du texte pour éviter chevauchement\n",
    "                x_text = observed_points[label][0] + 0.5\n",
    "                y_text = observed_points[label][1] + 1.5 + 1.2\n",
    "                ax.text(\n",
    "                    x_text,\n",
    "                    y_text,\n",
    "                    f\"{label}\\n{w:.2f}\",\n",
    "                    fontsize=12,\n",
    "                    bbox=dict(facecolor='white', alpha=0.7, edgecolor='none', pad=1)\n",
    "                )\n",
    "            else:\n",
    "                # points cachés en gris clair petits\n",
    "                x = points_x[label]\n",
    "                y = {'A': yA, 'B': yB, 'C': yC, 'D': yD}[label]\n",
    "                ax.scatter(x, y, c='lightgray', s=60, alpha=0.3)\n",
    "                ax.text(x+0.3, y+0.3, label, fontsize=12, color='gray')\n",
    "    \n",
    "    plot_weights(axs[0], w_simple, \"Krigeage simple\")\n",
    "    plot_weights(axs[1], w_ordinary, \"Krigeage ordinaire\")\n",
    "    \n",
    "    plt.tight_layout()\n",
    "    plt.show()\n",
    "\n",
    "\n",
    "# Sliders\n",
    "yA_slider = widgets.FloatSlider(value=50, min=35, max=70, step=1, description='A')\n",
    "yB_slider = widgets.FloatSlider(value=50, min=35, max=70, step=1, description='B')\n",
    "yC_slider = widgets.FloatSlider(value=50, min=35, max=70, step=1, description='C')\n",
    "yD_slider = widgets.FloatSlider(value=50, min=35, max=70, step=1, description='D')\n",
    "\n",
    "show_A = widgets.Checkbox(value=True, description='Afficher A')\n",
    "show_B = widgets.Checkbox(value=True, description='Afficher B')\n",
    "show_C = widgets.Checkbox(value=True, description='Afficher C')\n",
    "show_D = widgets.Checkbox(value=True, description='Afficher D')\n",
    "\n",
    "range_slider = widgets.FloatSlider(value=15, min=5, max=40, step=1, description='Portée')\n",
    "sill_slider = widgets.FloatSlider(value=1.0, min=0.5, max=2.0, step=0.1, description='Sill')\n",
    "\n",
    "widgets.interact(\n",
    "    plot_screening_effect,\n",
    "    yA=yA_slider,\n",
    "    yB=yB_slider,\n",
    "    yC=yC_slider,\n",
    "    yD=yD_slider,\n",
    "    show_A=show_A,\n",
    "    show_B=show_B,\n",
    "    show_C=show_C,\n",
    "    show_D=show_D,\n",
    "    range_=range_slider,\n",
    "    sill=sill_slider,\n",
    ")\n"
   ]
  },
  {
   "cell_type": "code",
   "execution_count": null,
   "id": "e49de171-f62c-4fd9-a72a-4c62049a3998",
   "metadata": {
    "editable": true,
    "slideshow": {
     "slide_type": ""
    },
    "tags": []
   },
   "outputs": [],
   "source": []
  }
 ],
 "metadata": {
  "kernelspec": {
   "display_name": "Python 3 (ipykernel)",
   "language": "python",
   "name": "python3"
  },
  "language_info": {
   "codemirror_mode": {
    "name": "ipython",
    "version": 3
   },
   "file_extension": ".py",
   "mimetype": "text/x-python",
   "name": "python",
   "nbconvert_exporter": "python",
   "pygments_lexer": "ipython3",
   "version": "3.11.11"
  }
 },
 "nbformat": 4,
 "nbformat_minor": 5
}
