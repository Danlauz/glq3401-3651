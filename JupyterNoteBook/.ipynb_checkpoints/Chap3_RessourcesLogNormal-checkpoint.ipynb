{
 "cells": [
  {
   "cell_type": "markdown",
   "id": "2d8be58b-004c-460f-84c7-673860016974",
   "metadata": {
    "editable": true,
    "slideshow": {
     "slide_type": ""
    },
    "tags": []
   },
   "source": [
    "# Atelier 2 - Calcul des réserves\n",
    "\n",
    "**Atelier interactif pour comprendre comment les paramètres \\($x_c$\\) et \\($g_c$\\) sont calculés**\n",
    "\n",
    "1. La valeur de $x_c$ correspond à la proportion, représentée par la zone hachurée dans le graphique de la fonction de densité ($x_c = P(X > c)$) ; elle s'obtient aussi comme $x_c = 1 - P(X < c)$ à partir de la fonction de répartition (non présentée).\n",
    "\n",
    "2. La valeur de $g_c$ correspond à la moyenne des teneurs situées dans cette zone hachurée (c’est-à-dire, $g_c = E[X|X>c]$ ) sur le graphique de la fonction de densité.\n",
    "\n",
    "> **Note :** Les paramètres $x_c$ et $g_c$ dépendent de la distribution statistique des teneurs dans le gisement.  \n",
    "> Ici, on suppose une loi lognormale de moyenne $moy$ et de variance $s^2$.  \n",
    "> Toutefois, toute autre distribution pourrait être utilisée selon les caractéristiques réelles du gisement.  \n",
    "> Cela souligne l’importance de disposer d’une quantité suffisante d’informations pour bien caractériser la distribution des teneurs.\n"
   ]
  },
  {
   "cell_type": "code",
   "execution_count": 17,
   "id": "dabb55d9-b9a5-4cb1-8f53-940d62985d0e",
   "metadata": {
    "editable": true,
    "slideshow": {
     "slide_type": ""
    },
    "tags": [
     "hide-input"
    ]
   },
   "outputs": [
    {
     "data": {
      "application/vnd.jupyter.widget-view+json": {
       "model_id": "f24ed3384dec4853982175a2e6d95c26",
       "version_major": 2,
       "version_minor": 0
      },
      "text/plain": [
       "VBox(children=(FloatSlider(value=1.0, description='Moyenne', max=2.0, min=0.5, step=0.05), FloatSlider(value=4…"
      ]
     },
     "metadata": {},
     "output_type": "display_data"
    },
    {
     "data": {
      "application/vnd.jupyter.widget-view+json": {
       "model_id": "90095b4ff02d422693f25e9b8b66e860",
       "version_major": 2,
       "version_minor": 0
      },
      "text/plain": [
       "Output()"
      ]
     },
     "metadata": {},
     "output_type": "display_data"
    }
   ],
   "source": [
    "import numpy as np\n",
    "import matplotlib.pyplot as plt\n",
    "from scipy.stats import norm, lognorm\n",
    "import ipywidgets as widgets\n",
    "from IPython.display import display\n",
    "\n",
    "plt.rcParams.update({'font.size': 14})  # Agrandit globalement les polices\n",
    "\n",
    "def reserve(moy, s2, c_array):\n",
    "    c_array = np.asarray(c_array)\n",
    "    log_term = np.log(s2 / moy**2 + 1)\n",
    "    b = np.sqrt(log_term)\n",
    "    u = np.log(moy) - 0.5 * log_term\n",
    "\n",
    "    log_mc = np.log(moy / c_array)\n",
    "    n1 = log_mc / b - b / 2\n",
    "    n2 = n1 + b\n",
    "    tc = norm.cdf(n1)\n",
    "    qc = moy * norm.cdf(n2)\n",
    "    mc = np.where(tc > 0, qc / tc, 0)\n",
    "    return tc, qc, mc\n",
    "\n",
    "def plot_interactive(moy, s2, c_cut):\n",
    "    c_range = np.linspace(0.001, 8, 500)\n",
    "    tc_vals, qc_vals, mc_vals = reserve(moy, s2, c_range)\n",
    "    tc_cut, qc_cut, mc_cut = reserve(moy, s2, np.array([c_cut]))\n",
    "\n",
    "    log_term = np.log(s2 / moy**2 + 1)\n",
    "    sigma = np.sqrt(log_term)\n",
    "    mu = np.log(moy) - 0.5 * log_term\n",
    "\n",
    "    x = np.linspace(0.001, 8, 500)\n",
    "    cdf = lognorm.cdf(x, s=sigma, scale=np.exp(mu))\n",
    "    pdf = lognorm.pdf(x, s=sigma, scale=np.exp(mu))\n",
    "    cdf_cut = lognorm.cdf(c_cut, s=sigma, scale=np.exp(mu))\n",
    "    pdf_cut = lognorm.pdf(c_cut, s=sigma, scale=np.exp(mu))\n",
    "\n",
    "    fig, axs = plt.subplots(2, 2, figsize=(12, 9))\n",
    "    axs = axs.ravel()\n",
    "\n",
    "    axs[0].plot(c_range, tc_vals, label=r'$x_c = P(X > c)$')\n",
    "    axs[0].axvline(c_cut, color='red', linestyle='--')\n",
    "    axs[0].scatter([c_cut], tc_cut, color='red')\n",
    "    axs[0].text(c_cut+0.1, tc_cut + 0.03, f\"{tc_cut[0]:.2f}\", color='red')\n",
    "    axs[0].set(xlim=(0, 8), ylim=(0, 1), xlabel='Teneur de coupure ($c$)', ylabel='$x_c$',\n",
    "               title=r'Proportion au-dessus de $c$')\n",
    "    axs[0].legend()\n",
    "    axs[0].grid()\n",
    "\n",
    "    axs[1].plot(c_range, mc_vals, label=r'$g_c = E[X|X>c]$')\n",
    "    axs[1].axvline(c_cut, color='red', linestyle='--')\n",
    "    axs[1].scatter([c_cut], mc_cut, color='red')\n",
    "    axs[1].text(c_cut+0.1, mc_cut + 2, f\"{mc_cut[0]:.2f}\", color='red')\n",
    "    axs[1].set(xlim=(0, 8), ylim=(0, 15), xlabel='Teneur de coupure ($c$)', ylabel='$g_c$',\n",
    "               title='Teneur moyenne conditionnelle')\n",
    "    axs[1].legend()\n",
    "    axs[1].grid()\n",
    "\n",
    "    axs[2].plot(c_range, tc_vals * mc_vals, label=r'$x_c \\cdot g_c$')\n",
    "    axs[2].axvline(c_cut, color='red', linestyle='--')\n",
    "    axs[2].scatter([c_cut], [tc_cut[0] * mc_cut[0]], color='red')\n",
    "    axs[2].text(c_cut+0.1, tc_cut[0] * mc_cut[0] + 0.03, f\"{tc_cut[0] * mc_cut[0]:.2f}\", color='red')\n",
    "    axs[2].set(xlim=(0, 8),\n",
    "               ylim=(0, np.max(tc_vals * mc_vals) * 1.1),\n",
    "               xlabel='Teneur de coupure ($c$)',\n",
    "               ylabel=r'$x_c \\cdot g_c$',\n",
    "               title='Teneur moyenne récupérée')\n",
    "    axs[2].legend()\n",
    "    axs[2].grid()\n",
    "\n",
    "    axs[3].plot(x, pdf, label='PDF')\n",
    "    axs[3].fill_between(x, 0, pdf, where=(x > c_cut), color='grey', alpha=0.3, hatch='///')\n",
    "    axs[3].axvline(c_cut, color='red', linestyle='--')\n",
    "    axs[3].scatter([c_cut], [pdf_cut], color='red')\n",
    "    axs[3].text(c_cut+0.1, pdf_cut + 0.02, f\"{pdf_cut:.2f}\", color='red')\n",
    "    axs[3].set(xlim=(0, 8), ylim=(0, np.max(pdf) + 0.1), xlabel='Teneur de coupure ($c$)', ylabel='Densité',\n",
    "               title='Fonction de densité lognormale')\n",
    "    axs[3].legend()\n",
    "    axs[3].grid()\n",
    "\n",
    "    plt.tight_layout()\n",
    "    plt.show()\n",
    "\n",
    "\n",
    "# Widgets\n",
    "w_moy = widgets.FloatSlider(value=1.0, min=0.5, max=2.0, step=0.05, description='Moyenne')\n",
    "w_s2 = widgets.FloatSlider(value=4.0, min=1.0, max=8.0, step=0.25, description='Variance')\n",
    "w_c = widgets.FloatSlider(value=0.5, min=0.001, max=8.0, step=0.2, description='Coupure')\n",
    "\n",
    "ui = widgets.VBox([w_moy, w_s2, w_c])\n",
    "out = widgets.interactive_output(plot_interactive, {'moy': w_moy, 's2': w_s2, 'c_cut': w_c})\n",
    "\n",
    "display(ui, out)\n"
   ]
  },
  {
   "cell_type": "code",
   "execution_count": null,
   "id": "9ca5f707-3672-4068-abd4-7ccf88d85d04",
   "metadata": {
    "editable": true,
    "slideshow": {
     "slide_type": ""
    },
    "tags": []
   },
   "outputs": [],
   "source": []
  }
 ],
 "metadata": {
  "kernelspec": {
   "display_name": "Python 3 (ipykernel)",
   "language": "python",
   "name": "python3"
  },
  "language_info": {
   "codemirror_mode": {
    "name": "ipython",
    "version": 3
   },
   "file_extension": ".py",
   "mimetype": "text/x-python",
   "name": "python",
   "nbconvert_exporter": "python",
   "pygments_lexer": "ipython3",
   "version": "3.11.11"
  }
 },
 "nbformat": 4,
 "nbformat_minor": 5
}
