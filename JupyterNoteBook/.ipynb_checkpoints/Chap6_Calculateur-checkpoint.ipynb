{
 "cells": [
  {
   "cell_type": "markdown",
   "id": "cecc4ce1-dd34-4364-9246-cc561683bc4b",
   "metadata": {
    "editable": true,
    "slideshow": {
     "slide_type": ""
    },
    "tags": []
   },
   "source": [
    "# Atelier 6 – Calculateur de variogramme théorique anisotrope multi-composantes\n",
    "\n",
    "## 🎯 But pédagogique  \n",
    "Effectuer le calcul direct du variogramme théorique pour des modèles combinant jusqu’à trois structures anisotropes.\n",
    "\n",
    "## Fonctionnalités  \n",
    "\n",
    "- **Entrée** : possibilité de définir jusqu’à 3 composantes, chacune avec :  \n",
    "  - Type de modèle : sphérique, exponentiel, gaussien, pépite  \n",
    "  - Variance, portée, anisotropie ($a_x$, $a_y$, angle)  \n",
    "  - Distances directionnelles ($h_x$ et $h_y$)  \n",
    "  - **Angle** : valeur de l’angle entre la direction Est et la portée majeure ($a_g$), mesuré dans le sens antihoraire. \n",
    "\n",
    "---\n",
    "\n",
    "> 💡 **Note** : Pour le modèle de pépite, les paramètres du modèle peuvent prendre n’importe quelle valeur.  \n",
    ">  \n",
    "> 💡 **Note** : Les distances $h_x$ et $h_y$ peuvent être négatives.\n"
   ]
  },
  {
   "cell_type": "code",
   "execution_count": 7,
   "id": "340c5a1a-1b84-4657-b0ba-eefee13cf4b3",
   "metadata": {
    "editable": true,
    "slideshow": {
     "slide_type": ""
    },
    "tags": [
     "hide-input"
    ]
   },
   "outputs": [
    {
     "data": {
      "application/vnd.jupyter.widget-view+json": {
       "model_id": "013b367c1c1a4f818f61a51181ccefce",
       "version_major": 2,
       "version_minor": 0
      },
      "text/plain": [
       "VBox(children=(HTML(value='<h3>Calculateur de variogramme théorique (multi-composantes anisotropes)</h3>'), HB…"
      ]
     },
     "metadata": {},
     "output_type": "display_data"
    }
   ],
   "source": [
    "import numpy as np\n",
    "import ipywidgets as widgets\n",
    "from IPython.display import display, clear_output\n",
    "\n",
    "def cov_component(h, range_ag, range_ap, azimuth_deg, model, sill):\n",
    "    theta = np.deg2rad(-(90 - azimuth_deg))  # rotation antihoraire\n",
    "    \n",
    "    hx, hy = h[0], h[1]\n",
    "    h_rot_x = np.cos(theta) * hx - np.sin(theta) * hy\n",
    "    h_rot_y = np.sin(theta) * hx + np.cos(theta) * hy\n",
    "    \n",
    "    h_scaled = h_rot_x / range_ag\n",
    "    v_scaled = h_rot_y / range_ap\n",
    "    \n",
    "    dist = np.sqrt(h_scaled**2 + v_scaled**2)\n",
    "    \n",
    "    if model == 'Sphérique':\n",
    "        if dist < 1:\n",
    "            cov = sill * (1 - 1.5*dist + 0.5*dist**3)\n",
    "        else:\n",
    "            cov = 0\n",
    "    elif model == 'Exponentiel':\n",
    "        cov = sill * np.exp(-3 * dist)\n",
    "    elif model == 'Gaussien':\n",
    "        cov = sill * np.exp(-3 * dist**2)\n",
    "    elif model == 'Pépite':\n",
    "        cov = sill if dist == 0 else 0\n",
    "    else:\n",
    "        raise ValueError(f\"Modèle inconnu : {model}\")\n",
    "    return cov\n",
    "\n",
    "def covariance_multi(h, comps):\n",
    "    cov_total = 0\n",
    "    for c in comps:\n",
    "        if c['active']:\n",
    "            cov_total += cov_component(h, c['range_ag'], c['range_ap'], c['azimuth_deg'], c['model'], c['sill'])\n",
    "    return cov_total\n",
    "\n",
    "def variogram(h, comps):\n",
    "    sill_total = sum(c['sill'] for c in comps if c['active'])\n",
    "    return sill_total - covariance_multi(h, comps)\n",
    "\n",
    "def create_component_widget(index):\n",
    "    idx = index + 1\n",
    "    active_cb = widgets.Checkbox(value=False, description=f\"Comp. {idx}\")\n",
    "    model_dd = widgets.Dropdown(\n",
    "        options=['Sphérique', 'Exponentiel', 'Gaussien', 'Pépite'],\n",
    "        value='Sphérique',\n",
    "        description=f'Type {idx}'\n",
    "    )\n",
    "    sill_txt = widgets.Text(value='1.0', description=f'Sill {idx}')\n",
    "    range_ap_txt = widgets.Text(value='1.0', description=f'Portée ap {idx}')\n",
    "    range_ag_txt = widgets.Text(value='1.0', description=f'Portée ag {idx}')\n",
    "    azimuth_txt = widgets.Text(value='40.0', description=f'Angle {idx} (°)')\n",
    "    \n",
    "    def toggle_inputs(change):\n",
    "        enabled = change['new']\n",
    "        model_dd.disabled = not enabled\n",
    "        sill_txt.disabled = not enabled\n",
    "        range_ap_txt.disabled = not enabled\n",
    "        range_ag_txt.disabled = not enabled\n",
    "        azimuth_txt.disabled = not enabled\n",
    "    \n",
    "    active_cb.observe(toggle_inputs, names='value')\n",
    "    toggle_inputs({'new': active_cb.value})\n",
    "    \n",
    "    comp_box = widgets.VBox([active_cb, model_dd, sill_txt, range_ap_txt, range_ag_txt, azimuth_txt])\n",
    "    return comp_box, active_cb, model_dd, sill_txt, range_ap_txt, range_ag_txt, azimuth_txt\n",
    "\n",
    "comp_widgets = []\n",
    "for i in range(3):\n",
    "    comp_widgets.append(create_component_widget(i))\n",
    "\n",
    "hx_txt = widgets.Text(value='5.0', description='$h_x$:')\n",
    "hy_txt = widgets.Text(value='0.0', description='$h_y$:')\n",
    "\n",
    "btn_calc = widgets.Button(description=\"Calculer variogramme γ(h) et covariance\")\n",
    "output = widgets.Output()\n",
    "\n",
    "def on_calc_clicked(b):\n",
    "    with output:\n",
    "        clear_output()\n",
    "        warnings = []\n",
    "        try:\n",
    "            comps = []\n",
    "            for (comp_box, active_cb, model_dd, sill_txt, rap_txt, rag_txt, az_txt) in comp_widgets:\n",
    "                active = active_cb.value\n",
    "                if active:\n",
    "                    model = model_dd.value\n",
    "                    sill = float(sill_txt.value)\n",
    "                    range_ap = float(rap_txt.value)\n",
    "                    range_ag = float(rag_txt.value)\n",
    "                    azimuth_deg = float(az_txt.value)\n",
    "                    if range_ag < range_ap:\n",
    "                        warnings.append(f\"⚠️ Composante {comp_box.children[0].description} : Portée ag ({range_ag}) < Portée ap ({range_ap})\")\n",
    "                else:\n",
    "                    model = None\n",
    "                    sill = 0\n",
    "                    range_ap = 1\n",
    "                    range_ag = 1\n",
    "                    azimuth_deg = 0\n",
    "                comps.append({\n",
    "                    'active': active,\n",
    "                    'model': model,\n",
    "                    'sill': sill,\n",
    "                    'range_ap': range_ap,\n",
    "                    'range_ag': range_ag,\n",
    "                    'azimuth_deg': azimuth_deg\n",
    "                })\n",
    "            \n",
    "            for w in warnings:\n",
    "                print(w)\n",
    "            if warnings:\n",
    "                print()\n",
    "                \n",
    "            hx = float(hx_txt.value)\n",
    "            hy = float(hy_txt.value)\n",
    "            h = np.array([hx, hy])\n",
    "            gamma = variogram(h, comps)\n",
    "            cov = covariance_multi(h, comps)\n",
    "            print(f\"Variogramme γ(h) pour h=({hx}, {hy}) = {gamma:.4f}\")\n",
    "            print(f\"Covariance C(h) pour h=({hx}, {hy}) = {cov:.4f}\")\n",
    "        except Exception as e:\n",
    "            print(f\"Erreur : {e}\")\n",
    "\n",
    "btn_calc.on_click(on_calc_clicked)\n",
    "\n",
    "ui = widgets.VBox([\n",
    "    widgets.HTML(\"<h3>Calculateur de variogramme théorique (multi-composantes anisotropes)</h3>\"),\n",
    "    widgets.HBox([hx_txt, hy_txt]),\n",
    "    widgets.HBox([w[0] for w in comp_widgets]),\n",
    "    btn_calc,\n",
    "    output\n",
    "])\n",
    "\n",
    "display(ui)"
   ]
  },
  {
   "cell_type": "code",
   "execution_count": null,
   "id": "6146bcdd-9166-4b80-8412-1c153ddd9c4e",
   "metadata": {
    "editable": true,
    "slideshow": {
     "slide_type": ""
    },
    "tags": []
   },
   "outputs": [],
   "source": []
  }
 ],
 "metadata": {
  "kernelspec": {
   "display_name": "Python 3 (ipykernel)",
   "language": "python",
   "name": "python3"
  },
  "language_info": {
   "codemirror_mode": {
    "name": "ipython",
    "version": 3
   },
   "file_extension": ".py",
   "mimetype": "text/x-python",
   "name": "python",
   "nbconvert_exporter": "python",
   "pygments_lexer": "ipython3",
   "version": "3.11.11"
  }
 },
 "nbformat": 4,
 "nbformat_minor": 5
}
