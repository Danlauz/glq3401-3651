{
 "cells": [
  {
   "cell_type": "markdown",
   "id": "afca6790-1293-4dad-baee-ce32250d7c9f",
   "metadata": {
    "editable": true,
    "slideshow": {
     "slide_type": ""
    },
    "tags": []
   },
   "source": [
    "# 🌟 Atelier interactif\n",
    "\n",
    "Découvrez plusieurs ateliers interactifs conçus pour mieux comprendre la théorie de Lane et Taylor :\n",
    "\n",
    "1. 🧮 **Feuillet de calcul de la teneur de coupure optimale**  \n",
    "   Visualisez la teneur de coupure optimale, identifiez sa valeur et son type.\n",
    "\n",
    "2. 📊 **Calcul des réserves selon une loi lognormale**  \n",
    "   Explorez le calcul des variables $x_c$ et $g_c$ en fonction de la teneur de coupure, dans le cadre d’une loi lognormale.\n",
    "\n",
    "3. 🔍 **Analyse de sensibilité de la formule de Lane et Taylor**  \n",
    "   Tous les paramètres sont fixés sauf un, qui varie ; plusieurs cas sont présentés pour analyser leur influence.\n",
    "\n"
   ]
  },
  {
   "cell_type": "code",
   "execution_count": null,
   "id": "c4c50f1f-ab8e-4d16-a53c-9c127515d6b6",
   "metadata": {
    "editable": true,
    "slideshow": {
     "slide_type": ""
    },
    "tags": []
   },
   "outputs": [],
   "source": []
  }
 ],
 "metadata": {
  "kernelspec": {
   "display_name": "Python 3 (ipykernel)",
   "language": "python",
   "name": "python3"
  },
  "language_info": {
   "codemirror_mode": {
    "name": "ipython",
    "version": 3
   },
   "file_extension": ".py",
   "mimetype": "text/x-python",
   "name": "python",
   "nbconvert_exporter": "python",
   "pygments_lexer": "ipython3",
   "version": "3.11.11"
  }
 },
 "nbformat": 4,
 "nbformat_minor": 5
}
