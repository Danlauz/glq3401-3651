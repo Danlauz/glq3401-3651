{
 "cells": [
  {
   "cell_type": "markdown",
   "id": "da3bcc52-e53d-443e-a99f-f802524182d8",
   "metadata": {
    "editable": true,
    "slideshow": {
     "slide_type": ""
    },
    "tags": []
   },
   "source": [
    "# 🌟 Atelier interactif\n",
    "\n",
    "Découvrez plusieurs ateliers interactifs conçus pour mieux comprendre la théorie de Gy et les QA/QC :\n",
    "\n",
    "1. 🧮 **Abaque de Gy interactif**  \n",
    "   Visualisez les lignes d'isocontours de l'écart-type relatif de Gy.\n",
    "   Vous pouvez entrer vos propres paramètres, les valider, et obtenir une procédure graphique adaptée à vos étapes.\n",
    "\n",
    "2. 📊 **Analyse des blancs – Visualisation et interprétation**  \n",
    "   Visualisez et interprétez des blancs.\n",
    "\n",
    "3. 🔍 **Contrôle Qualité des Séries de Standards en Laboratoire**  \n",
    "   Visualisez et interprétez des standards.\n",
    "\n",
    "4. 📈 **Simulation de QA/QC sur duplicatas géochimiques avec incertitude contrôlée**  \n",
    "   Visualisez et interprétez des duplicatas.\n",
    "\n",
    "> 📚 *Rafini, S., 2015*. **Assurance et contrôle de la qualité (QA/QC) en exploration minérale** : synthèse et évaluation des usages. Rapport, Projet CONSOREM 2013-05, 44 p.\n"
   ]
  },
  {
   "cell_type": "code",
   "execution_count": null,
   "id": "ac4a2dde-ae43-41b7-9d9d-4fcb4755485b",
   "metadata": {
    "editable": true,
    "slideshow": {
     "slide_type": ""
    },
    "tags": []
   },
   "outputs": [],
   "source": []
  }
 ],
 "metadata": {
  "kernelspec": {
   "display_name": "Python 3 (ipykernel)",
   "language": "python",
   "name": "python3"
  },
  "language_info": {
   "codemirror_mode": {
    "name": "ipython",
    "version": 3
   },
   "file_extension": ".py",
   "mimetype": "text/x-python",
   "name": "python",
   "nbconvert_exporter": "python",
   "pygments_lexer": "ipython3",
   "version": "3.11.11"
  }
 },
 "nbformat": 4,
 "nbformat_minor": 5
}
