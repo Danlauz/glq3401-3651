{
 "cells": [
  {
   "cell_type": "markdown",
   "id": "a92d3d75-dd4f-49a4-ae55-6bdb9c70d703",
   "metadata": {
    "editable": true,
    "slideshow": {
     "slide_type": ""
    },
    "tags": []
   },
   "source": [
    "# Atelier 1 - Calculateur\n",
    "\n",
    "## Objectif\n",
    "\n",
    "Ce calculateur vise à résoudre le krigeage ordinaire et simple avec un modèle de variogramme imbriqué anisotrope. \n",
    "\n",
    "---\n",
    "\n",
    "## Exemple d'application du calculateur avec 4 observations et deux composantes dont une anisotrope.\n",
    "\n",
    "Un gisement d’or est caractérisé par un variogramme sphérique présentant une anisotropie géométrique. La direction de meilleure continuité spatiale (azimut) est de 40° (sens horaire depuis le Nord). Le modèle variogrammique imbriqué comprend :\n",
    "\n",
    "- Une pépite (effet microstructurel) de variance \\(C_0 = 2\\) ppm²,\n",
    "- Un composant structuré sphérique de variance \\(C = 30\\) ppm²,\n",
    "- Une portée majeure \\(a_{40} = 60\\) m,\n",
    "- Une portée mineure \\(a_{130} = 40\\) m.\n",
    "\n",
    "---\n",
    "\n",
    "**Données d'entrée**\n",
    "\n",
    "Les données échantillons autour du point d’intérêt \\((100, 100)\\) sont :\n",
    "\n",
    "| Observation | Coordonnée X (m) | Coordonnée Y (m) | Teneur (ppm) |\n",
    "|-------------|------------------|------------------|--------------|\n",
    "| 1           | 100              | 90               | 10           |\n",
    "| 2           | 91               | 104              | 4            |\n",
    "| 3           | 110              | 110              | 7            |\n",
    "| 4           | 107              | 93               | 3            |\n",
    "\n",
    "---\n",
    "\n",
    "## Instructions\n",
    "\n",
    "1. **Configurer les points connus** : Activez/désactivez les observations et modifiez leurs coordonnées ou teneurs si nécessaire. Maximum de 7 observations.\n",
    "\n",
    "2. **Paramètres des variogrammes** : Les paramètres du variogramme sont préconfigurés selon l’exemple ci-dessus, avec possibilité de les modifier.\n",
    "\n",
    "3. **Point de prédiction** : Positionnez le point où vous souhaitez estimer la teneur (par défaut \\(x=100, y=100\\)).\n",
    "\n",
    "4. **Effectuer le calcul** : Cliquez sur le bouton \"Faire le calcul\" pour obtenir :\n",
    "\n",
    "   - La matrice de covariance \\(K\\),\n",
    "   - Le vecteur de covariance \\(k\\),\n",
    "   - La matrice augmentée \\(K_{aug}\\) utilisée pour le krigeage ordinaire,\n",
    "   - Les poids de krigeage pour la méthode simple et ordinaire,\n",
    "   - Le multiplicateur de Lagrange (ordinaire),\n",
    "   - Les estimations et variances aux points de prédiction.\n",
    "\n",
    "---\n",
    "\n",
    "## Note sur l'anisotropie\n",
    "\n",
    "L’anisotropie géométrique est prise en compte en appliquant une transformation des coordonnées selon l’azimut et les portées majeures et mineures. L’angle est mesuré depuis le Nord, dans le sens horaire, ce qui correspond à la convention géologique classique.\n",
    "\n",
    "---\n",
    "\n",
    "## Avertissements\n",
    "\n",
    "Si la portée mineure est configurée plus grande que la portée majeure pour un composant, un message d’avertissement s’affichera.\n",
    "\n",
    "---\n",
    "\n",
    "Profitez de cet outil pour valider vos calculs des exercices.\n",
    "\n",
    "---\n",
    "\n",
    "*Bon travail !*\n",
    "\n"
   ]
  },
  {
   "cell_type": "code",
   "execution_count": 30,
   "id": "21b5dbe5-56f7-4221-a82f-20d046118dcc",
   "metadata": {
    "editable": true,
    "slideshow": {
     "slide_type": ""
    },
    "tags": []
   },
   "outputs": [
    {
     "data": {
      "application/vnd.jupyter.widget-view+json": {
       "model_id": "74b95e23c533429a990d711a23bf74e5",
       "version_major": 2,
       "version_minor": 0
      },
      "text/plain": [
       "HTML(value='<h3>Points connus (max 7)</h3>')"
      ]
     },
     "metadata": {},
     "output_type": "display_data"
    },
    {
     "data": {
      "application/vnd.jupyter.widget-view+json": {
       "model_id": "99db54d25b884411b2ee6f0cd0637816",
       "version_major": 2,
       "version_minor": 0
      },
      "text/plain": [
       "HBox(children=(VBox(children=(Checkbox(value=True, description='Point 1', layout=Layout(width='120px')), Check…"
      ]
     },
     "metadata": {},
     "output_type": "display_data"
    },
    {
     "data": {
      "application/vnd.jupyter.widget-view+json": {
       "model_id": "eca4977094f54ed387347ec4d09b8c9c",
       "version_major": 2,
       "version_minor": 0
      },
      "text/plain": [
       "HTML(value='<h3>Paramètres du variogramme imbriqué</h3>')"
      ]
     },
     "metadata": {},
     "output_type": "display_data"
    },
    {
     "data": {
      "application/vnd.jupyter.widget-view+json": {
       "model_id": "b1c424320ac5444bb169316b9058262f",
       "version_major": 2,
       "version_minor": 0
      },
      "text/plain": [
       "HBox(children=(VBox(children=(FloatText(value=2.0, description='Sill 1', layout=Layout(width='180px')), FloatT…"
      ]
     },
     "metadata": {},
     "output_type": "display_data"
    },
    {
     "data": {
      "application/vnd.jupyter.widget-view+json": {
       "model_id": "264766e963154bfbbd23fecae8e4e273",
       "version_major": 2,
       "version_minor": 0
      },
      "text/plain": [
       "HTML(value='<h3>Paramètres de krigeage</h3>')"
      ]
     },
     "metadata": {},
     "output_type": "display_data"
    },
    {
     "data": {
      "application/vnd.jupyter.widget-view+json": {
       "model_id": "8b294a09264a4485bbe61585a9e693d9",
       "version_major": 2,
       "version_minor": 0
      },
      "text/plain": [
       "HBox(children=(FloatText(value=0.0, description='Moyenne KS', layout=Layout(width='180px')), FloatText(value=1…"
      ]
     },
     "metadata": {},
     "output_type": "display_data"
    },
    {
     "data": {
      "application/vnd.jupyter.widget-view+json": {
       "model_id": "d2917d8f633e4dd7994aebbc9951c889",
       "version_major": 2,
       "version_minor": 0
      },
      "text/plain": [
       "Button(button_style='success', description='Faire le calcul', style=ButtonStyle())"
      ]
     },
     "metadata": {},
     "output_type": "display_data"
    },
    {
     "data": {
      "application/vnd.jupyter.widget-view+json": {
       "model_id": "d9212baffe0e473c959a8fe39d2b909d",
       "version_major": 2,
       "version_minor": 0
      },
      "text/plain": [
       "Output()"
      ]
     },
     "metadata": {},
     "output_type": "display_data"
    }
   ],
   "source": [
    "import numpy as np\n",
    "import matplotlib.pyplot as plt\n",
    "from scipy.spatial.distance import cdist\n",
    "import ipywidgets as widgets\n",
    "from IPython.display import display, HTML, clear_output\n",
    "\n",
    "# --- Covariance ---\n",
    "def spherical_cov(h, range_, sill):\n",
    "    cov = np.zeros_like(h)\n",
    "    hr = h / range_\n",
    "    mask = h <= range_\n",
    "    cov[mask] = sill * (1 - 1.5 * hr[mask] + 0.5 * hr[mask]**3)\n",
    "    return cov\n",
    "\n",
    "def exponential_cov(h, range_, sill): return sill * np.exp(-3*h / range_)\n",
    "def gaussian_cov(h, range_, sill): return sill * np.exp(-3*(h / range_)**2)\n",
    "def nugget_cov(h, sill): return sill * (h == 0)\n",
    "\n",
    "# --- Anisotropie géométrique ---\n",
    "def apply_anisotropy(coords, azimuth_deg, range_ag, range_ap):\n",
    "    theta = np.deg2rad(-(90 - azimuth_deg))\n",
    "    R = np.array([\n",
    "        [np.cos(theta), -np.sin(theta)],\n",
    "        [np.sin(theta),  np.cos(theta)]\n",
    "    ])\n",
    "    S = np.array([\n",
    "        [1/range_ag, 0],\n",
    "        [0, 1/range_ap]\n",
    "    ])\n",
    "    A = S @ R\n",
    "    return (A @ coords.T).T\n",
    "\n",
    "# --- Modèle imbriqué ---\n",
    "def nested_covariance(h, params):\n",
    "    cov_total = np.zeros_like(h)\n",
    "    for p in params:\n",
    "        if p['type'] == 'Sphérique': cov_total += spherical_cov(h, 1, p['sill'])\n",
    "        elif p['type'] == 'Exponentiel': cov_total += exponential_cov(h, 1, p['sill'])\n",
    "        elif p['type'] == 'Gaussien': cov_total += gaussian_cov(h, 1, p['sill'])\n",
    "        elif p['type'] == 'Pépite': cov_total += nugget_cov(h, p['sill'])\n",
    "    return cov_total\n",
    "\n",
    "def compute_cov_matrix_anisotrope(coords, params, azimuths, ranges_ag, ranges_ap):\n",
    "    n = len(coords)\n",
    "    cov_total = np.zeros((n, n))\n",
    "    for i, p in enumerate(params):\n",
    "        coords_trans = apply_anisotropy(coords, azimuths[i], ranges_ag[i], ranges_ap[i])\n",
    "        h = cdist(coords_trans, coords_trans)\n",
    "        cov_total += nested_covariance(h, [p])\n",
    "    return cov_total\n",
    "\n",
    "def compute_cov_vector_anisotrope(coords, coords_pred, params, azimuths, ranges_ag, ranges_ap):\n",
    "    cov_vec = np.zeros((len(coords_pred), len(coords)))\n",
    "    for i, p in enumerate(params):\n",
    "        coords_trans = apply_anisotropy(coords, azimuths[i], ranges_ag[i], ranges_ap[i])\n",
    "        coords_pred_trans = apply_anisotropy(coords_pred, azimuths[i], ranges_ag[i], ranges_ap[i])\n",
    "        h = cdist(coords_pred_trans, coords_trans)\n",
    "        cov_vec += nested_covariance(h, [p])\n",
    "    return cov_vec\n",
    "\n",
    "def simple_kriging(xy_samples, values, xy_pred, params, azimuths, ranges_ag, ranges_ap, mean):\n",
    "    C = compute_cov_matrix_anisotrope(xy_samples, params, azimuths, ranges_ag, ranges_ap)\n",
    "    c0 = compute_cov_vector_anisotrope(xy_samples, xy_pred, params, azimuths, ranges_ag, ranges_ap)\n",
    "    weights = np.linalg.solve(C, c0.T)\n",
    "    y_est = mean + weights.T @ (np.array(values) - mean)\n",
    "    sill_tot = sum(p['sill'] for p in params)\n",
    "    sigma2 = sill_tot - np.sum(weights * c0.T, axis=0)\n",
    "    return y_est, sigma2, weights, c0, C\n",
    "\n",
    "def ordinary_kriging(xy_samples, values, xy_pred, params, azimuths, ranges_ag, ranges_ap):\n",
    "    n = len(xy_samples)\n",
    "    C = compute_cov_matrix_anisotrope(xy_samples, params, azimuths, ranges_ag, ranges_ap)\n",
    "    C_aug = np.zeros((n+1,n+1))\n",
    "    C_aug[:n,:n] = C\n",
    "    C_aug[n,:n] = 1\n",
    "    C_aug[:n,n] = 1\n",
    "    c0 = compute_cov_vector_anisotrope(xy_samples, xy_pred, params, azimuths, ranges_ag, ranges_ap)\n",
    "    y_est, sigma2, weights_list, lambdas = [], [], [], []\n",
    "    sill_tot = sum(p['sill'] for p in params)\n",
    "    c_aug_list = []\n",
    "    for i in range(len(xy_pred)):\n",
    "        c_aug = np.append(c0[i],1)\n",
    "        c_aug_list.append(c_aug)   # sauvegarde du vecteur k_aug\n",
    "        sol = np.linalg.solve(C_aug, c_aug)\n",
    "        w, mu = sol[:-1], sol[-1]\n",
    "        y_est.append(np.dot(w, values))\n",
    "        sigma2.append(sill_tot - np.dot(w,c0[i]) - mu)\n",
    "        weights_list.append(w)\n",
    "        lambdas.append(mu)\n",
    "    return np.array(y_est), np.array(sigma2), np.array(weights_list), np.array(lambdas), C_aug, np.array(c_aug_list)\n",
    "\n",
    "def format_matrix_html(mat, title):\n",
    "    html = f\"<h4>{title}</h4><table border='1' style='border-collapse:collapse'>\"\n",
    "    for row in mat:\n",
    "        html += \"<tr>\" + \"\".join(f\"<td style='padding:5px;text-align:center'>{v:.3f}</td>\" for v in row) + \"</tr>\"\n",
    "    html += \"</table><br>\"\n",
    "    return html\n",
    "\n",
    "# --- Widgets ---\n",
    "\n",
    "data_points = [\n",
    "    (True, 100,  90, 10),\n",
    "    (True,  91, 104,  4),\n",
    "    (True, 110, 110,  7),\n",
    "    (True, 107,  93,  3),\n",
    "    (False, 0,    0,  0),\n",
    "    (False, 0,    0,  0),\n",
    "    (False, 0,    0,  0)\n",
    "]\n",
    "\n",
    "activate_points = []\n",
    "pts_x = []\n",
    "pts_y = []\n",
    "vals = []\n",
    "\n",
    "for i in range(7):\n",
    "    active, x_val, y_val, v_val = data_points[i]\n",
    "    activate_points.append(widgets.Checkbox(value=active, description=f'Point {i+1}', layout=widgets.Layout(width='120px')))\n",
    "    pts_x.append(widgets.FloatText(value=x_val, description=f'x{i+1}', layout=widgets.Layout(width='180px')))\n",
    "    pts_y.append(widgets.FloatText(value=y_val, description=f'y{i+1}', layout=widgets.Layout(width='180px')))\n",
    "    vals.append(widgets.FloatText(value=v_val, description=f'val{i+1}', layout=widgets.Layout(width='180px')))\n",
    "\n",
    "x0 = widgets.FloatText(value=100, description='x0', layout=widgets.Layout(width='180px'))\n",
    "y0 = widgets.FloatText(value=100, description='y0', layout=widgets.Layout(width='180px'))\n",
    "mean_ks = widgets.FloatText(value=0, description='Moyenne KS', layout=widgets.Layout(width='180px'))\n",
    "\n",
    "options_cov = ['Aucun','Sphérique','Exponentiel','Gaussien','Pépite']\n",
    "def create_cov_widgets(n):\n",
    "    if n == 1:\n",
    "        sill = 2.0\n",
    "        range_ap = 1.0\n",
    "        range_ag = 1.0\n",
    "        angle = 40\n",
    "        typ = 'Pépite'\n",
    "    elif n == 2:\n",
    "        sill = 30.0\n",
    "        range_ap = 40.0\n",
    "        range_ag = 60.0\n",
    "        angle = 40\n",
    "        typ = 'Sphérique'\n",
    "    else:\n",
    "        sill = 0.0\n",
    "        range_ap = 1.0\n",
    "        range_ag = 1.0\n",
    "        angle = 0\n",
    "        typ = 'Aucun'\n",
    "\n",
    "    sill_w      = widgets.FloatText(value=sill, description=f'Sill {n}', layout=widgets.Layout(width='180px'))\n",
    "    range_ap_w  = widgets.FloatText(value=range_ap, description=f'Portée ap {n}', layout=widgets.Layout(width='180px'))\n",
    "    range_ag_w  = widgets.FloatText(value=range_ag, description=f'Portée ag {n}', layout=widgets.Layout(width='180px'))\n",
    "    angle_w     = widgets.IntText(value=angle, description=f'Angle {n} (°)', layout=widgets.Layout(width='180px'))\n",
    "    typ_w       = widgets.Dropdown(options=options_cov, value=typ, description=f'Type {n}', layout=widgets.Layout(width='180px'))\n",
    "    return sill_w, range_ap_w, range_ag_w, angle_w, typ_w\n",
    "\n",
    "cov_widgets = [create_cov_widgets(i) for i in range(1,4)]\n",
    "\n",
    "output = widgets.Output()\n",
    "\n",
    "def update(*args):\n",
    "    with output:\n",
    "        clear_output()\n",
    "        xs, ys, vs = [], [], []\n",
    "        warnings = []\n",
    "        for i in range(7):\n",
    "            if activate_points[i].value:\n",
    "                try:\n",
    "                    xval = float(pts_x[i].value)\n",
    "                    yval = float(pts_y[i].value)\n",
    "                    vval = float(vals[i].value)\n",
    "                    xs.append(xval)\n",
    "                    ys.append(yval)\n",
    "                    vs.append(vval)\n",
    "                except:\n",
    "                    pass\n",
    "\n",
    "        if len(xs) < 1:\n",
    "            print(\"Au moins un point doit être activé et valide.\")\n",
    "            return\n",
    "\n",
    "        xy_samples = np.column_stack([xs, ys])\n",
    "        xy_pred = np.array([[float(x0.value), float(y0.value)]])\n",
    "\n",
    "        params, azimuths, ranges_ag, ranges_ap = [], [], [], []\n",
    "        for idx, (sill_w, range_ap_w, range_ag_w, angle_w, type_w) in enumerate(cov_widgets, start=1):\n",
    "            sill = sill_w.value\n",
    "            range_ap = range_ap_w.value\n",
    "            range_ag = range_ag_w.value\n",
    "            angle = angle_w.value\n",
    "            typ = type_w.value\n",
    "            if typ != 'Aucun' and sill > 0:\n",
    "                if range_ap > range_ag:\n",
    "                    print(f\"⚠️ Composant {idx} a portée petite ({range_ap}) > portée grande ({range_ag}).\")\n",
    "                params.append({'sill': sill, 'type': typ})\n",
    "                azimuths.append(angle)\n",
    "                ranges_ag.append(range_ag)\n",
    "                ranges_ap.append(range_ap)\n",
    "\n",
    "        if len(params) == 0:\n",
    "            print(\"Choisir au moins un composant variogramme valide.\")\n",
    "            return\n",
    "\n",
    "        y_ks, var_ks, w_ks, c0_ks, C_ks = simple_kriging(xy_samples, vs, xy_pred, params, azimuths, ranges_ag, ranges_ap, mean_ks.value)\n",
    "        y_ko, var_ko, w_ko, lambda_ko, C_aug, c_aug_ko = ordinary_kriging(xy_samples, vs, xy_pred, params, azimuths, ranges_ag, ranges_ap)\n",
    "\n",
    "        display(HTML(format_matrix_html(C_ks, \"Matrice de covariance $K_{KS}$\")))\n",
    "        display(HTML(format_matrix_html(c0_ks, \"Vecteur covariance $k_{KS}$\")))\n",
    "        display(HTML(format_matrix_html(C_aug, \"Matrice augmentée $K_{KO}$\")))\n",
    "        display(HTML(format_matrix_html(c_aug_ko, \"Vecteur covariance $k_{KO}$\")))\n",
    "\n",
    "        display(HTML(format_matrix_html(np.array([w_ks[:,0]]), \"Poids KS\")))\n",
    "        display(HTML(format_matrix_html(np.array([w_ko[0]]), \"Poids KO\")))\n",
    "        display(HTML(format_matrix_html(np.array([[lambda_ko[0]]]), \"Multiplicateur de Lagrange (KO)\")))\n",
    "\n",
    "        print(f\"Estimation KS: {y_ks[0]:.3f} ; Variance KS: {var_ks[0]:.3f}\")\n",
    "        print(f\"Estimation KO: {y_ko[0]:.3f} ; Variance KO: {var_ko[0]:.3f}\")\n",
    "\n",
    "box_pts = widgets.HBox([\n",
    "    widgets.VBox(activate_points),\n",
    "    widgets.VBox(pts_x),\n",
    "    widgets.VBox(pts_y),\n",
    "    widgets.VBox(vals)\n",
    "])\n",
    "\n",
    "box_cov = widgets.HBox([widgets.VBox(cw) for cw in cov_widgets])\n",
    "box_krigeage = widgets.HBox([mean_ks, x0, y0])\n",
    "calc_btn = widgets.Button(description=\"Faire le calcul\", button_style='success')\n",
    "calc_btn.on_click(update)\n",
    "\n",
    "display(widgets.HTML(\"<h3>Points connus (max 7)</h3>\"), box_pts)\n",
    "display(widgets.HTML(\"<h3>Paramètres du variogramme imbriqué</h3>\"), box_cov)\n",
    "display(widgets.HTML(\"<h3>Paramètres de krigeage</h3>\"), box_krigeage)\n",
    "display(calc_btn, output)\n"
   ]
  },
  {
   "cell_type": "code",
   "execution_count": null,
   "id": "5e9625e6-9fd2-401f-bbb2-5f3f0719d9fe",
   "metadata": {
    "editable": true,
    "slideshow": {
     "slide_type": ""
    },
    "tags": []
   },
   "outputs": [],
   "source": []
  }
 ],
 "metadata": {
  "kernelspec": {
   "display_name": "Python 3 (ipykernel)",
   "language": "python",
   "name": "python3"
  },
  "language_info": {
   "codemirror_mode": {
    "name": "ipython",
    "version": 3
   },
   "file_extension": ".py",
   "mimetype": "text/x-python",
   "name": "python",
   "nbconvert_exporter": "python",
   "pygments_lexer": "ipython3",
   "version": "3.11.11"
  }
 },
 "nbformat": 4,
 "nbformat_minor": 5
}
