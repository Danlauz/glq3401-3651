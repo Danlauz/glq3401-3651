{
 "cells": [
  {
   "cell_type": "markdown",
   "id": "bd0fcfa3-3bf4-422c-98c6-4610e6ff9c86",
   "metadata": {
    "editable": true,
    "slideshow": {
     "slide_type": ""
    },
    "tags": []
   },
   "source": [
    "## Atelier 4 - Duplicatas\n",
    "\n",
    "### Simulation de QA/QC sur duplicatas géochimiques avec incertitude contrôlée\n",
    "\n",
    "Cette section présente trois graphiques types couramment utilisés dans l’évaluation des duplicatas en contrôle de la qualité (QA/QC).  \n",
    "Nous explorerons ensemble leurs points forts et leurs limites, en mettant en évidence ce qu’ils permettent de détecter — ou non — dans les écarts entre duplicatas.\n",
    "\n",
    "### 📊 1. Nuage de points des duplicatas\n",
    "\n",
    "Ce graphique compare directement les deux séries simulées de duplicatas.  \n",
    "- La ligne noire en pointillé représente l’égalité parfaite (Duplicata 1 = Duplicata 2).\n",
    "- Les bandes colorées indiquent les tolérances acceptables de ±10%, ±20% et ±30%.\n",
    "- Les points rouges indiquent les cas où l’écart dépasse ±10%, signalant un problème potentiel de reproductibilité.\n",
    "\n",
    "Cela permet une évaluation visuelle immédiate du respect des critères QA/QC selon les tolérances définies. Cependant, il n'est pas très informatif. On a recourd généralement aux graphiques des points 2 et 3.\n",
    "\n",
    "### 📈 2. Différence relative (%) selon la moyenne des duplicatas\n",
    "Ce graphique montre la différence relative entre les deux duplicatas en pourcentage, en fonction de leur moyenne :\n",
    "- Il met en évidence les écarts systématiques ou aléatoires.\n",
    "- Les lignes pointillées indiquent les niveaux de tolérance.\n",
    "- Les points rouges signalent les duplicatas hors tolérance de ±10 %.\n",
    "\n",
    "Ce graphique permet d’identifier si les écarts entre duplicatas sont constants ou proportionnels à l’intensité des valeurs — un effet souvent appelé *effet multiplicatif*.  \n",
    "On observe généralement que les faibles teneurs présentent des erreurs relatives plus élevées que les fortes teneurs.  \n",
    "Il est donc essentiel de porter une attention particulière à la zone autour de la teneur de coupure, où ces erreurs peuvent avoir un impact significatif sur les décisions d’exploitation.\n",
    "\n",
    "\n",
    "### 📐 3. Courbe HARD (Half Absolute Relative Difference)\n",
    "\n",
    "Le graphique HARD trace la courbe cumulative de l’erreur relative :\n",
    "- Sur l’axe vertical, on mesure l’écart relatif (|D1 − D2| / (D1 + D2)).\n",
    "- L’axe horizontal correspond au rang normalisé des points (i.e., leur position dans la distribution triée).\n",
    "- Le point rouge représente un objectif typique (par ex. 90% des duplicatas dans ±10%).\n",
    "\n",
    "Ce graphique est souvent utilisé pour évaluer la **performance globale du protocole de QA/QC**.\n"
   ]
  },
  {
   "cell_type": "code",
   "execution_count": 1,
   "id": "dcdc1c84-61a2-4448-9eea-a4be6309f08d",
   "metadata": {
    "editable": true,
    "slideshow": {
     "slide_type": ""
    },
    "tags": [
     "remove-input",
     "remove-output"
    ]
   },
   "outputs": [
    {
     "data": {
      "application/vnd.jupyter.widget-view+json": {
       "model_id": "604284d6808e4a2098c1a51fc89b59b9",
       "version_major": 2,
       "version_minor": 0
      },
      "text/plain": [
       "interactive(children=(FloatSlider(value=0.9, description='Médiane', max=10.0, min=0.1, step=0.001), FloatSlide…"
      ]
     },
     "metadata": {},
     "output_type": "display_data"
    },
    {
     "data": {
      "text/plain": [
       "<function __main__.plot_lognormal_variable_noise(median=2.0, sigma=0.4, corr=0.9, p=0.0)>"
      ]
     },
     "execution_count": 1,
     "metadata": {},
     "output_type": "execute_result"
    }
   ],
   "source": [
    "import numpy as np\n",
    "import matplotlib.pyplot as plt\n",
    "from ipywidgets import interact, FloatSlider\n",
    "\n",
    "def generate_correlated_lognormal_series_mv_variable_noise(\n",
    "    n_points=100,\n",
    "    base_median=2,\n",
    "    sigma_base=0.4,\n",
    "    correlation=0.95,\n",
    "    p=0.0,  # nouveau paramètre contrôle la pente du sigma selon la valeur\n",
    "):\n",
    "    mu = np.log(base_median)\n",
    "\n",
    "    # Tirage base_vals avec sigma fixe non nul (exemple 0.2)\n",
    "    base_vals = np.exp(np.random.normal(mu, 0.2, size=n_points))\n",
    "\n",
    "    safe_vals = np.clip(base_vals, 1e-3, None)\n",
    "    sigma_vals = sigma_base  # scalaire\n",
    "\n",
    "    corr_mat = np.array([[1.0, correlation],\n",
    "                         [correlation, 1.0]])\n",
    "\n",
    "    dup1 = np.empty(n_points)\n",
    "    dup2 = np.empty(n_points)\n",
    "    for i in range(n_points):\n",
    "        cov = corr_mat * sigma_vals**2  # <-- ici on utilise sigma_vals comme scalaire\n",
    "        noise = np.random.multivariate_normal(mean=[0, 0], cov=cov)\n",
    "        dup1[i] = np.exp(mu + noise[0])\n",
    "        dup2[i] = np.exp(mu + noise[1])\n",
    "\n",
    "    dup1 += np.random.normal(0, p, size=n_points)\n",
    "    dup2 += np.random.normal(0, p, size=n_points)\n",
    "\n",
    "    return dup1, dup2\n",
    "\n",
    "\n",
    "def plot_lognormal_variable_noise(median=2.0, sigma=0.4, corr=0.9, p=0.0):\n",
    "    np.random.seed(42)\n",
    "\n",
    "    dup1, dup2 = generate_correlated_lognormal_series_mv_variable_noise(\n",
    "        n_points=200,\n",
    "        base_median=median,\n",
    "        sigma_base=sigma,\n",
    "        correlation=corr,\n",
    "        p=p,\n",
    "    )\n",
    "\n",
    "    fig = plt.figure(figsize=(18, 6), constrained_layout=True)\n",
    "\n",
    "    max_val = min(max(np.quantile(dup1, 0.95), np.quantile(dup2, 0.95)) * 1.1, 100)\n",
    "\n",
    "    # --- Scatter duplicatas ---\n",
    "    ax1 = fig.add_subplot(1, 3, 1)\n",
    "    ax1.scatter(dup1, dup2, alpha=0.6, label=\"Points\")\n",
    "\n",
    "    lims = [0, max_val]\n",
    "    ax1.plot(lims, lims, 'k--', label=\"y = x\")\n",
    "\n",
    "    tolerances = [0.1, 0.2, 0.3]\n",
    "    colors = ['r', 'orange', 'purple']\n",
    "\n",
    "    counts_out = []\n",
    "    for tol, col in zip(tolerances, colors):\n",
    "        lower = 1 - tol\n",
    "        upper = 1 + tol\n",
    "        ax1.plot(lims, [lims[0]*upper, lims[1]*upper], color=col, linestyle='-', alpha=0.6, label=f\"±{int(tol*100)}%\")\n",
    "        ax1.plot(lims, [lims[0]*lower, lims[1]*lower], color=col, linestyle='-', alpha=0.6)\n",
    "        out_of_bounds = (dup2 < dup1 * lower) | (dup2 > dup1 * upper)\n",
    "        counts_out.append(np.sum(out_of_bounds))\n",
    "\n",
    "    tol_max = 0.1\n",
    "    lower_max = 1 - tol_max\n",
    "    upper_max = 1 + tol_max\n",
    "    out_max = (dup2 < dup1 * lower_max) | (dup2 > dup1 * upper_max)\n",
    "    ax1.scatter(dup1[out_max], dup2[out_max], color='red', s=80, label='Hors ±10%')\n",
    "\n",
    "    median_r = round(median, 2)\n",
    "    sigma_r = round(sigma, 2)\n",
    "    corr_r = round(corr, 2)\n",
    "    p_r = round(p, 2)\n",
    "\n",
    "    ax1.set_xlabel(\"Duplicata 1\")\n",
    "    ax1.set_ylabel(\"Duplicata 2\")\n",
    "    ax1.set_title(f\"Séries lognormales corrélées\\nMédiane={median_r}, Sigma={sigma_r}, Corr={corr_r}, p={p_r}\\n\"\n",
    "              f\"Hors ±10%: {counts_out[0]} | ±20%: {counts_out[1]} | ±30%: {counts_out[2]} sur {len(dup1)} points\")\n",
    "    ax1.grid(True)\n",
    "    ax1.legend(loc='best')\n",
    "    ax1.set_xlim(0, max_val)\n",
    "    ax1.set_ylim(0, max_val)\n",
    "\n",
    "    # --- Différence relative ---\n",
    "    ax2 = fig.add_subplot(1, 3, 2)\n",
    "    mean_vals = (dup1 + dup2) / 2\n",
    "    diff_rel = 100 * (dup1 - dup2) / mean_vals\n",
    "\n",
    "    ax2.scatter(mean_vals, diff_rel, alpha=0.6, color='blue', label=\"Différence relative (%)\")\n",
    "\n",
    "    for tol, col in zip(tolerances, colors):\n",
    "        ax2.axhline(y=tol*100, color=col, linestyle='--', alpha=0.6, label=f'±{int(tol*100)}%')\n",
    "        ax2.axhline(y=-tol*100, color=col, linestyle='--', alpha=0.6)\n",
    "\n",
    "    out_diff_max = (diff_rel > 10) | (diff_rel < -10)\n",
    "    ax2.scatter(mean_vals[out_diff_max], diff_rel[out_diff_max], color='red', s=80, label='Hors ±10%')\n",
    "\n",
    "    ax2.set_xlabel(\"(Duplicata 1 + Duplicata 2) / 2\")\n",
    "    ax2.set_ylabel(\"Différence relative (%)\")\n",
    "    ax2.set_title(\"Différence relative entre duplicatas\")\n",
    "    ax2.grid(True)\n",
    "    ax2.legend(loc='best')\n",
    "    ax2.set_xlim(0, max_val)\n",
    "    ax2.set_ylim(-50, 50)\n",
    "\n",
    "    # --- HARD plot ---\n",
    "    ax3 = fig.add_subplot(1, 3, 3)\n",
    "    N = len(dup1)\n",
    "    hard_vals = np.sort(np.abs(dup1 - dup2) / (dup1 + dup2))\n",
    "    ranks = np.arange(1, N + 1) / (N + 1)\n",
    "\n",
    "    ax3.plot(ranks, hard_vals, color='black', linewidth=2, label='Cible')\n",
    "    ax3.plot(0.9, 0.1, 'o', color='red', markersize=10, label='Point critique')\n",
    "    ax3.set_xlabel('Rang/(N+1)')\n",
    "    ax3.set_ylabel('Graphique HARD')\n",
    "    ax3.set_ylim(0, max(0.3, hard_vals.max() * 1.1))  # plus flexible\n",
    "    ax3.grid(True)\n",
    "    ax3.legend(loc='best')\n",
    "\n",
    "    plt.show()\n",
    "\n",
    "\n",
    "interact(\n",
    "    plot_lognormal_variable_noise,\n",
    "    median=FloatSlider(min=0.1, max=10, step=0.001, value=0.9, description=\"Médiane\"),\n",
    "    sigma=FloatSlider(min=0.05, max=1.0, step=0.001, value=1.4, description=\"Sigma base\"),\n",
    "    corr=FloatSlider(min=0.95, max=0.999, step=0.001, value=0.996, description=\"Corrélation\", readout_format=\".3f\"),\n",
    "    p=FloatSlider(min=0, max=2.0, step=0.05, value=0, description=\"Bruit décroissant p\")\n",
    ")"
   ]
  },
  {
   "cell_type": "code",
   "execution_count": null,
   "id": "dd08a482-40e7-412c-8478-d540fe9b8824",
   "metadata": {
    "editable": true,
    "slideshow": {
     "slide_type": ""
    },
    "tags": []
   },
   "outputs": [],
   "source": []
  }
 ],
 "metadata": {
  "kernelspec": {
   "display_name": "Python 3 (ipykernel)",
   "language": "python",
   "name": "python3"
  },
  "language_info": {
   "codemirror_mode": {
    "name": "ipython",
    "version": 3
   },
   "file_extension": ".py",
   "mimetype": "text/x-python",
   "name": "python",
   "nbconvert_exporter": "python",
   "pygments_lexer": "ipython3",
   "version": "3.11.11"
  }
 },
 "nbformat": 4,
 "nbformat_minor": 5
}
