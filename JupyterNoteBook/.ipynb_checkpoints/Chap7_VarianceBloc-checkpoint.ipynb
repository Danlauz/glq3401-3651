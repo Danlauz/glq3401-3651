{
 "cells": [
  {
   "cell_type": "markdown",
   "id": "d857d0b1-f206-4f90-b12d-bb814430106b",
   "metadata": {
    "editable": true,
    "slideshow": {
     "slide_type": ""
    },
    "tags": []
   },
   "source": [
    "# Atelier 1 - Introduction à la variance de blocs\n",
    "\n",
    "## 🎯 But pédagogique\n",
    "Montrer comment la dépendance spatiale s'atténue avec la taille du support (**effet de support**).\n",
    "\n",
    "---\n",
    "\n",
    "### 🎓 Objectif\n",
    "\n",
    "Montrer l’effet de la taille de support (bloc) sur la variance, comparée à :\n",
    "\n",
    "- la **variance ponctuelle** ;\n",
    "- la **variance de bloc théorique** (calculée à partir de l'intégrale de la fonction de covariance) ;\n",
    "- la **variance de bloc expérimentale**, obtenue :\n",
    "  - par **échantillonnage aléatoire** ;\n",
    "  - ou par **moyenne sur sous-blocs**.\n",
    "\n",
    "---\n",
    "\n",
    "### 🔍 Concepts clés\n",
    "- **Effet de support** : réduction de la variance lorsque la taille du bloc augmente.\n",
    "- **Covariance spatiale** : mesure de la dépendance entre valeurs en fonction de la distance.\n",
    "- **Variance de bloc** : mesure de la variabilité moyenne sur une surface ou un volume donné.\n",
    "\n",
    "---\n",
    "\n"
   ]
  },
  {
   "cell_type": "code",
   "execution_count": 8,
   "id": "2385adaf-b0a1-4c2c-aa1f-e84689be442b",
   "metadata": {
    "editable": true,
    "slideshow": {
     "slide_type": ""
    },
    "tags": [
     "hide-input"
    ]
   },
   "outputs": [
    {
     "data": {
      "application/vnd.jupyter.widget-view+json": {
       "model_id": "6dbd0e455f67408a8917e0799ea17354",
       "version_major": 2,
       "version_minor": 0
      },
      "text/plain": [
       "VBox(children=(IntSlider(value=1, description='Support (pixels)', layout=Layout(width='400px'), max=50, style=…"
      ]
     },
     "metadata": {},
     "output_type": "display_data"
    },
    {
     "data": {
      "application/vnd.jupyter.widget-view+json": {
       "model_id": "13dc6a2c17ba485abd76ef1d2bac443b",
       "version_major": 2,
       "version_minor": 0
      },
      "text/plain": [
       "Output()"
      ]
     },
     "metadata": {},
     "output_type": "display_data"
    }
   ],
   "source": [
    "import numpy as np\n",
    "import matplotlib.pyplot as plt\n",
    "import ipywidgets as widgets\n",
    "from ipywidgets import VBox, Layout, IntSlider, FloatSlider, Dropdown, Output\n",
    "from numpy.fft import fft2, ifft2, fftshift\n",
    "from scipy.stats import norm\n",
    "\n",
    "# --- Widgets avec style ---\n",
    "slider_style = {'description_width': '160px'}\n",
    "slider_layout = Layout(width='400px')\n",
    "\n",
    "support_slider = IntSlider(min=0, max=50, step=1, value=1, description='Support (pixels)', style=slider_style, layout=slider_layout)\n",
    "range_x_slider = FloatSlider(min=1, max=50, step=1, value=15, description='Portée X ($a_x$)', style=slider_style, layout=slider_layout)\n",
    "range_y_slider = FloatSlider(min=1, max=50, step=1, value=15, description='Portée Y ($a_y$)', style=slider_style, layout=slider_layout)\n",
    "sill_slider = FloatSlider(min=0.1, max=10, step=0.1, value=1.0, description='$c_1$', style=slider_style, layout=slider_layout)\n",
    "nugget_slider = FloatSlider(min=0, max=1, step=0.01, value=0, description='Effet de pépite ($c_0$)', style=slider_style, layout=slider_layout)\n",
    "angle_slider = FloatSlider(min=0, max=180, step=1, value=30, description='Angle ($θ$)', style=slider_style, layout=slider_layout)\n",
    "model_dropdown = Dropdown(options=['Sphérique', 'Exponentiel', 'Gaussien'], value='Sphérique', description='Modèle', style=slider_style, layout=slider_layout)\n",
    "\n",
    "# --- Bouton pour lancer le calcul ---\n",
    "button = widgets.Button(description=\"Calculer\", button_style='success', layout=Layout(width='200px'))\n",
    "\n",
    "# --- Zone d'affichage graphique ---\n",
    "out = Output()\n",
    "\n",
    "# --- Fonction d’affichage ---\n",
    "def interactive_variance(support, range_x, range_y, sill, nugget, angle_deg, model_name):\n",
    "    if support > 50: support = 50\n",
    "    \n",
    "    field = fftma_simulation(\n",
    "        size=500,\n",
    "        range_x=range_x,\n",
    "        range_y=range_y,\n",
    "        sill=sill,\n",
    "        nugget=nugget,\n",
    "        angle_deg=angle_deg,\n",
    "        model_name=model_name,\n",
    "        seed=4263\n",
    "    )\n",
    "    field = normal_score_transform(field).reshape(field.shape)*np.sqrt(sill+nugget)\n",
    "    \n",
    "    plt.figure(figsize=(14,6))\n",
    "\n",
    "    agg = aggregate(field, support)\n",
    "\n",
    "    variance = sill + nugget\n",
    "    std_dev = np.sqrt(variance)\n",
    "    vmin = norm.ppf(0.05, loc=0, scale=std_dev)\n",
    "    vmax = norm.ppf(0.95, loc=0, scale=std_dev)\n",
    "\n",
    "    plt.subplot(1,2,1)\n",
    "    plt.imshow(agg, cmap='viridis', origin='lower', vmin=vmin, vmax=vmax)\n",
    "    plt.title(f'Champ agrégé, support = {support}x{support}')\n",
    "    plt.colorbar(label='Valeurs')\n",
    "    plt.axis('off')\n",
    "\n",
    "    max_support = 50\n",
    "    bsizes, var_exp = variance_blocks(field, max_support)\n",
    "\n",
    "    var_theo = [\n",
    "        theoretical_block_variance(\n",
    "            range_x=range_x, range_y=range_y, sill=sill,\n",
    "            nugget=nugget, block_size=b, pixel_size=0.05*b,\n",
    "            angle_deg=angle_deg, model_name=model_name\n",
    "        )\n",
    "        for b in bsizes\n",
    "    ]\n",
    "\n",
    "    plt.subplot(1,2,2)\n",
    "    plt.plot(bsizes, var_exp, 'o-', label='Variance expérimentale')\n",
    "    plt.plot(bsizes, var_theo, 's--', label='Variance théorique')\n",
    "    plt.axvline(support, color='red', linestyle=':', label=f'Support sélectionné = {support}')\n",
    "    plt.xlabel('Taille du support (pixels)')\n",
    "    plt.ylabel('Variance')\n",
    "    plt.title('Variance des blocs vs taille de support')\n",
    "    plt.legend(loc='upper right')\n",
    "    plt.grid(True)\n",
    "    plt.xlim(0, 50)\n",
    "    plt.ylim(0, sill + nugget)\n",
    "    plt.tight_layout()\n",
    "    plt.show()\n",
    "\n",
    "# --- Gestionnaire du clic sur le bouton ---\n",
    "def on_button_clicked(b):\n",
    "    with out:\n",
    "        out.clear_output(wait=True)\n",
    "        interactive_variance(\n",
    "            support_slider.value,\n",
    "            range_x_slider.value,\n",
    "            range_y_slider.value,\n",
    "            sill_slider.value,\n",
    "            nugget_slider.value,\n",
    "            angle_slider.value,\n",
    "            model_dropdown.value\n",
    "        )\n",
    "\n",
    "button.on_click(on_button_clicked)\n",
    "\n",
    "# --- Affichage interface ---\n",
    "ui = VBox([\n",
    "    support_slider,\n",
    "    range_x_slider,\n",
    "    range_y_slider,\n",
    "    sill_slider,\n",
    "    nugget_slider,\n",
    "    angle_slider,\n",
    "    model_dropdown,\n",
    "    button\n",
    "])\n",
    "\n",
    "display(ui, out)"
   ]
  },
  {
   "cell_type": "code",
   "execution_count": null,
   "id": "abf2490e-1121-4242-a90b-d55c7f0ec5fc",
   "metadata": {
    "editable": true,
    "slideshow": {
     "slide_type": ""
    },
    "tags": []
   },
   "outputs": [],
   "source": []
  }
 ],
 "metadata": {
  "kernelspec": {
   "display_name": "Python 3 (ipykernel)",
   "language": "python",
   "name": "python3"
  },
  "language_info": {
   "codemirror_mode": {
    "name": "ipython",
    "version": 3
   },
   "file_extension": ".py",
   "mimetype": "text/x-python",
   "name": "python",
   "nbconvert_exporter": "python",
   "pygments_lexer": "ipython3",
   "version": "3.11.11"
  }
 },
 "nbformat": 4,
 "nbformat_minor": 5
}
