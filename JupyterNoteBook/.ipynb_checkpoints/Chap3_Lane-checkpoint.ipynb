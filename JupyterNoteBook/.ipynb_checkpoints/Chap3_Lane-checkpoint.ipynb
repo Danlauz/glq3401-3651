{
 "cells": [
  {
   "cell_type": "markdown",
   "id": "a9e4a45d-63c5-44f7-907b-ecd7411d3429",
   "metadata": {
    "editable": true,
    "slideshow": {
     "slide_type": ""
    },
    "tags": []
   },
   "source": [
    "# Atelier 1 - Feuillet de calcul — Teneur de coupure optimale\n",
    "\n",
    "Ce module interactif vous permet d’explorer la théorie de **Lane et Taylor** pour déterminer les teneurs de coupure :\n",
    "\n",
    "- **Teneurs limites**  \n",
    "- **Teneurs d’équilibres**  \n",
    "- **Teneur optimale**\n",
    "\n",
    "### 🛠️ Instructions\n",
    "\n",
    "1. Activez l’activité ci-dessous.  \n",
    "2. Des champs apparaîtront pour saisir les **paramètres**.  \n",
    "3. Le **graphique dynamique** s’affichera automatiquement, illustrant les trois courbes de profits.\n",
    "\n",
    "💡 *Ce calculateur est un excellent outil pour valider vos travaux pratiques.*"
   ]
  },
  {
   "cell_type": "code",
   "execution_count": 18,
   "id": "4eee122f-8497-4dc2-8bd4-bcd47c20389b",
   "metadata": {
    "editable": true,
    "slideshow": {
     "slide_type": ""
    },
    "tags": [
     "hide-input"
    ]
   },
   "outputs": [
    {
     "data": {
      "application/vnd.jupyter.widget-view+json": {
       "model_id": "fbf2affd6f5d477c8d9debdca2c02013",
       "version_major": 2,
       "version_minor": 0
      },
      "text/plain": [
       "VBox(children=(HBox(children=(FloatText(value=1.32, description='Coût minage (m)', layout=Layout(width='210px'…"
      ]
     },
     "metadata": {},
     "output_type": "display_data"
    },
    {
     "data": {
      "application/vnd.jupyter.widget-view+json": {
       "model_id": "971e918fb5ae46e3a950dcf05f5b70b5",
       "version_major": 2,
       "version_minor": 0
      },
      "text/plain": [
       "Output()"
      ]
     },
     "metadata": {},
     "output_type": "display_data"
    }
   ],
   "source": [
    "import numpy as np\n",
    "import matplotlib.pyplot as plt\n",
    "from scipy.stats import norm\n",
    "import pandas as pd\n",
    "import ipywidgets as widgets\n",
    "from IPython.display import display\n",
    "\n",
    "# --- Fonctions ---\n",
    "def reserve(moy, s2, c, itype=1):\n",
    "    c = np.array(c)\n",
    "    m = moy\n",
    "    if itype == 1:\n",
    "        b = np.sqrt(np.log(s2 / m**2 + 1))\n",
    "        n1 = (np.log(m / c) / b) - b / 2\n",
    "        n2 = n1 + b\n",
    "        tc = norm.cdf(n1)\n",
    "        qc = m * norm.cdf(n2)\n",
    "        mc = qc / tc\n",
    "    else:\n",
    "        s = np.sqrt(s2)\n",
    "        tc = norm.cdf((m - c) / s)\n",
    "        qc = m * tc + s * norm.pdf((c - m) / s)\n",
    "        mc = qc / tc\n",
    "    return tc, qc, mc\n",
    "\n",
    "def lane(m, y, p, k, h, f, F, M, H, K, moy, s2):\n",
    "\n",
    "    # --- Coupures limites ---\n",
    "    cmax = moy + 0.5 * np.sqrt(s2)\n",
    "    cc = np.linspace(0.00001, cmax, 5000)\n",
    "    c1 = h / (y * (p - k)) * 100\n",
    "    c2 = (h + (f + F) / H) / ((p - k) * y) * 100\n",
    "    c3 = h / ((p - k) - (f + F) / K) / y * 100\n",
    "    cc = np.unique(np.concatenate((cc, [c1, c2, c3])))\n",
    "\n",
    "    # --- Calcul profits ---\n",
    "    tc, qc, mc = reserve(moy, s2, cc, itype=1)\n",
    "    tc_mc_y_pct = tc * mc * y / 100\n",
    "    v1 = (p - k) * tc_mc_y_pct - tc * h - m - (f + F) / M\n",
    "    v2 = (p - k) * tc_mc_y_pct - tc * h - m - (f + F) * tc / H\n",
    "    v3 = (p - k) * tc_mc_y_pct - tc * h - m - (f + F) * tc_mc_y_pct / K\n",
    "\n",
    "    # --- Solution optimale ---\n",
    "    v_min = np.minimum(np.minimum(v1, v2), v3)\n",
    "    idx_opt = np.argmax(v_min)\n",
    "    c_opt = cc[idx_opt]\n",
    "    profit_opt = v_min[idx_opt]\n",
    "\n",
    "    # --- Équilibres ---\n",
    "    ceq, veq = [], []\n",
    "    def check_equilibre(vA, vB):\n",
    "        diff = np.abs(vA - vB)\n",
    "        i_val = np.argmin(diff)\n",
    "        seuil = 10 * np.max(np.abs(np.diff(v1)))\n",
    "        if diff[i_val] < seuil:\n",
    "            ceq.append(cc[i_val])\n",
    "            veq.append(vA[i_val])\n",
    "    check_equilibre(v1, v2)\n",
    "    check_equilibre(v1, v3)\n",
    "    check_equilibre(v2, v3)\n",
    "\n",
    "    # --- Limites axes auto ---\n",
    "    x_points = [c1, c2, c3] + ceq + [c_opt]\n",
    "    y_points = [v1.max(), v2.max(), v3.max()] + veq + [profit_opt]\n",
    "    x_min_limit = min(x_points) - 0.05 * abs(min(x_points))\n",
    "    x_max_limit = max(x_points) + 0.05 * abs(max(x_points))\n",
    "    y_min_limit = min(y_points) - 0.05 * abs(min(y_points))\n",
    "    y_max_limit = max(y_points) + 0.05 * abs(max(y_points))\n",
    "    dy = 0.035 * (max(y_points) - min(y_points))\n",
    "\n",
    "    # --- Graphe ---\n",
    "    plt.figure(figsize=(9,5))\n",
    "    plt.plot(cc, v1, '-', label='Mine')\n",
    "    plt.plot(cc, v2, '--', label='Concentrateur')\n",
    "    plt.plot(cc, v3, ':', label='Marché')\n",
    "    plt.grid(True)\n",
    "    min_curve = np.minimum(np.minimum(v1, v2), v3)\n",
    "    plt.fill_between(cc, -100, min_curve, color='grey', alpha=0.3, hatch='///')\n",
    "\n",
    "    plt.title(f'Moyenne={moy}, Variance={s2}', fontsize=10)\n",
    "    plt.xlabel('Teneur de coupure (%)', fontsize=12)\n",
    "    plt.ylabel('Profit / t. minéralisée ($)', fontsize=12)\n",
    "\n",
    "    # --- Labels limites ---\n",
    "    labels_limites = ['C1','C2','C3']\n",
    "    v_limites = [v1.max(), v2.max(), v3.max()]\n",
    "    c_limites = [c1, c2, c3]\n",
    "    for c, v, label in zip(c_limites, v_limites, labels_limites):\n",
    "        plt.text(c, v+dy, label, fontsize=10, fontweight='bold', color='black')\n",
    "        plt.vlines(c, v, v+0.8*dy, colors='black', linewidth=1.1)\n",
    "\n",
    "    # --- Labels équilibres ---\n",
    "    labels_eq = ['$c_{12}$','$c_{13}$','$c_{23}$']\n",
    "    for c, v, label in zip(ceq, veq, labels_eq):\n",
    "        plt.text(c, v+dy, label, fontsize=10, fontweight='bold', color='red')\n",
    "        plt.vlines(c, v, v+0.8*dy, colors='red', linewidth=1.1)\n",
    "\n",
    "    plt.xlim(x_min_limit, x_max_limit)\n",
    "    plt.ylim(y_min_limit, y_max_limit)\n",
    "    plt.legend(fontsize=10)\n",
    "    plt.show()\n",
    "\n",
    "    # --- Tableau récap ---\n",
    "    rows = [\n",
    "        [\"Limite C1\", f\"{c1:.2f} %\", f\"{v1.max():.2f} $\", \"Mine\"],\n",
    "        [\"Limite C2\", f\"{c2:.2f} %\", f\"{v2.max():.2f} $\", \"Concentrateur\"],\n",
    "        [\"Limite C3\", f\"{c3:.2f} %\", f\"{v3.max():.2f} $\", \"Marché\"]\n",
    "    ]\n",
    "    for k,(i,j) in enumerate([(0,1),(0,2),(1,2)]):\n",
    "        if k < len(ceq):\n",
    "            rows.append([f\"Équilibre C{i+1}-C{j+1}\", f\"{ceq[k]:.2f} %\", f\"{veq[k]:.2f} $\", \"Équilibre\"])\n",
    "    df = pd.DataFrame(rows, columns=[\"Type de coupure\",\"Teneur\",\"Profit associé\",\"Remarque\"])\n",
    "    print(df.to_string(index=False))\n",
    "\n",
    "# --- Widgets ---\n",
    "style = {'description_width':'140px'}\n",
    "layout = widgets.Layout(width='210px')\n",
    "\n",
    "params = {\n",
    "    'm': widgets.FloatText(value=1.32, description='Coût minage (m)', style=style, layout=layout),\n",
    "    'y': widgets.FloatText(value=0.87, description='Taux récupération (y)', style=style, layout=layout),\n",
    "    'p': widgets.FloatText(value=600, description='Prix métal (p)', style=style, layout=layout),\n",
    "    'k': widgets.FloatText(value=0, description='Coût fonderie (k)', style=style, layout=layout),\n",
    "    'h': widgets.FloatText(value=3.41, description='Coût traitement (h)', style=style, layout=layout),\n",
    "    'f': widgets.FloatText(value=11.9, description='Frais fixes (f)', style=style, layout=layout),\n",
    "    'F': widgets.FloatText(value=0, description='Coût opportunité (F)', style=style, layout=layout),\n",
    "    'M': widgets.FloatText(value=12, description='Capacité minage (M)', style=style, layout=layout),\n",
    "    'H': widgets.FloatText(value=3.9, description='Capacité traitement (H)', style=style, layout=layout),\n",
    "    'K': widgets.FloatText(value=0.085, description='Capacité marché (K)', style=style, layout=layout),\n",
    "    'moy': widgets.FloatText(value=1, description='Moyenne (%)', style=style, layout=layout),\n",
    "    's2': widgets.FloatText(value=4, description='Variance (%)²', style=style, layout=layout),\n",
    "}\n",
    "\n",
    "ui = widgets.VBox([\n",
    "    widgets.HBox([params['m'], params['y'], params['p']]),\n",
    "    widgets.HBox([params['k'], params['h'], params['f']]),\n",
    "    widgets.HBox([params['F'], params['M'], params['H']]),\n",
    "    widgets.HBox([params['K'], params['moy'], params['s2']])\n",
    "])\n",
    "\n",
    "out = widgets.Output()\n",
    "\n",
    "def update_plot(change=None):\n",
    "    with out:\n",
    "        out.clear_output(wait=True)\n",
    "        lane(\n",
    "            m=params['m'].value, y=params['y'].value, p=params['p'].value, k=params['k'].value,\n",
    "            h=params['h'].value, f=params['f'].value, F=params['F'].value, M=params['M'].value,\n",
    "            H=params['H'].value, K=params['K'].value, moy=params['moy'].value, s2=params['s2'].value\n",
    "        )\n",
    "\n",
    "for widget in params.values():\n",
    "    widget.observe(update_plot, names='value')\n",
    "\n",
    "display(ui, out)\n",
    "update_plot()\n",
    "\n",
    "\n"
   ]
  },
  {
   "cell_type": "code",
   "execution_count": null,
   "id": "2cc5b12a-5523-4adf-a2f7-93ddbf848381",
   "metadata": {
    "editable": true,
    "slideshow": {
     "slide_type": ""
    },
    "tags": []
   },
   "outputs": [],
   "source": []
  }
 ],
 "metadata": {
  "kernelspec": {
   "display_name": "Python 3 (ipykernel)",
   "language": "python",
   "name": "python3"
  },
  "language_info": {
   "codemirror_mode": {
    "name": "ipython",
    "version": 3
   },
   "file_extension": ".py",
   "mimetype": "text/x-python",
   "name": "python",
   "nbconvert_exporter": "python",
   "pygments_lexer": "ipython3",
   "version": "3.11.11"
  }
 },
 "nbformat": 4,
 "nbformat_minor": 5
}
