{
 "cells": [
  {
   "cell_type": "markdown",
   "id": "678cc662-f6c1-4dfd-838b-5651db52173d",
   "metadata": {
    "editable": true,
    "slideshow": {
     "slide_type": ""
    },
    "tags": []
   },
   "source": [
    "# 🌟 Atelier interactif\n",
    "\n",
    "🧭 Guide interactif - variance de blocs, de dispersions et d'erreurs\n",
    "\n",
    "1. 🧩 SCÉNARIO 1 : Introduction à la variance de blocs\n",
    "Montrer comment la dépendance spatiale s'atténue avec la taille du support (**effet de support**).\n",
    "\n",
    "2. 🧩 SCÉNARIO 2 : Discrétisation de la variance de bloc\n",
    "Étudier l’influence de la discrétisation spatiale sur la précision du calcul de la variance de blocs à partir d’un modèle de covariance.\n",
    "\n",
    "3. 🧩 SCÉNARIO 3 : Calculateur de variance de blocs  \n",
    "Outil informatique pour calculer la variance de bloc."
   ]
  },
  {
   "cell_type": "code",
   "execution_count": null,
   "id": "c2390efa-069e-4a50-8a3e-8f32d2b9751f",
   "metadata": {},
   "outputs": [],
   "source": []
  }
 ],
 "metadata": {
  "kernelspec": {
   "display_name": "Python 3 (ipykernel)",
   "language": "python",
   "name": "python3"
  },
  "language_info": {
   "codemirror_mode": {
    "name": "ipython",
    "version": 3
   },
   "file_extension": ".py",
   "mimetype": "text/x-python",
   "name": "python",
   "nbconvert_exporter": "python",
   "pygments_lexer": "ipython3",
   "version": "3.11.11"
  }
 },
 "nbformat": 4,
 "nbformat_minor": 5
}
