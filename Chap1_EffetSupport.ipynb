# -*- coding: utf-8 -*-
"""
Created on Sun May 25 20:41:57 2025

@author: dany-
"""

