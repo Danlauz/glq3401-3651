{
  "cells": [
    {
      "cell_type": "markdown",
      "metadata": {},
      "source": [
        "# Exemple simple d'ipywidgets\n",
        "\n",
        "Ce notebook affiche un slider interactif."
      ]
    },
    {
      "cell_type": "code",
      "execution_count": null,
      "metadata": {},
      "outputs": [],
      "source": [
        "import ipywidgets as widgets\n",
        "from IPython.display import display\n",
        "\n",
        "slider = widgets.IntSlider(value=50, min=0, max=100, step=1, description='Valeur:')\n",
        "\n",
        "def on_value_change(change):\n",
        "    print(f'Valeur du slider : {change.new}')\n",
        "\n",
        "slider.observe(on_value_change, names='value')\n",
        "\n",
        "display(slider)"
      ]
    }
  ],
  "metadata": {
    "kernelspec": {
      "display_name": "Python 3",
      "language": "python",
      "name": "python3"
    },
    "language_info": {
      "name": "python",
      "version": "3.x"
    }
  },
  "nbformat": 4,
  "nbformat_minor": 5
}